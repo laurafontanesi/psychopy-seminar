{
 "cells": [
  {
   "cell_type": "markdown",
   "id": "mediterranean-anaheim",
   "metadata": {},
   "source": [
    "# Intro to built-in data types and numpy arrays"
   ]
  },
  {
   "cell_type": "markdown",
   "id": "prepared-venezuela",
   "metadata": {},
   "source": [
    "First of all, activate the `psychopy` conda envirornment (from the Terminal or Anaconda Prompt: `conda activate psychopy`, or from the Anaconda navigator) and let's check that `numpy` is installed."
   ]
  },
  {
   "cell_type": "code",
   "execution_count": 1,
   "id": "sacred-depression",
   "metadata": {},
   "outputs": [],
   "source": [
    "import numpy as np"
   ]
  },
  {
   "cell_type": "markdown",
   "id": "supposed-boutique",
   "metadata": {},
   "source": [
    "## 1. Built-in Python data types"
   ]
  },
  {
   "cell_type": "markdown",
   "id": "speaking-wheat",
   "metadata": {},
   "source": [
    "Text and numeric types:"
   ]
  },
  {
   "cell_type": "code",
   "execution_count": 2,
   "id": "appreciated-partnership",
   "metadata": {},
   "outputs": [
    {
     "data": {
      "text/plain": [
       "str"
      ]
     },
     "execution_count": 2,
     "metadata": {},
     "output_type": "execute_result"
    }
   ],
   "source": [
    "text = \"ciao\"\n",
    "type(text)"
   ]
  },
  {
   "cell_type": "code",
   "execution_count": 3,
   "id": "available-american",
   "metadata": {},
   "outputs": [
    {
     "data": {
      "text/plain": [
       "int"
      ]
     },
     "execution_count": 3,
     "metadata": {},
     "output_type": "execute_result"
    }
   ],
   "source": [
    "number = 3\n",
    "type(number)"
   ]
  },
  {
   "cell_type": "code",
   "execution_count": 4,
   "id": "corresponding-familiar",
   "metadata": {},
   "outputs": [
    {
     "data": {
      "text/plain": [
       "float"
      ]
     },
     "execution_count": 4,
     "metadata": {},
     "output_type": "execute_result"
    }
   ],
   "source": [
    "another_number = 3.2\n",
    "type(another_number)"
   ]
  },
  {
   "cell_type": "markdown",
   "id": "encouraging-hamburg",
   "metadata": {},
   "source": [
    "Booleans are truth statements:"
   ]
  },
  {
   "cell_type": "code",
   "execution_count": 5,
   "id": "stunning-prevention",
   "metadata": {},
   "outputs": [
    {
     "data": {
      "text/plain": [
       "False"
      ]
     },
     "execution_count": 5,
     "metadata": {},
     "output_type": "execute_result"
    }
   ],
   "source": [
    "number > 3"
   ]
  },
  {
   "cell_type": "code",
   "execution_count": 6,
   "id": "corresponding-revolution",
   "metadata": {},
   "outputs": [
    {
     "data": {
      "text/plain": [
       "False"
      ]
     },
     "execution_count": 6,
     "metadata": {},
     "output_type": "execute_result"
    }
   ],
   "source": [
    "boolean = number < 3\n",
    "boolean"
   ]
  },
  {
   "cell_type": "code",
   "execution_count": 7,
   "id": "diagnostic-effort",
   "metadata": {},
   "outputs": [
    {
     "data": {
      "text/plain": [
       "bool"
      ]
     },
     "execution_count": 7,
     "metadata": {},
     "output_type": "execute_result"
    }
   ],
   "source": [
    "type(boolean)"
   ]
  },
  {
   "cell_type": "markdown",
   "id": "moderate-method",
   "metadata": {},
   "source": [
    "Sequences and mappings:\n",
    "\n",
    "- List is a collection which is ordered and changeable. Allows duplicate members.\n",
    "- Tuple is a collection which is ordered and unchangeable. Allows duplicate members.\n",
    "- Dictionary is a collection which is unordered and changeable. No duplicate members."
   ]
  },
  {
   "cell_type": "code",
   "execution_count": 8,
   "id": "affecting-steel",
   "metadata": {},
   "outputs": [
    {
     "data": {
      "text/plain": [
       "list"
      ]
     },
     "execution_count": 8,
     "metadata": {},
     "output_type": "execute_result"
    }
   ],
   "source": [
    "a_list = [1, 2, 3]\n",
    "type(a_list)"
   ]
  },
  {
   "cell_type": "code",
   "execution_count": 9,
   "id": "connected-multimedia",
   "metadata": {},
   "outputs": [
    {
     "data": {
      "text/plain": [
       "tuple"
      ]
     },
     "execution_count": 9,
     "metadata": {},
     "output_type": "execute_result"
    }
   ],
   "source": [
    "a_tuple = (2, \"b\")\n",
    "type(a_tuple)"
   ]
  },
  {
   "cell_type": "code",
   "execution_count": 10,
   "id": "iraqi-arthritis",
   "metadata": {},
   "outputs": [
    {
     "data": {
      "text/plain": [
       "dict"
      ]
     },
     "execution_count": 10,
     "metadata": {},
     "output_type": "execute_result"
    }
   ],
   "source": [
    "a_dictionary = {\"age\": 25, \"height\": 180, \"measurements\": [8, 6, 15]}\n",
    "type(a_dictionary)"
   ]
  },
  {
   "cell_type": "markdown",
   "id": "announced-possibility",
   "metadata": {},
   "source": [
    "## 2. Lists"
   ]
  },
  {
   "cell_type": "code",
   "execution_count": 11,
   "id": "auburn-southeast",
   "metadata": {},
   "outputs": [
    {
     "data": {
      "text/plain": [
       "[1, 2, 3, 4]"
      ]
     },
     "execution_count": 11,
     "metadata": {},
     "output_type": "execute_result"
    }
   ],
   "source": [
    "list_of_int = [1, 2, 3, 4]\n",
    "list_of_int"
   ]
  },
  {
   "cell_type": "code",
   "execution_count": 12,
   "id": "written-longer",
   "metadata": {},
   "outputs": [
    {
     "data": {
      "text/plain": [
       "['a', 'b', 'c', 'defgh']"
      ]
     },
     "execution_count": 12,
     "metadata": {},
     "output_type": "execute_result"
    }
   ],
   "source": [
    "list_of_str = ['a', 'b', 'c', 'defgh']\n",
    "list_of_str"
   ]
  },
  {
   "cell_type": "code",
   "execution_count": 13,
   "id": "afraid-sugar",
   "metadata": {},
   "outputs": [
    {
     "data": {
      "text/plain": [
       "[True, False, True, True]"
      ]
     },
     "execution_count": 13,
     "metadata": {},
     "output_type": "execute_result"
    }
   ],
   "source": [
    "list_of_bool = [True, False, True, True]\n",
    "list_of_bool"
   ]
  },
  {
   "cell_type": "code",
   "execution_count": 14,
   "id": "educational-chess",
   "metadata": {},
   "outputs": [
    {
     "data": {
      "text/plain": [
       "[0.1, 1, 2.1, 3.4]"
      ]
     },
     "execution_count": 14,
     "metadata": {},
     "output_type": "execute_result"
    }
   ],
   "source": [
    "list_of_float = [0.1, 1, 2.1, 3.4]\n",
    "list_of_float"
   ]
  },
  {
   "cell_type": "code",
   "execution_count": 15,
   "id": "lonely-pride",
   "metadata": {},
   "outputs": [
    {
     "data": {
      "text/plain": [
       "1"
      ]
     },
     "execution_count": 15,
     "metadata": {},
     "output_type": "execute_result"
    }
   ],
   "source": [
    "list_of_int[0] # first element of a list"
   ]
  },
  {
   "cell_type": "code",
   "execution_count": 16,
   "id": "collaborative-residence",
   "metadata": {},
   "outputs": [
    {
     "data": {
      "text/plain": [
       "list"
      ]
     },
     "execution_count": 16,
     "metadata": {},
     "output_type": "execute_result"
    }
   ],
   "source": [
    "type(list_of_bool)"
   ]
  },
  {
   "cell_type": "code",
   "execution_count": 17,
   "id": "rental-shell",
   "metadata": {},
   "outputs": [
    {
     "data": {
      "text/plain": [
       "(int, float)"
      ]
     },
     "execution_count": 17,
     "metadata": {},
     "output_type": "execute_result"
    }
   ],
   "source": [
    "type(list_of_float[1]), type(list_of_float[2]) # list can contain different data types"
   ]
  },
  {
   "cell_type": "code",
   "execution_count": 18,
   "id": "spiritual-literacy",
   "metadata": {},
   "outputs": [
    {
     "data": {
      "text/plain": [
       "4"
      ]
     },
     "execution_count": 18,
     "metadata": {},
     "output_type": "execute_result"
    }
   ],
   "source": [
    "len(list_of_float) # how many elements are in this list?"
   ]
  },
  {
   "cell_type": "code",
   "execution_count": 19,
   "id": "warming-albuquerque",
   "metadata": {},
   "outputs": [
    {
     "data": {
      "text/plain": [
       "[0.1, 1, 2.1, 3.4, 0.1, 1, 2.1, 3.4, 0.1, 1, 2.1, 3.4]"
      ]
     },
     "execution_count": 19,
     "metadata": {},
     "output_type": "execute_result"
    }
   ],
   "source": [
    "list_of_float*3 # stack the same list"
   ]
  },
  {
   "cell_type": "code",
   "execution_count": 20,
   "id": "asian-privacy",
   "metadata": {},
   "outputs": [
    {
     "data": {
      "text/plain": [
       "[0.1, 1, 2.1, 3.4, True, False, True, True, 0.1, 1, 2.1, 3.4]"
      ]
     },
     "execution_count": 20,
     "metadata": {},
     "output_type": "execute_result"
    }
   ],
   "source": [
    "list_of_float + list_of_bool + list_of_float # stack different lists"
   ]
  },
  {
   "cell_type": "code",
   "execution_count": 21,
   "id": "biological-drama",
   "metadata": {},
   "outputs": [
    {
     "data": {
      "text/plain": [
       "[0.1, 1, 2.1, 3.4]"
      ]
     },
     "execution_count": 21,
     "metadata": {},
     "output_type": "execute_result"
    }
   ],
   "source": [
    "list_of_float # the original does not change!"
   ]
  },
  {
   "cell_type": "code",
   "execution_count": 22,
   "id": "adult-poultry",
   "metadata": {},
   "outputs": [],
   "source": [
    "list_of_float.append(list_of_bool) # add elements at the end"
   ]
  },
  {
   "cell_type": "code",
   "execution_count": 23,
   "id": "seasonal-montgomery",
   "metadata": {},
   "outputs": [
    {
     "data": {
      "text/plain": [
       "[0.1, 1, 2.1, 3.4, [True, False, True, True]]"
      ]
     },
     "execution_count": 23,
     "metadata": {},
     "output_type": "execute_result"
    }
   ],
   "source": [
    "list_of_float # the original changed!"
   ]
  },
  {
   "cell_type": "code",
   "execution_count": 24,
   "id": "dominican-spanking",
   "metadata": {},
   "outputs": [
    {
     "data": {
      "text/plain": [
       "5"
      ]
     },
     "execution_count": 24,
     "metadata": {},
     "output_type": "execute_result"
    }
   ],
   "source": [
    "len(list_of_float) # we appended a list as an element"
   ]
  },
  {
   "cell_type": "code",
   "execution_count": 25,
   "id": "developing-foster",
   "metadata": {},
   "outputs": [],
   "source": [
    "for i in list_of_str: # now we append every element one at a time\n",
    "    list_of_int.append(i)"
   ]
  },
  {
   "cell_type": "code",
   "execution_count": 26,
   "id": "informative-creativity",
   "metadata": {},
   "outputs": [
    {
     "data": {
      "text/plain": [
       "[1, 2, 3, 4, 'a', 'b', 'c', 'defgh']"
      ]
     },
     "execution_count": 26,
     "metadata": {},
     "output_type": "execute_result"
    }
   ],
   "source": [
    "list_of_int"
   ]
  },
  {
   "cell_type": "code",
   "execution_count": 27,
   "id": "detected-throat",
   "metadata": {},
   "outputs": [
    {
     "ename": "TypeError",
     "evalue": "'<' not supported between instances of 'str' and 'int'",
     "output_type": "error",
     "traceback": [
      "\u001b[0;31m---------------------------------------------------------------------------\u001b[0m",
      "\u001b[0;31mTypeError\u001b[0m                                 Traceback (most recent call last)",
      "\u001b[0;32m<ipython-input-27-7a96fa07643c>\u001b[0m in \u001b[0;36m<module>\u001b[0;34m()\u001b[0m\n\u001b[0;32m----> 1\u001b[0;31m \u001b[0mlist_of_int\u001b[0m\u001b[0;34m.\u001b[0m\u001b[0msort\u001b[0m\u001b[0;34m(\u001b[0m\u001b[0;34m)\u001b[0m \u001b[0;31m# you cannot sort the list when the elements are of different type though\u001b[0m\u001b[0;34m\u001b[0m\u001b[0;34m\u001b[0m\u001b[0m\n\u001b[0m",
      "\u001b[0;31mTypeError\u001b[0m: '<' not supported between instances of 'str' and 'int'"
     ]
    }
   ],
   "source": [
    "list_of_int.sort() # you cannot sort the list when the elements are of different type though"
   ]
  },
  {
   "cell_type": "code",
   "execution_count": 28,
   "id": "animal-tracker",
   "metadata": {},
   "outputs": [],
   "source": [
    "list_of_int = [2, 15, 6, 1]"
   ]
  },
  {
   "cell_type": "code",
   "execution_count": 29,
   "id": "incorporated-amount",
   "metadata": {},
   "outputs": [],
   "source": [
    "list_of_int.sort()"
   ]
  },
  {
   "cell_type": "code",
   "execution_count": 30,
   "id": "unsigned-arcade",
   "metadata": {},
   "outputs": [
    {
     "data": {
      "text/plain": [
       "[1, 2, 6, 15]"
      ]
     },
     "execution_count": 30,
     "metadata": {},
     "output_type": "execute_result"
    }
   ],
   "source": [
    "list_of_int"
   ]
  },
  {
   "cell_type": "code",
   "execution_count": 31,
   "id": "opposite-natural",
   "metadata": {},
   "outputs": [
    {
     "data": {
      "text/plain": [
       "[15, 6, 2, 1]"
      ]
     },
     "execution_count": 31,
     "metadata": {},
     "output_type": "execute_result"
    }
   ],
   "source": [
    "list_of_int.reverse() # reverse the order!\n",
    "list_of_int"
   ]
  },
  {
   "cell_type": "code",
   "execution_count": 32,
   "id": "collect-sally",
   "metadata": {},
   "outputs": [
    {
     "data": {
      "text/plain": [
       "[6, 2, 1]"
      ]
     },
     "execution_count": 32,
     "metadata": {},
     "output_type": "execute_result"
    }
   ],
   "source": [
    "list_of_int.remove(15) # remove a specific element\n",
    "list_of_int"
   ]
  },
  {
   "cell_type": "code",
   "execution_count": 33,
   "id": "honest-vintage",
   "metadata": {},
   "outputs": [
    {
     "data": {
      "text/plain": [
       "[6, 2, 34, 1]"
      ]
     },
     "execution_count": 33,
     "metadata": {},
     "output_type": "execute_result"
    }
   ],
   "source": [
    "list_of_int.insert(2, 34) # insert a specific element in a certain position\n",
    "list_of_int"
   ]
  },
  {
   "cell_type": "code",
   "execution_count": 34,
   "id": "beneficial-tongue",
   "metadata": {},
   "outputs": [
    {
     "data": {
      "text/plain": [
       "[6, 2, 1]"
      ]
     },
     "execution_count": 34,
     "metadata": {},
     "output_type": "execute_result"
    }
   ],
   "source": [
    "list_of_int.pop(2) # remove a specific element in a certain position\n",
    "list_of_int"
   ]
  },
  {
   "cell_type": "markdown",
   "id": "solved-reviewer",
   "metadata": {},
   "source": [
    "## 3. Dictionaries"
   ]
  },
  {
   "cell_type": "code",
   "execution_count": 35,
   "id": "framed-latter",
   "metadata": {},
   "outputs": [],
   "source": [
    "auto = {'model': 'PEUGEOT 308',\n",
    "        'CHF': 10500,\n",
    "        'where': 'Dietikon',\n",
    "        'km': 86000,\n",
    "        'fuel': 'diesel',\n",
    "        'ccm': 1560\n",
    "       }"
   ]
  },
  {
   "cell_type": "code",
   "execution_count": 36,
   "id": "jewish-spectrum",
   "metadata": {},
   "outputs": [
    {
     "data": {
      "text/plain": [
       "dict_values(['PEUGEOT 308', 10500, 'Dietikon', 86000, 'diesel', 1560])"
      ]
     },
     "execution_count": 36,
     "metadata": {},
     "output_type": "execute_result"
    }
   ],
   "source": [
    "auto.values()"
   ]
  },
  {
   "cell_type": "code",
   "execution_count": 37,
   "id": "correct-links",
   "metadata": {},
   "outputs": [
    {
     "data": {
      "text/plain": [
       "dict_keys(['model', 'CHF', 'where', 'km', 'fuel', 'ccm'])"
      ]
     },
     "execution_count": 37,
     "metadata": {},
     "output_type": "execute_result"
    }
   ],
   "source": [
    "auto.keys()"
   ]
  },
  {
   "cell_type": "code",
   "execution_count": 38,
   "id": "medieval-speaker",
   "metadata": {},
   "outputs": [
    {
     "data": {
      "text/plain": [
       "dict_items([('model', 'PEUGEOT 308'), ('CHF', 10500), ('where', 'Dietikon'), ('km', 86000), ('fuel', 'diesel'), ('ccm', 1560)])"
      ]
     },
     "execution_count": 38,
     "metadata": {},
     "output_type": "execute_result"
    }
   ],
   "source": [
    "auto.items()"
   ]
  },
  {
   "cell_type": "code",
   "execution_count": 39,
   "id": "international-editing",
   "metadata": {},
   "outputs": [
    {
     "name": "stdout",
     "output_type": "stream",
     "text": [
      "<class 'tuple'>\n",
      "<class 'tuple'>\n",
      "<class 'tuple'>\n",
      "<class 'tuple'>\n",
      "<class 'tuple'>\n",
      "<class 'tuple'>\n"
     ]
    }
   ],
   "source": [
    "for i in auto.items():\n",
    "    print(type(i))"
   ]
  },
  {
   "cell_type": "code",
   "execution_count": 40,
   "id": "guilty-expense",
   "metadata": {},
   "outputs": [
    {
     "name": "stdout",
     "output_type": "stream",
     "text": [
      "model\n",
      "CHF\n",
      "where\n",
      "km\n",
      "fuel\n",
      "ccm\n"
     ]
    }
   ],
   "source": [
    "for i in auto:\n",
    "    print(i)"
   ]
  },
  {
   "cell_type": "code",
   "execution_count": 41,
   "id": "precious-monkey",
   "metadata": {},
   "outputs": [
    {
     "name": "stdout",
     "output_type": "stream",
     "text": [
      "PEUGEOT 308\n",
      "10500\n",
      "Dietikon\n",
      "86000\n",
      "diesel\n",
      "1560\n"
     ]
    }
   ],
   "source": [
    "for i in auto:\n",
    "    print(auto[i])"
   ]
  },
  {
   "cell_type": "code",
   "execution_count": 42,
   "id": "exceptional-stopping",
   "metadata": {},
   "outputs": [
    {
     "name": "stdout",
     "output_type": "stream",
     "text": [
      "model PEUGEOT 308\n",
      "CHF 10500\n",
      "where Dietikon\n",
      "km 86000\n",
      "fuel diesel\n",
      "ccm 1560\n"
     ]
    }
   ],
   "source": [
    "for i in auto:\n",
    "    print(i, auto[i])"
   ]
  },
  {
   "cell_type": "code",
   "execution_count": 43,
   "id": "continuing-clark",
   "metadata": {},
   "outputs": [
    {
     "data": {
      "text/plain": [
       "6"
      ]
     },
     "execution_count": 43,
     "metadata": {},
     "output_type": "execute_result"
    }
   ],
   "source": [
    "len(auto) # how many items?"
   ]
  },
  {
   "cell_type": "code",
   "execution_count": 44,
   "id": "flush-locking",
   "metadata": {},
   "outputs": [
    {
     "data": {
      "text/plain": [
       "'PEUGEOT 308'"
      ]
     },
     "execution_count": 44,
     "metadata": {},
     "output_type": "execute_result"
    }
   ],
   "source": [
    "auto['model'] # get value corresponding to a key"
   ]
  },
  {
   "cell_type": "code",
   "execution_count": 45,
   "id": "metropolitan-hello",
   "metadata": {},
   "outputs": [
    {
     "data": {
      "text/plain": [
       "{'model': 'PEUGEOT 308',\n",
       " 'CHF': 10500,\n",
       " 'where': 'Dietikon',\n",
       " 'km': 90000,\n",
       " 'fuel': 'diesel',\n",
       " 'ccm': 1560}"
      ]
     },
     "execution_count": 45,
     "metadata": {},
     "output_type": "execute_result"
    }
   ],
   "source": [
    "auto['km'] = 90000 # change a value\n",
    "auto"
   ]
  },
  {
   "cell_type": "code",
   "execution_count": 46,
   "id": "future-industry",
   "metadata": {},
   "outputs": [
    {
     "data": {
      "text/plain": [
       "{'model': 'PEUGEOT 308',\n",
       " 'CHF': 10500,\n",
       " 'where': 'Dietikon',\n",
       " 'km': 90000,\n",
       " 'fuel': 'diesel',\n",
       " 'ccm': 1560,\n",
       " 'color': 'blue'}"
      ]
     },
     "execution_count": 46,
     "metadata": {},
     "output_type": "execute_result"
    }
   ],
   "source": [
    "auto['color'] = 'blue' # add an item\n",
    "auto"
   ]
  },
  {
   "cell_type": "code",
   "execution_count": 47,
   "id": "skilled-washer",
   "metadata": {},
   "outputs": [
    {
     "data": {
      "text/plain": [
       "True"
      ]
     },
     "execution_count": 47,
     "metadata": {},
     "output_type": "execute_result"
    }
   ],
   "source": [
    "'color' in auto # is a key in the dic?"
   ]
  },
  {
   "cell_type": "code",
   "execution_count": 48,
   "id": "acknowledged-steering",
   "metadata": {},
   "outputs": [
    {
     "data": {
      "text/plain": [
       "{'model': 'PEUGEOT 308',\n",
       " 'where': 'Dietikon',\n",
       " 'km': 90000,\n",
       " 'fuel': 'diesel',\n",
       " 'ccm': 1560,\n",
       " 'color': 'blue'}"
      ]
     },
     "execution_count": 48,
     "metadata": {},
     "output_type": "execute_result"
    }
   ],
   "source": [
    "auto.pop(\"CHF\") # remove an item\n",
    "auto"
   ]
  },
  {
   "cell_type": "markdown",
   "id": "vital-remainder",
   "metadata": {},
   "source": [
    "## 4. Creating a numpy array "
   ]
  },
  {
   "cell_type": "code",
   "execution_count": 49,
   "id": "varying-bunch",
   "metadata": {},
   "outputs": [
    {
     "ename": "TypeError",
     "evalue": "Required argument 'object' (pos 1) not found",
     "output_type": "error",
     "traceback": [
      "\u001b[0;31m---------------------------------------------------------------------------\u001b[0m",
      "\u001b[0;31mTypeError\u001b[0m                                 Traceback (most recent call last)",
      "\u001b[0;32m<ipython-input-49-054a4a8ee09d>\u001b[0m in \u001b[0;36m<module>\u001b[0;34m()\u001b[0m\n\u001b[0;32m----> 1\u001b[0;31m \u001b[0mnp\u001b[0m\u001b[0;34m.\u001b[0m\u001b[0marray\u001b[0m\u001b[0;34m(\u001b[0m\u001b[0;34m)\u001b[0m\u001b[0;34m\u001b[0m\u001b[0;34m\u001b[0m\u001b[0m\n\u001b[0m",
      "\u001b[0;31mTypeError\u001b[0m: Required argument 'object' (pos 1) not found"
     ]
    }
   ],
   "source": [
    "np.array() "
   ]
  },
  {
   "cell_type": "raw",
   "id": "cooked-visitor",
   "metadata": {},
   "source": [
    "np.array?"
   ]
  },
  {
   "cell_type": "code",
   "execution_count": 50,
   "id": "aging-optics",
   "metadata": {},
   "outputs": [
    {
     "data": {
      "text/plain": [
       "array([], dtype=float64)"
      ]
     },
     "execution_count": 50,
     "metadata": {},
     "output_type": "execute_result"
    }
   ],
   "source": [
    "first_array = np.array([])\n",
    "first_array"
   ]
  },
  {
   "cell_type": "code",
   "execution_count": 51,
   "id": "understanding-offset",
   "metadata": {},
   "outputs": [
    {
     "data": {
      "text/plain": [
       "array([1, 2, 3, 4])"
      ]
     },
     "execution_count": 51,
     "metadata": {},
     "output_type": "execute_result"
    }
   ],
   "source": [
    "int_array = np.array([1, 2, 3, 4])\n",
    "int_array"
   ]
  },
  {
   "cell_type": "code",
   "execution_count": 52,
   "id": "electronic-howard",
   "metadata": {},
   "outputs": [
    {
     "data": {
      "text/plain": [
       "dtype('int64')"
      ]
     },
     "execution_count": 52,
     "metadata": {},
     "output_type": "execute_result"
    }
   ],
   "source": [
    "int_array.dtype"
   ]
  },
  {
   "cell_type": "code",
   "execution_count": 92,
   "id": "generous-arrow",
   "metadata": {},
   "outputs": [
    {
     "data": {
      "text/plain": [
       "dtype('<U1')"
      ]
     },
     "execution_count": 92,
     "metadata": {},
     "output_type": "execute_result"
    }
   ],
   "source": [
    "str_array = np.array(['a', 'b', 'c', 'd', 'e'])\n",
    "str_array.dtype"
   ]
  },
  {
   "cell_type": "code",
   "execution_count": 96,
   "id": "opponent-looking",
   "metadata": {},
   "outputs": [
    {
     "data": {
      "text/plain": [
       "dtype('<U4')"
      ]
     },
     "execution_count": 96,
     "metadata": {},
     "output_type": "execute_result"
    }
   ],
   "source": [
    "str_array = np.array(['aerf', 'B1', 'c', 'd', 'e'])\n",
    "str_array.dtype"
   ]
  },
  {
   "cell_type": "code",
   "execution_count": 53,
   "id": "floppy-sympathy",
   "metadata": {},
   "outputs": [
    {
     "data": {
      "text/plain": [
       "(numpy.ndarray, numpy.ndarray)"
      ]
     },
     "execution_count": 53,
     "metadata": {},
     "output_type": "execute_result"
    }
   ],
   "source": [
    "type(int_array), type(first_array), type(str_array)"
   ]
  },
  {
   "cell_type": "code",
   "execution_count": 54,
   "id": "separate-listening",
   "metadata": {},
   "outputs": [
    {
     "data": {
      "text/plain": [
       "1"
      ]
     },
     "execution_count": 54,
     "metadata": {},
     "output_type": "execute_result"
    }
   ],
   "source": [
    "int_array[0] # access the first element"
   ]
  },
  {
   "cell_type": "code",
   "execution_count": 74,
   "id": "hispanic-inventory",
   "metadata": {},
   "outputs": [
    {
     "data": {
      "text/plain": [
       "array([[1. , 2. , 3. ],\n",
       "       [4.1, 5. , 6. ]])"
      ]
     },
     "execution_count": 74,
     "metadata": {},
     "output_type": "execute_result"
    }
   ],
   "source": [
    "more_dimensions = np.array([[1, 2, 3], [4.1, 5, 6]])\n",
    "more_dimensions"
   ]
  },
  {
   "cell_type": "code",
   "execution_count": 89,
   "id": "returning-train",
   "metadata": {},
   "outputs": [
    {
     "data": {
      "text/plain": [
       "3.0"
      ]
     },
     "execution_count": 89,
     "metadata": {},
     "output_type": "execute_result"
    }
   ],
   "source": [
    "more_dimensions[0, 2] # access elements in a 2D array"
   ]
  },
  {
   "cell_type": "code",
   "execution_count": 90,
   "id": "infectious-earth",
   "metadata": {},
   "outputs": [
    {
     "data": {
      "text/plain": [
       "array([[1., 2., 3.],\n",
       "       [4., 5., 6.]])"
      ]
     },
     "execution_count": 90,
     "metadata": {},
     "output_type": "execute_result"
    }
   ],
   "source": [
    "more_dimensions[1, 0] = 4 # change an element\n",
    "more_dimensions"
   ]
  },
  {
   "cell_type": "code",
   "execution_count": 75,
   "id": "binary-speech",
   "metadata": {},
   "outputs": [
    {
     "data": {
      "text/plain": [
       "dtype('float64')"
      ]
     },
     "execution_count": 75,
     "metadata": {},
     "output_type": "execute_result"
    }
   ],
   "source": [
    "more_dimensions.dtype # differently from lists, the elements of an array must all have same type"
   ]
  },
  {
   "cell_type": "code",
   "execution_count": 91,
   "id": "civic-partnership",
   "metadata": {},
   "outputs": [
    {
     "data": {
      "text/plain": [
       "array([[1, 2, 3],\n",
       "       [4, 5, 6]])"
      ]
     },
     "execution_count": 91,
     "metadata": {},
     "output_type": "execute_result"
    }
   ],
   "source": [
    "more_dimensions.astype(int) # change type"
   ]
  },
  {
   "cell_type": "code",
   "execution_count": 73,
   "id": "herbal-strength",
   "metadata": {},
   "outputs": [
    {
     "data": {
      "text/plain": [
       "(4,)"
      ]
     },
     "execution_count": 73,
     "metadata": {},
     "output_type": "execute_result"
    }
   ],
   "source": [
    "int_array.shape"
   ]
  },
  {
   "cell_type": "code",
   "execution_count": 72,
   "id": "immediate-cannon",
   "metadata": {},
   "outputs": [
    {
     "data": {
      "text/plain": [
       "(2, 3)"
      ]
     },
     "execution_count": 72,
     "metadata": {},
     "output_type": "execute_result"
    }
   ],
   "source": [
    "more_dimensions.shape"
   ]
  },
  {
   "cell_type": "markdown",
   "id": "capital-wisconsin",
   "metadata": {},
   "source": [
    "Create arrays made of zeros or ones:"
   ]
  },
  {
   "cell_type": "code",
   "execution_count": 78,
   "id": "realistic-shoot",
   "metadata": {},
   "outputs": [
    {
     "data": {
      "text/plain": [
       "array([[0., 0., 0., 0., 0., 0., 0., 0., 0., 0.],\n",
       "       [0., 0., 0., 0., 0., 0., 0., 0., 0., 0.],\n",
       "       [0., 0., 0., 0., 0., 0., 0., 0., 0., 0.]])"
      ]
     },
     "execution_count": 78,
     "metadata": {},
     "output_type": "execute_result"
    }
   ],
   "source": [
    "a = np.zeros(shape=(3, 10))\n",
    "a"
   ]
  },
  {
   "cell_type": "code",
   "execution_count": 82,
   "id": "usual-party",
   "metadata": {},
   "outputs": [
    {
     "data": {
      "text/plain": [
       "array([1., 1., 1., 1., 1., 1., 1., 1., 1., 1.])"
      ]
     },
     "execution_count": 82,
     "metadata": {},
     "output_type": "execute_result"
    }
   ],
   "source": [
    "b = np.ones(10)\n",
    "b"
   ]
  },
  {
   "cell_type": "code",
   "execution_count": 85,
   "id": "skilled-consensus",
   "metadata": {},
   "outputs": [
    {
     "data": {
      "text/plain": [
       "array([[0., 0., 0., 0., 0., 0., 0., 0., 0., 0.],\n",
       "       [0., 0., 0., 0., 0., 0., 0., 0., 0., 0.],\n",
       "       [0., 0., 0., 0., 0., 0., 0., 0., 0., 0.]])"
      ]
     },
     "execution_count": 85,
     "metadata": {},
     "output_type": "execute_result"
    }
   ],
   "source": [
    "a*b # differently from lists, operations between arrays are math operations"
   ]
  },
  {
   "cell_type": "code",
   "execution_count": 86,
   "id": "going-grammar",
   "metadata": {},
   "outputs": [
    {
     "data": {
      "text/plain": [
       "array([[1., 1., 1., 1., 1., 1., 1., 1., 1., 1.],\n",
       "       [1., 1., 1., 1., 1., 1., 1., 1., 1., 1.],\n",
       "       [1., 1., 1., 1., 1., 1., 1., 1., 1., 1.]])"
      ]
     },
     "execution_count": 86,
     "metadata": {},
     "output_type": "execute_result"
    }
   ],
   "source": [
    "a + b"
   ]
  },
  {
   "cell_type": "code",
   "execution_count": 87,
   "id": "excited-wallet",
   "metadata": {},
   "outputs": [
    {
     "data": {
      "text/plain": [
       "array([24., 24., 24., 24., 24., 24., 24., 24., 24., 24.])"
      ]
     },
     "execution_count": 87,
     "metadata": {},
     "output_type": "execute_result"
    }
   ],
   "source": [
    "b*24"
   ]
  },
  {
   "cell_type": "code",
   "execution_count": 88,
   "id": "packed-italy",
   "metadata": {},
   "outputs": [
    {
     "data": {
      "text/plain": [
       "array([[5., 5., 5., 5., 5., 5., 5., 5., 5., 5.],\n",
       "       [5., 5., 5., 5., 5., 5., 5., 5., 5., 5.],\n",
       "       [5., 5., 5., 5., 5., 5., 5., 5., 5., 5.]])"
      ]
     },
     "execution_count": 88,
     "metadata": {},
     "output_type": "execute_result"
    }
   ],
   "source": [
    "a + 10 / 2"
   ]
  },
  {
   "cell_type": "markdown",
   "id": "valid-singles",
   "metadata": {},
   "source": [
    "Create different kind of sequences:"
   ]
  },
  {
   "cell_type": "code",
   "execution_count": 64,
   "id": "joined-lexington",
   "metadata": {},
   "outputs": [
    {
     "data": {
      "text/plain": [
       "array([ 0,  2,  4,  6,  8, 10])"
      ]
     },
     "execution_count": 64,
     "metadata": {},
     "output_type": "execute_result"
    }
   ],
   "source": [
    "np.arange(start=0, stop=11, step=2) # sequence of numbers from start to stop, every step"
   ]
  },
  {
   "cell_type": "code",
   "execution_count": 66,
   "id": "humanitarian-diversity",
   "metadata": {},
   "outputs": [
    {
     "data": {
      "text/plain": [
       "array([ 1,  3,  5,  7,  9, 11])"
      ]
     },
     "execution_count": 66,
     "metadata": {},
     "output_type": "execute_result"
    }
   ],
   "source": [
    "np.arange(1, 12, step=2)"
   ]
  },
  {
   "cell_type": "code",
   "execution_count": 67,
   "id": "gross-inside",
   "metadata": {},
   "outputs": [
    {
     "data": {
      "text/plain": [
       "array([ 1.,  2.,  3.,  4.,  5.,  6.,  7.,  8.,  9., 10.])"
      ]
     },
     "execution_count": 67,
     "metadata": {},
     "output_type": "execute_result"
    }
   ],
   "source": [
    "np.linspace(start=1, stop=10, num=10) # sequence of num lenghts, between start and stop"
   ]
  },
  {
   "cell_type": "code",
   "execution_count": 70,
   "id": "fluid-inspector",
   "metadata": {},
   "outputs": [
    {
     "data": {
      "text/plain": [
       "array([ 0. ,  0.5,  1. ,  1.5,  2. ,  2.5,  3. ,  3.5,  4. ,  4.5,  5. ,\n",
       "        5.5,  6. ,  6.5,  7. ,  7.5,  8. ,  8.5,  9. ,  9.5, 10. ])"
      ]
     },
     "execution_count": 70,
     "metadata": {},
     "output_type": "execute_result"
    }
   ],
   "source": [
    "np.linspace(start=0, stop=10, num=21)"
   ]
  },
  {
   "cell_type": "markdown",
   "id": "moral-greenhouse",
   "metadata": {},
   "source": [
    "## 5. Boolean indexing"
   ]
  },
  {
   "cell_type": "code",
   "execution_count": 105,
   "id": "angry-simon",
   "metadata": {},
   "outputs": [
    {
     "data": {
      "text/plain": [
       "array([[  1,   2,   3,   4,   5,   6,   7,   8,   9,  10],\n",
       "       [ 11,  12,  13,  14,  15,  16,  17,  18,  19,  20],\n",
       "       [ 21,  22,  23,  24,  25,  26,  27,  28,  29,  30],\n",
       "       [ 31,  32,  33,  34,  35,  36,  37,  38,  39,  40],\n",
       "       [ 41,  42,  43,  44,  45,  46,  47,  48,  49,  50],\n",
       "       [ 51,  52,  53,  54,  55,  56,  57,  58,  59,  60],\n",
       "       [ 61,  62,  63,  64,  65,  66,  67,  68,  69,  70],\n",
       "       [ 71,  72,  73,  74,  75,  76,  77,  78,  79,  80],\n",
       "       [ 81,  82,  83,  84,  85,  86,  87,  88,  89,  90],\n",
       "       [ 91,  92,  93,  94,  95,  96,  97,  98,  99, 100]])"
      ]
     },
     "execution_count": 105,
     "metadata": {},
     "output_type": "execute_result"
    }
   ],
   "source": [
    "c = np.arange(1, 101, 1).reshape(10, 10)\n",
    "c"
   ]
  },
  {
   "cell_type": "code",
   "execution_count": 106,
   "id": "latin-notion",
   "metadata": {},
   "outputs": [
    {
     "data": {
      "text/plain": [
       "array([[False, False, False, False, False, False, False, False, False,\n",
       "        False],\n",
       "       [False, False, False, False, False, False, False, False, False,\n",
       "        False],\n",
       "       [False, False, False, False, False, False, False, False, False,\n",
       "        False],\n",
       "       [False, False, False, False, False, False, False, False, False,\n",
       "        False],\n",
       "       [False, False, False, False, False,  True,  True,  True,  True,\n",
       "         True],\n",
       "       [ True,  True,  True,  True,  True,  True,  True,  True,  True,\n",
       "         True],\n",
       "       [ True,  True,  True,  True,  True,  True,  True,  True,  True,\n",
       "         True],\n",
       "       [ True,  True,  True,  True,  True,  True,  True,  True,  True,\n",
       "         True],\n",
       "       [ True,  True,  True,  True,  True,  True,  True,  True,  True,\n",
       "         True],\n",
       "       [ True,  True,  True,  True,  True,  True,  True,  True,  True,\n",
       "         True]])"
      ]
     },
     "execution_count": 106,
     "metadata": {},
     "output_type": "execute_result"
    }
   ],
   "source": [
    "c > 45"
   ]
  },
  {
   "cell_type": "code",
   "execution_count": 108,
   "id": "together-survivor",
   "metadata": {},
   "outputs": [
    {
     "data": {
      "text/plain": [
       "array([[  0,   0,   0,   0,   0,   0,   0,   0,   0,   0],\n",
       "       [ 11,  12,  13,  14,  15,  16,  17,  18,  19,  20],\n",
       "       [ 21,  22,  23,  24,  25,  26,  27,  28,  29,  30],\n",
       "       [ 31,  32,  33,  34,  35,  36,  37,  38,  39,  40],\n",
       "       [ 41,  42,  43,  44,  45,  46,  47,  48,  49,  50],\n",
       "       [ 51,  52,  53,  54,  55,  56,  57,  58,  59,  60],\n",
       "       [ 61,  62,  63,  64,  65,  66,  67,  68,  69,  70],\n",
       "       [ 71,  72,  73,  74,  75,  76,  77,  78,  79,  80],\n",
       "       [ 81,  82,  83,  84,  85,  86,  87,  88,  89,  90],\n",
       "       [ 91,  92,  93,  94,  95,  96,  97,  98,  99, 100]])"
      ]
     },
     "execution_count": 108,
     "metadata": {},
     "output_type": "execute_result"
    }
   ],
   "source": [
    "c[c <= 10] = 0\n",
    "c"
   ]
  },
  {
   "cell_type": "markdown",
   "id": "italian-slope",
   "metadata": {},
   "source": [
    "## Exercises\n",
    "\n",
    "- 1.1 Create a dictionary called `dog`, made of 5 meaningful items of your choice. Values should include: at least 1 integer, 1 list, 1 string.\n",
    "- 1.2 Add an element to the list that you stored in the `dog` dictionary, and print the new dictionary.\n",
    "- 1.3 Eliminate the item whose value was an integer, and print the new dictionary.\n",
    "- 1.4 Add a new item, print the dictionary, and then delete it, and print it again.\n",
    "\n",
    "\n",
    "- 2.1 Create a numpy array called `a`, of shape (10, 2), made of ones.\n",
    "- 2.2 Create a numpy array called `b`, of shape (10, 1), made of zeros.\n",
    "- 2.3 Add `a` to `b` and call their result `ab`.\n",
    "- 2.4 Access the second element in the third row of `ab` and assign the value 100. Print the new `ab`.\n",
    "- 2.5 Create a sequence called `c`, containing all multiples of 10 up to 200.\n",
    "- 2.6 Create a sequence called `d`, containing all numbers from 0 to 2 with 2 decimals.\n",
    "\n",
    "**Send me your solutions** before the end of this Friday (at laura.fontanesi@unibas.ch).\n",
    "\n",
    "**NOTE**: Do not send me a notebook but simply a text file, named `wpa_2_Surname_Name.py` (with your own name and surname of course). To make it a bit clear, please write a comment to indicate which answer a specific chunk of code releated to, e.g.:\n",
    "\n",
    "```\n",
    "# exercise 1\n",
    "a = 7 + 8\n",
    "b = 8\n",
    "c = a*b\n",
    "\n",
    "# exercise 2\n",
    "e = np.array([4, 5, 76])\n",
    "f = np.append(e, [3, 4, 5])\n",
    "```"
   ]
  }
 ],
 "metadata": {
  "kernelspec": {
   "display_name": "Python 3",
   "language": "python",
   "name": "python3"
  },
  "language_info": {
   "codemirror_mode": {
    "name": "ipython",
    "version": 3
   },
   "file_extension": ".py",
   "mimetype": "text/x-python",
   "name": "python",
   "nbconvert_exporter": "python",
   "pygments_lexer": "ipython3",
   "version": "3.6.13"
  }
 },
 "nbformat": 4,
 "nbformat_minor": 5
}
