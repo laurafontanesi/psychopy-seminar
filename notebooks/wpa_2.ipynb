{
 "cells": [
  {
   "cell_type": "markdown",
   "id": "adjacent-plenty",
   "metadata": {},
   "source": [
    "# Intro to built-in data types and numpy arrays"
   ]
  },
  {
   "cell_type": "markdown",
   "id": "quiet-leader",
   "metadata": {},
   "source": [
    "First of all, activate the `psychopy` conda envirornment (from the Terminal or Anaconda Prompt: `conda activate psychopy`, or from the Anaconda navigator) and let's check that `numpy` is installed."
   ]
  },
  {
   "cell_type": "code",
   "execution_count": 1,
   "id": "downtown-panel",
   "metadata": {},
   "outputs": [],
   "source": [
    "import numpy as np"
   ]
  },
  {
   "cell_type": "markdown",
   "id": "established-nepal",
   "metadata": {},
   "source": [
    "## 1. Built-in Python types"
   ]
  },
  {
   "cell_type": "markdown",
   "id": "joined-carnival",
   "metadata": {},
   "source": [
    "Text and numeric types:"
   ]
  },
  {
   "cell_type": "code",
   "execution_count": 2,
   "id": "recent-combination",
   "metadata": {},
   "outputs": [],
   "source": [
    "text = \"ciao my name is Laura, sdalkghjdflkghj;akd93040989\""
   ]
  },
  {
   "cell_type": "code",
   "execution_count": 3,
   "id": "hollow-narrative",
   "metadata": {},
   "outputs": [
    {
     "data": {
      "text/plain": [
       "'ciao my name is Laura, sdalkghjdflkghj;akd93040989'"
      ]
     },
     "execution_count": 3,
     "metadata": {},
     "output_type": "execute_result"
    }
   ],
   "source": [
    "text"
   ]
  },
  {
   "cell_type": "code",
   "execution_count": 4,
   "id": "nutritional-illinois",
   "metadata": {},
   "outputs": [
    {
     "data": {
      "text/plain": [
       "str"
      ]
     },
     "execution_count": 4,
     "metadata": {},
     "output_type": "execute_result"
    }
   ],
   "source": [
    "type(text)"
   ]
  },
  {
   "cell_type": "code",
   "execution_count": 5,
   "id": "alert-packet",
   "metadata": {},
   "outputs": [
    {
     "data": {
      "text/plain": [
       "int"
      ]
     },
     "execution_count": 5,
     "metadata": {},
     "output_type": "execute_result"
    }
   ],
   "source": [
    "number = 3\n",
    "type(number)"
   ]
  },
  {
   "cell_type": "code",
   "execution_count": 6,
   "id": "exterior-amendment",
   "metadata": {},
   "outputs": [
    {
     "data": {
      "text/plain": [
       "float"
      ]
     },
     "execution_count": 6,
     "metadata": {},
     "output_type": "execute_result"
    }
   ],
   "source": [
    "another_number = 3.2\n",
    "type(another_number)"
   ]
  },
  {
   "cell_type": "markdown",
   "id": "improving-class",
   "metadata": {},
   "source": [
    "Booleans are truth statements:"
   ]
  },
  {
   "cell_type": "code",
   "execution_count": 7,
   "id": "demanding-missouri",
   "metadata": {},
   "outputs": [
    {
     "data": {
      "text/plain": [
       "False"
      ]
     },
     "execution_count": 7,
     "metadata": {},
     "output_type": "execute_result"
    }
   ],
   "source": [
    "number > 3"
   ]
  },
  {
   "cell_type": "code",
   "execution_count": 8,
   "id": "beneficial-leisure",
   "metadata": {},
   "outputs": [],
   "source": [
    "a = (number < 3)"
   ]
  },
  {
   "cell_type": "code",
   "execution_count": 9,
   "id": "prescribed-island",
   "metadata": {},
   "outputs": [
    {
     "data": {
      "text/plain": [
       "False"
      ]
     },
     "execution_count": 9,
     "metadata": {},
     "output_type": "execute_result"
    }
   ],
   "source": [
    "a"
   ]
  },
  {
   "cell_type": "code",
   "execution_count": 10,
   "id": "tight-institute",
   "metadata": {},
   "outputs": [
    {
     "data": {
      "text/plain": [
       "True"
      ]
     },
     "execution_count": 10,
     "metadata": {},
     "output_type": "execute_result"
    }
   ],
   "source": [
    "number <= 3"
   ]
  },
  {
   "cell_type": "code",
   "execution_count": 11,
   "id": "royal-crystal",
   "metadata": {},
   "outputs": [
    {
     "data": {
      "text/plain": [
       "bool"
      ]
     },
     "execution_count": 11,
     "metadata": {},
     "output_type": "execute_result"
    }
   ],
   "source": [
    "type(a)"
   ]
  },
  {
   "cell_type": "markdown",
   "id": "antique-ceramic",
   "metadata": {},
   "source": [
    "Sequences and mappings:\n",
    "\n",
    "- List is a collection which is ordered and changeable. Allows duplicate members.\n",
    "- Tuple is a collection which is ordered and unchangeable. Allows duplicate members.\n",
    "- Dictionary is a collection which is unordered and changeable. No duplicate members."
   ]
  },
  {
   "cell_type": "code",
   "execution_count": 12,
   "id": "manufactured-bicycle",
   "metadata": {},
   "outputs": [
    {
     "data": {
      "text/plain": [
       "list"
      ]
     },
     "execution_count": 12,
     "metadata": {},
     "output_type": "execute_result"
    }
   ],
   "source": [
    "a_list = [1, 2, 3]\n",
    "type(a_list)"
   ]
  },
  {
   "cell_type": "code",
   "execution_count": 13,
   "id": "challenging-bearing",
   "metadata": {},
   "outputs": [
    {
     "data": {
      "text/plain": [
       "[1, 2, 3]"
      ]
     },
     "execution_count": 13,
     "metadata": {},
     "output_type": "execute_result"
    }
   ],
   "source": [
    "a_list"
   ]
  },
  {
   "cell_type": "code",
   "execution_count": 14,
   "id": "bigger-librarian",
   "metadata": {},
   "outputs": [
    {
     "data": {
      "text/plain": [
       "tuple"
      ]
     },
     "execution_count": 14,
     "metadata": {},
     "output_type": "execute_result"
    }
   ],
   "source": [
    "a_tuple = (2, \"b\")\n",
    "type(a_tuple)"
   ]
  },
  {
   "cell_type": "code",
   "execution_count": 15,
   "id": "available-verse",
   "metadata": {},
   "outputs": [
    {
     "data": {
      "text/plain": [
       "dict"
      ]
     },
     "execution_count": 15,
     "metadata": {},
     "output_type": "execute_result"
    }
   ],
   "source": [
    "a_dictionary = {\"age\": 25, \"height\": 180, \"measurements\": [8, 6, 15]}\n",
    "type(a_dictionary)"
   ]
  },
  {
   "cell_type": "markdown",
   "id": "waiting-camping",
   "metadata": {},
   "source": [
    "## 2. Lists"
   ]
  },
  {
   "cell_type": "code",
   "execution_count": 16,
   "id": "aboriginal-division",
   "metadata": {},
   "outputs": [
    {
     "data": {
      "text/plain": [
       "[1, 2, 3, 4]"
      ]
     },
     "execution_count": 16,
     "metadata": {},
     "output_type": "execute_result"
    }
   ],
   "source": [
    "list_of_int = [1, 2, 3, 4]\n",
    "list_of_int"
   ]
  },
  {
   "cell_type": "code",
   "execution_count": 17,
   "id": "whole-cylinder",
   "metadata": {},
   "outputs": [
    {
     "data": {
      "text/plain": [
       "['a', 'b', 'c', 'defgh']"
      ]
     },
     "execution_count": 17,
     "metadata": {},
     "output_type": "execute_result"
    }
   ],
   "source": [
    "list_of_str = ['a', 'b', 'c', 'defgh']\n",
    "list_of_str"
   ]
  },
  {
   "cell_type": "code",
   "execution_count": 18,
   "id": "honey-singing",
   "metadata": {},
   "outputs": [
    {
     "data": {
      "text/plain": [
       "[True, False, True, True]"
      ]
     },
     "execution_count": 18,
     "metadata": {},
     "output_type": "execute_result"
    }
   ],
   "source": [
    "list_of_bool = [True, False, True, True]\n",
    "list_of_bool"
   ]
  },
  {
   "cell_type": "code",
   "execution_count": 19,
   "id": "gross-profile",
   "metadata": {},
   "outputs": [
    {
     "data": {
      "text/plain": [
       "[0.1, 1, 2.1, 3.4]"
      ]
     },
     "execution_count": 19,
     "metadata": {},
     "output_type": "execute_result"
    }
   ],
   "source": [
    "list_of_float = [0.1, 1, 2.1, 3.4]\n",
    "list_of_float"
   ]
  },
  {
   "cell_type": "code",
   "execution_count": 20,
   "id": "ethical-smooth",
   "metadata": {},
   "outputs": [
    {
     "data": {
      "text/plain": [
       "1"
      ]
     },
     "execution_count": 20,
     "metadata": {},
     "output_type": "execute_result"
    }
   ],
   "source": [
    "list_of_int[0] # first element of a list"
   ]
  },
  {
   "cell_type": "code",
   "execution_count": 21,
   "id": "sorted-security",
   "metadata": {},
   "outputs": [
    {
     "data": {
      "text/plain": [
       "list"
      ]
     },
     "execution_count": 21,
     "metadata": {},
     "output_type": "execute_result"
    }
   ],
   "source": [
    "type(list_of_bool)"
   ]
  },
  {
   "cell_type": "code",
   "execution_count": 22,
   "id": "driven-township",
   "metadata": {},
   "outputs": [
    {
     "data": {
      "text/plain": [
       "(int, float)"
      ]
     },
     "execution_count": 22,
     "metadata": {},
     "output_type": "execute_result"
    }
   ],
   "source": [
    "type(list_of_float[1]), type(list_of_float[2]) # list can contain different data types"
   ]
  },
  {
   "cell_type": "code",
   "execution_count": 23,
   "id": "satellite-shock",
   "metadata": {},
   "outputs": [
    {
     "data": {
      "text/plain": [
       "['a', 1, [1, 2, 3]]"
      ]
     },
     "execution_count": 23,
     "metadata": {},
     "output_type": "execute_result"
    }
   ],
   "source": [
    "['a', 1, [1, 2, 3]]"
   ]
  },
  {
   "cell_type": "code",
   "execution_count": 24,
   "id": "fewer-crack",
   "metadata": {},
   "outputs": [
    {
     "data": {
      "text/plain": [
       "4"
      ]
     },
     "execution_count": 24,
     "metadata": {},
     "output_type": "execute_result"
    }
   ],
   "source": [
    "len(list_of_float) # how many elements are in this list?"
   ]
  },
  {
   "cell_type": "code",
   "execution_count": 25,
   "id": "committed-estonia",
   "metadata": {},
   "outputs": [
    {
     "data": {
      "text/plain": [
       "[0.1, 1, 2.1, 3.4, 0.1, 1, 2.1, 3.4, 0.1, 1, 2.1, 3.4]"
      ]
     },
     "execution_count": 25,
     "metadata": {},
     "output_type": "execute_result"
    }
   ],
   "source": [
    "list_of_float*3 # stack the same list"
   ]
  },
  {
   "cell_type": "code",
   "execution_count": 26,
   "id": "touched-moses",
   "metadata": {},
   "outputs": [
    {
     "data": {
      "text/plain": [
       "[0.1, 1, 2.1, 3.4, True, False, True, True, 0.1, 1, 2.1, 3.4]"
      ]
     },
     "execution_count": 26,
     "metadata": {},
     "output_type": "execute_result"
    }
   ],
   "source": [
    "list_of_float + list_of_bool + list_of_float # stack different lists"
   ]
  },
  {
   "cell_type": "code",
   "execution_count": 27,
   "id": "crucial-yukon",
   "metadata": {},
   "outputs": [
    {
     "data": {
      "text/plain": [
       "[0.1, 1, 2.1, 3.4]"
      ]
     },
     "execution_count": 27,
     "metadata": {},
     "output_type": "execute_result"
    }
   ],
   "source": [
    "list_of_float # the original does not change!"
   ]
  },
  {
   "cell_type": "code",
   "execution_count": 28,
   "id": "quarterly-yugoslavia",
   "metadata": {},
   "outputs": [],
   "source": [
    "se = list_of_float*3 "
   ]
  },
  {
   "cell_type": "code",
   "execution_count": 29,
   "id": "arranged-hygiene",
   "metadata": {},
   "outputs": [
    {
     "data": {
      "text/plain": [
       "[0.1, 1, 2.1, 3.4, 0.1, 1, 2.1, 3.4, 0.1, 1, 2.1, 3.4]"
      ]
     },
     "execution_count": 29,
     "metadata": {},
     "output_type": "execute_result"
    }
   ],
   "source": [
    "se"
   ]
  },
  {
   "cell_type": "code",
   "execution_count": 30,
   "id": "daily-record",
   "metadata": {},
   "outputs": [
    {
     "data": {
      "text/plain": [
       "[0.1, 1, 2.1, 3.4]"
      ]
     },
     "execution_count": 30,
     "metadata": {},
     "output_type": "execute_result"
    }
   ],
   "source": [
    "list_of_float"
   ]
  },
  {
   "cell_type": "code",
   "execution_count": 31,
   "id": "informative-extent",
   "metadata": {},
   "outputs": [],
   "source": [
    "list_of_float.append(list_of_bool) # add elements at the end"
   ]
  },
  {
   "cell_type": "code",
   "execution_count": 32,
   "id": "integral-initial",
   "metadata": {},
   "outputs": [
    {
     "data": {
      "text/plain": [
       "[0.1, 1, 2.1, 3.4, [True, False, True, True]]"
      ]
     },
     "execution_count": 32,
     "metadata": {},
     "output_type": "execute_result"
    }
   ],
   "source": [
    "list_of_float # the original changed!"
   ]
  },
  {
   "cell_type": "code",
   "execution_count": 33,
   "id": "civil-windsor",
   "metadata": {},
   "outputs": [
    {
     "data": {
      "text/plain": [
       "5"
      ]
     },
     "execution_count": 33,
     "metadata": {},
     "output_type": "execute_result"
    }
   ],
   "source": [
    "len(list_of_float) # we appended a list as an element"
   ]
  },
  {
   "cell_type": "code",
   "execution_count": 34,
   "id": "transparent-choice",
   "metadata": {},
   "outputs": [],
   "source": [
    "for i in list_of_str: # now we append every element one at a time\n",
    "    list_of_int.append(i)"
   ]
  },
  {
   "cell_type": "code",
   "execution_count": 35,
   "id": "valued-survival",
   "metadata": {},
   "outputs": [
    {
     "data": {
      "text/plain": [
       "[1, 2, 3, 4, 'a', 'b', 'c', 'defgh']"
      ]
     },
     "execution_count": 35,
     "metadata": {},
     "output_type": "execute_result"
    }
   ],
   "source": [
    "list_of_int"
   ]
  },
  {
   "cell_type": "code",
   "execution_count": 36,
   "id": "meaning-delaware",
   "metadata": {},
   "outputs": [
    {
     "ename": "TypeError",
     "evalue": "'<' not supported between instances of 'str' and 'int'",
     "output_type": "error",
     "traceback": [
      "\u001b[0;31m---------------------------------------------------------------------------\u001b[0m",
      "\u001b[0;31mTypeError\u001b[0m                                 Traceback (most recent call last)",
      "\u001b[0;32m<ipython-input-36-7a96fa07643c>\u001b[0m in \u001b[0;36m<module>\u001b[0;34m()\u001b[0m\n\u001b[0;32m----> 1\u001b[0;31m \u001b[0mlist_of_int\u001b[0m\u001b[0;34m.\u001b[0m\u001b[0msort\u001b[0m\u001b[0;34m(\u001b[0m\u001b[0;34m)\u001b[0m \u001b[0;31m# you cannot sort the list when the elements are of different type though\u001b[0m\u001b[0;34m\u001b[0m\u001b[0;34m\u001b[0m\u001b[0m\n\u001b[0m",
      "\u001b[0;31mTypeError\u001b[0m: '<' not supported between instances of 'str' and 'int'"
     ]
    }
   ],
   "source": [
    "list_of_int.sort() # you cannot sort the list when the elements are of different type though"
   ]
  },
  {
   "cell_type": "code",
   "execution_count": 37,
   "id": "expressed-cheese",
   "metadata": {},
   "outputs": [],
   "source": [
    "list_of_int = [2, 15, 6, 1]"
   ]
  },
  {
   "cell_type": "code",
   "execution_count": 38,
   "id": "genetic-character",
   "metadata": {},
   "outputs": [],
   "source": [
    "list_of_int.sort()"
   ]
  },
  {
   "cell_type": "code",
   "execution_count": 39,
   "id": "brutal-tunnel",
   "metadata": {},
   "outputs": [
    {
     "data": {
      "text/plain": [
       "[1, 2, 6, 15]"
      ]
     },
     "execution_count": 39,
     "metadata": {},
     "output_type": "execute_result"
    }
   ],
   "source": [
    "list_of_int"
   ]
  },
  {
   "cell_type": "code",
   "execution_count": 40,
   "id": "composite-yukon",
   "metadata": {},
   "outputs": [
    {
     "data": {
      "text/plain": [
       "[15, 6, 2, 1]"
      ]
     },
     "execution_count": 40,
     "metadata": {},
     "output_type": "execute_result"
    }
   ],
   "source": [
    "list_of_int.reverse() # reverse the order!\n",
    "list_of_int"
   ]
  },
  {
   "cell_type": "code",
   "execution_count": 41,
   "id": "certified-dealer",
   "metadata": {},
   "outputs": [
    {
     "data": {
      "text/plain": [
       "[6, 2, 1]"
      ]
     },
     "execution_count": 41,
     "metadata": {},
     "output_type": "execute_result"
    }
   ],
   "source": [
    "list_of_int.remove(15) # remove a specific element\n",
    "list_of_int"
   ]
  },
  {
   "cell_type": "code",
   "execution_count": 42,
   "id": "permanent-karma",
   "metadata": {},
   "outputs": [
    {
     "data": {
      "text/plain": [
       "[6, 2, 34, 1]"
      ]
     },
     "execution_count": 42,
     "metadata": {},
     "output_type": "execute_result"
    }
   ],
   "source": [
    "list_of_int.insert(2, 34) # insert a specific element in a certain position\n",
    "list_of_int"
   ]
  },
  {
   "cell_type": "code",
   "execution_count": 43,
   "id": "premier-vancouver",
   "metadata": {},
   "outputs": [
    {
     "data": {
      "text/plain": [
       "[6, 2, 1]"
      ]
     },
     "execution_count": 43,
     "metadata": {},
     "output_type": "execute_result"
    }
   ],
   "source": [
    "list_of_int.pop(2) # remove a specific element in a certain position\n",
    "list_of_int"
   ]
  },
  {
   "cell_type": "markdown",
   "id": "surface-shark",
   "metadata": {},
   "source": [
    "## 3. Dictionaries"
   ]
  },
  {
   "cell_type": "code",
   "execution_count": 44,
   "id": "immune-federation",
   "metadata": {},
   "outputs": [],
   "source": [
    "auto = {'model': 'PEUGEOT 308',\n",
    "        'CHF': 10500,\n",
    "        'where': 'Dietikon',\n",
    "        'km': 86000,\n",
    "        'fuel': 'diesel',\n",
    "        'ccm': 1560\n",
    "       }"
   ]
  },
  {
   "cell_type": "code",
   "execution_count": 45,
   "id": "revised-portable",
   "metadata": {},
   "outputs": [
    {
     "data": {
      "text/plain": [
       "dict_values(['PEUGEOT 308', 10500, 'Dietikon', 86000, 'diesel', 1560])"
      ]
     },
     "execution_count": 45,
     "metadata": {},
     "output_type": "execute_result"
    }
   ],
   "source": [
    "auto.values()"
   ]
  },
  {
   "cell_type": "code",
   "execution_count": 46,
   "id": "regulation-centre",
   "metadata": {},
   "outputs": [
    {
     "data": {
      "text/plain": [
       "dict_keys(['model', 'CHF', 'where', 'km', 'fuel', 'ccm'])"
      ]
     },
     "execution_count": 46,
     "metadata": {},
     "output_type": "execute_result"
    }
   ],
   "source": [
    "auto.keys()"
   ]
  },
  {
   "cell_type": "code",
   "execution_count": 47,
   "id": "adjustable-light",
   "metadata": {},
   "outputs": [
    {
     "data": {
      "text/plain": [
       "dict_items([('model', 'PEUGEOT 308'), ('CHF', 10500), ('where', 'Dietikon'), ('km', 86000), ('fuel', 'diesel'), ('ccm', 1560)])"
      ]
     },
     "execution_count": 47,
     "metadata": {},
     "output_type": "execute_result"
    }
   ],
   "source": [
    "auto.items()"
   ]
  },
  {
   "cell_type": "code",
   "execution_count": 48,
   "id": "outside-siemens",
   "metadata": {},
   "outputs": [
    {
     "name": "stdout",
     "output_type": "stream",
     "text": [
      "<class 'tuple'>\n",
      "<class 'tuple'>\n",
      "<class 'tuple'>\n",
      "<class 'tuple'>\n",
      "<class 'tuple'>\n",
      "<class 'tuple'>\n"
     ]
    }
   ],
   "source": [
    "for i in auto.items():\n",
    "    print(type(i))"
   ]
  },
  {
   "cell_type": "code",
   "execution_count": 49,
   "id": "automatic-pennsylvania",
   "metadata": {},
   "outputs": [
    {
     "name": "stdout",
     "output_type": "stream",
     "text": [
      "model\n",
      "CHF\n",
      "where\n",
      "km\n",
      "fuel\n",
      "ccm\n"
     ]
    }
   ],
   "source": [
    "for i in auto.keys():\n",
    "    print(i)"
   ]
  },
  {
   "cell_type": "code",
   "execution_count": 50,
   "id": "pharmaceutical-immune",
   "metadata": {},
   "outputs": [
    {
     "name": "stdout",
     "output_type": "stream",
     "text": [
      "PEUGEOT 308\n",
      "10500\n",
      "Dietikon\n",
      "86000\n",
      "diesel\n",
      "1560\n"
     ]
    }
   ],
   "source": [
    "for i in auto.keys():\n",
    "    print(auto[i])"
   ]
  },
  {
   "cell_type": "code",
   "execution_count": 51,
   "id": "comfortable-bryan",
   "metadata": {},
   "outputs": [
    {
     "data": {
      "text/plain": [
       "6"
      ]
     },
     "execution_count": 51,
     "metadata": {},
     "output_type": "execute_result"
    }
   ],
   "source": [
    "len(auto) # how many items?"
   ]
  },
  {
   "cell_type": "code",
   "execution_count": 52,
   "id": "recent-tunisia",
   "metadata": {},
   "outputs": [
    {
     "data": {
      "text/plain": [
       "'PEUGEOT 308'"
      ]
     },
     "execution_count": 52,
     "metadata": {},
     "output_type": "execute_result"
    }
   ],
   "source": [
    "auto['model'] # get value corresponding to a key"
   ]
  },
  {
   "cell_type": "code",
   "execution_count": 53,
   "id": "massive-colon",
   "metadata": {},
   "outputs": [
    {
     "data": {
      "text/plain": [
       "{'model': 'PEUGEOT 308',\n",
       " 'CHF': 10500,\n",
       " 'where': 'Dietikon',\n",
       " 'km': 90000,\n",
       " 'fuel': 'diesel',\n",
       " 'ccm': 1560}"
      ]
     },
     "execution_count": 53,
     "metadata": {},
     "output_type": "execute_result"
    }
   ],
   "source": [
    "auto['km'] = 90000 # change a value\n",
    "auto"
   ]
  },
  {
   "cell_type": "code",
   "execution_count": 54,
   "id": "caring-outside",
   "metadata": {},
   "outputs": [
    {
     "data": {
      "text/plain": [
       "{'model': 'PEUGEOT 308',\n",
       " 'CHF': 10500,\n",
       " 'where': 'Dietikon',\n",
       " 'km': 90000,\n",
       " 'fuel': 'diesel',\n",
       " 'ccm': 1560,\n",
       " 'color': 'blue'}"
      ]
     },
     "execution_count": 54,
     "metadata": {},
     "output_type": "execute_result"
    }
   ],
   "source": [
    "auto['color'] = 'blue' # add an item\n",
    "auto"
   ]
  },
  {
   "cell_type": "code",
   "execution_count": 55,
   "id": "mineral-companion",
   "metadata": {},
   "outputs": [
    {
     "data": {
      "text/plain": [
       "True"
      ]
     },
     "execution_count": 55,
     "metadata": {},
     "output_type": "execute_result"
    }
   ],
   "source": [
    "'color' in auto # is a key in the dic?"
   ]
  },
  {
   "cell_type": "code",
   "execution_count": 56,
   "id": "judicial-satin",
   "metadata": {},
   "outputs": [
    {
     "data": {
      "text/plain": [
       "{'model': 'PEUGEOT 308',\n",
       " 'where': 'Dietikon',\n",
       " 'km': 90000,\n",
       " 'fuel': 'diesel',\n",
       " 'ccm': 1560,\n",
       " 'color': 'blue'}"
      ]
     },
     "execution_count": 56,
     "metadata": {},
     "output_type": "execute_result"
    }
   ],
   "source": [
    "auto.pop(\"CHF\") # remove an item\n",
    "auto"
   ]
  },
  {
   "cell_type": "markdown",
   "id": "federal-teddy",
   "metadata": {},
   "source": [
    "## 4. Creating a numpy array "
   ]
  },
  {
   "cell_type": "code",
   "execution_count": 57,
   "id": "nearby-myanmar",
   "metadata": {},
   "outputs": [],
   "source": [
    "import numpy as np"
   ]
  },
  {
   "cell_type": "code",
   "execution_count": 58,
   "id": "compressed-surfing",
   "metadata": {},
   "outputs": [
    {
     "ename": "TypeError",
     "evalue": "Required argument 'object' (pos 1) not found",
     "output_type": "error",
     "traceback": [
      "\u001b[0;31m---------------------------------------------------------------------------\u001b[0m",
      "\u001b[0;31mTypeError\u001b[0m                                 Traceback (most recent call last)",
      "\u001b[0;32m<ipython-input-58-e4f3b47dc252>\u001b[0m in \u001b[0;36m<module>\u001b[0;34m()\u001b[0m\n\u001b[0;32m----> 1\u001b[0;31m \u001b[0mnp\u001b[0m\u001b[0;34m.\u001b[0m\u001b[0marray\u001b[0m\u001b[0;34m(\u001b[0m\u001b[0;34m)\u001b[0m\u001b[0;34m\u001b[0m\u001b[0;34m\u001b[0m\u001b[0m\n\u001b[0m",
      "\u001b[0;31mTypeError\u001b[0m: Required argument 'object' (pos 1) not found"
     ]
    }
   ],
   "source": [
    "np.array()"
   ]
  },
  {
   "cell_type": "code",
   "execution_count": 59,
   "id": "improving-trout",
   "metadata": {},
   "outputs": [],
   "source": [
    "empty_list = []"
   ]
  },
  {
   "cell_type": "code",
   "execution_count": 60,
   "id": "relevant-consistency",
   "metadata": {},
   "outputs": [
    {
     "data": {
      "text/plain": [
       "0"
      ]
     },
     "execution_count": 60,
     "metadata": {},
     "output_type": "execute_result"
    }
   ],
   "source": [
    "len(empty_list)"
   ]
  },
  {
   "cell_type": "code",
   "execution_count": 61,
   "id": "abstract-scroll",
   "metadata": {},
   "outputs": [
    {
     "data": {
      "text/plain": [
       "array([], dtype=float64)"
      ]
     },
     "execution_count": 61,
     "metadata": {},
     "output_type": "execute_result"
    }
   ],
   "source": [
    "first_array = np.array([])\n",
    "first_array"
   ]
  },
  {
   "cell_type": "code",
   "execution_count": 62,
   "id": "human-denial",
   "metadata": {},
   "outputs": [
    {
     "data": {
      "text/plain": [
       "array([1, 2, 3, 4])"
      ]
     },
     "execution_count": 62,
     "metadata": {},
     "output_type": "execute_result"
    }
   ],
   "source": [
    "int_array = np.array([1, 2, 3, 4])\n",
    "int_array"
   ]
  },
  {
   "cell_type": "code",
   "execution_count": 63,
   "id": "therapeutic-agriculture",
   "metadata": {},
   "outputs": [
    {
     "data": {
      "text/plain": [
       "dtype('int64')"
      ]
     },
     "execution_count": 63,
     "metadata": {},
     "output_type": "execute_result"
    }
   ],
   "source": [
    "int_array.dtype"
   ]
  },
  {
   "cell_type": "code",
   "execution_count": 64,
   "id": "north-smell",
   "metadata": {},
   "outputs": [
    {
     "data": {
      "text/plain": [
       "dtype('<U1')"
      ]
     },
     "execution_count": 64,
     "metadata": {},
     "output_type": "execute_result"
    }
   ],
   "source": [
    "str_array = np.array(['a', 'b', 'c', 'd', 'e'])\n",
    "str_array.dtype"
   ]
  },
  {
   "cell_type": "code",
   "execution_count": 65,
   "id": "pacific-booth",
   "metadata": {},
   "outputs": [
    {
     "data": {
      "text/plain": [
       "dtype('<U4')"
      ]
     },
     "execution_count": 65,
     "metadata": {},
     "output_type": "execute_result"
    }
   ],
   "source": [
    "str_array = np.array(['aerf', 'B1', 'c', 'd', 'e'])\n",
    "str_array.dtype"
   ]
  },
  {
   "cell_type": "code",
   "execution_count": 66,
   "id": "brutal-arbor",
   "metadata": {},
   "outputs": [
    {
     "data": {
      "text/plain": [
       "(numpy.ndarray, numpy.ndarray, numpy.ndarray)"
      ]
     },
     "execution_count": 66,
     "metadata": {},
     "output_type": "execute_result"
    }
   ],
   "source": [
    "type(int_array), type(first_array), type(str_array)"
   ]
  },
  {
   "cell_type": "code",
   "execution_count": 67,
   "id": "french-sleeve",
   "metadata": {},
   "outputs": [
    {
     "data": {
      "text/plain": [
       "1"
      ]
     },
     "execution_count": 67,
     "metadata": {},
     "output_type": "execute_result"
    }
   ],
   "source": [
    "int_array[0] # access the first element"
   ]
  },
  {
   "cell_type": "code",
   "execution_count": 68,
   "id": "persistent-penetration",
   "metadata": {},
   "outputs": [
    {
     "data": {
      "text/plain": [
       "array([[1. , 2. , 3. ],\n",
       "       [4.1, 5. , 6. ]])"
      ]
     },
     "execution_count": 68,
     "metadata": {},
     "output_type": "execute_result"
    }
   ],
   "source": [
    "more_dimensions = np.array([[1, 2, 3], [4.1, 5, 6]])\n",
    "more_dimensions"
   ]
  },
  {
   "cell_type": "code",
   "execution_count": 69,
   "id": "organizational-smith",
   "metadata": {},
   "outputs": [
    {
     "data": {
      "text/plain": [
       "3.0"
      ]
     },
     "execution_count": 69,
     "metadata": {},
     "output_type": "execute_result"
    }
   ],
   "source": [
    "more_dimensions[0, 2] # access elements in a 2D array"
   ]
  },
  {
   "cell_type": "code",
   "execution_count": 70,
   "id": "rubber-strap",
   "metadata": {},
   "outputs": [
    {
     "data": {
      "text/plain": [
       "array([[1., 2., 3.],\n",
       "       [4., 5., 6.]])"
      ]
     },
     "execution_count": 70,
     "metadata": {},
     "output_type": "execute_result"
    }
   ],
   "source": [
    "more_dimensions[1, 0] = 4 # change an element\n",
    "more_dimensions"
   ]
  },
  {
   "cell_type": "code",
   "execution_count": 71,
   "id": "amino-jacob",
   "metadata": {},
   "outputs": [
    {
     "data": {
      "text/plain": [
       "dtype('float64')"
      ]
     },
     "execution_count": 71,
     "metadata": {},
     "output_type": "execute_result"
    }
   ],
   "source": [
    "more_dimensions.dtype # differently from lists, the elements of an array must all have same type"
   ]
  },
  {
   "cell_type": "code",
   "execution_count": 72,
   "id": "auburn-lebanon",
   "metadata": {},
   "outputs": [
    {
     "data": {
      "text/plain": [
       "array([[1, 2, 3],\n",
       "       [4, 5, 6]])"
      ]
     },
     "execution_count": 72,
     "metadata": {},
     "output_type": "execute_result"
    }
   ],
   "source": [
    "more_dimensions.astype(int) # change type"
   ]
  },
  {
   "cell_type": "code",
   "execution_count": 73,
   "id": "final-saudi",
   "metadata": {},
   "outputs": [
    {
     "data": {
      "text/plain": [
       "(4,)"
      ]
     },
     "execution_count": 73,
     "metadata": {},
     "output_type": "execute_result"
    }
   ],
   "source": [
    "int_array.shape"
   ]
  },
  {
   "cell_type": "code",
   "execution_count": 74,
   "id": "critical-fifteen",
   "metadata": {},
   "outputs": [
    {
     "data": {
      "text/plain": [
       "(2, 3)"
      ]
     },
     "execution_count": 74,
     "metadata": {},
     "output_type": "execute_result"
    }
   ],
   "source": [
    "more_dimensions.shape"
   ]
  },
  {
   "cell_type": "markdown",
   "id": "authentic-sugar",
   "metadata": {},
   "source": [
    "Create arrays made of zeros or ones:"
   ]
  },
  {
   "cell_type": "code",
   "execution_count": 75,
   "id": "clear-humidity",
   "metadata": {},
   "outputs": [
    {
     "data": {
      "text/plain": [
       "array([[0., 0., 0., 0., 0., 0., 0., 0., 0., 0.],\n",
       "       [0., 0., 0., 0., 0., 0., 0., 0., 0., 0.],\n",
       "       [0., 0., 0., 0., 0., 0., 0., 0., 0., 0.]])"
      ]
     },
     "execution_count": 75,
     "metadata": {},
     "output_type": "execute_result"
    }
   ],
   "source": [
    "a = np.zeros(shape=(3, 10))\n",
    "a"
   ]
  },
  {
   "cell_type": "code",
   "execution_count": 76,
   "id": "distant-latin",
   "metadata": {},
   "outputs": [
    {
     "data": {
      "text/plain": [
       "array([1., 1., 1., 1., 1., 1., 1., 1., 1., 1.])"
      ]
     },
     "execution_count": 76,
     "metadata": {},
     "output_type": "execute_result"
    }
   ],
   "source": [
    "b = np.ones(10)\n",
    "b"
   ]
  },
  {
   "cell_type": "code",
   "execution_count": 77,
   "id": "neural-overview",
   "metadata": {},
   "outputs": [
    {
     "data": {
      "text/plain": [
       "array([[0., 0., 0., 0., 0., 0., 0., 0., 0., 0.],\n",
       "       [0., 0., 0., 0., 0., 0., 0., 0., 0., 0.],\n",
       "       [0., 0., 0., 0., 0., 0., 0., 0., 0., 0.]])"
      ]
     },
     "execution_count": 77,
     "metadata": {},
     "output_type": "execute_result"
    }
   ],
   "source": [
    "a*b # differently from lists, operations between arrays are math operations"
   ]
  },
  {
   "cell_type": "code",
   "execution_count": 78,
   "id": "chemical-atlantic",
   "metadata": {},
   "outputs": [
    {
     "data": {
      "text/plain": [
       "array([[1., 1., 1., 1., 1., 1., 1., 1., 1., 1.],\n",
       "       [1., 1., 1., 1., 1., 1., 1., 1., 1., 1.],\n",
       "       [1., 1., 1., 1., 1., 1., 1., 1., 1., 1.]])"
      ]
     },
     "execution_count": 78,
     "metadata": {},
     "output_type": "execute_result"
    }
   ],
   "source": [
    "a + b"
   ]
  },
  {
   "cell_type": "code",
   "execution_count": 79,
   "id": "dedicated-gibraltar",
   "metadata": {},
   "outputs": [
    {
     "data": {
      "text/plain": [
       "array([24., 24., 24., 24., 24., 24., 24., 24., 24., 24.])"
      ]
     },
     "execution_count": 79,
     "metadata": {},
     "output_type": "execute_result"
    }
   ],
   "source": [
    "b*24"
   ]
  },
  {
   "cell_type": "code",
   "execution_count": 80,
   "id": "governing-parks",
   "metadata": {},
   "outputs": [
    {
     "data": {
      "text/plain": [
       "array([[5., 5., 5., 5., 5., 5., 5., 5., 5., 5.],\n",
       "       [5., 5., 5., 5., 5., 5., 5., 5., 5., 5.],\n",
       "       [5., 5., 5., 5., 5., 5., 5., 5., 5., 5.]])"
      ]
     },
     "execution_count": 80,
     "metadata": {},
     "output_type": "execute_result"
    }
   ],
   "source": [
    "a + 10 / 2"
   ]
  },
  {
   "cell_type": "markdown",
   "id": "systematic-intensity",
   "metadata": {},
   "source": [
    "Create different kind of sequences:"
   ]
  },
  {
   "cell_type": "code",
   "execution_count": 81,
   "id": "consolidated-restriction",
   "metadata": {},
   "outputs": [
    {
     "data": {
      "text/plain": [
       "array([ 0,  2,  4,  6,  8, 10])"
      ]
     },
     "execution_count": 81,
     "metadata": {},
     "output_type": "execute_result"
    }
   ],
   "source": [
    "np.arange(start=0, stop=11, step=2) # sequence of numbers from start to stop, every step"
   ]
  },
  {
   "cell_type": "code",
   "execution_count": 82,
   "id": "chubby-blocking",
   "metadata": {},
   "outputs": [
    {
     "data": {
      "text/plain": [
       "array([ 1,  3,  5,  7,  9, 11])"
      ]
     },
     "execution_count": 82,
     "metadata": {},
     "output_type": "execute_result"
    }
   ],
   "source": [
    "np.arange(1, 12, step=2)"
   ]
  },
  {
   "cell_type": "code",
   "execution_count": 83,
   "id": "regulated-person",
   "metadata": {},
   "outputs": [
    {
     "data": {
      "text/plain": [
       "array([ 1.,  2.,  3.,  4.,  5.,  6.,  7.,  8.,  9., 10.])"
      ]
     },
     "execution_count": 83,
     "metadata": {},
     "output_type": "execute_result"
    }
   ],
   "source": [
    "np.linspace(start=1, stop=10, num=10) # sequence of num lenghts, between start and stop"
   ]
  },
  {
   "cell_type": "code",
   "execution_count": 84,
   "id": "broken-relaxation",
   "metadata": {},
   "outputs": [
    {
     "data": {
      "text/plain": [
       "array([ 0. ,  0.5,  1. ,  1.5,  2. ,  2.5,  3. ,  3.5,  4. ,  4.5,  5. ,\n",
       "        5.5,  6. ,  6.5,  7. ,  7.5,  8. ,  8.5,  9. ,  9.5, 10. ])"
      ]
     },
     "execution_count": 84,
     "metadata": {},
     "output_type": "execute_result"
    }
   ],
   "source": [
    "np.linspace(start=0, stop=10, num=21)"
   ]
  },
  {
   "cell_type": "markdown",
   "id": "quality-short",
   "metadata": {},
   "source": [
    "## 5. Boolean indexing"
   ]
  },
  {
   "cell_type": "code",
   "execution_count": 85,
   "id": "colored-worry",
   "metadata": {},
   "outputs": [
    {
     "data": {
      "text/plain": [
       "array([[  1,   2,   3,   4,   5,   6,   7,   8,   9,  10],\n",
       "       [ 11,  12,  13,  14,  15,  16,  17,  18,  19,  20],\n",
       "       [ 21,  22,  23,  24,  25,  26,  27,  28,  29,  30],\n",
       "       [ 31,  32,  33,  34,  35,  36,  37,  38,  39,  40],\n",
       "       [ 41,  42,  43,  44,  45,  46,  47,  48,  49,  50],\n",
       "       [ 51,  52,  53,  54,  55,  56,  57,  58,  59,  60],\n",
       "       [ 61,  62,  63,  64,  65,  66,  67,  68,  69,  70],\n",
       "       [ 71,  72,  73,  74,  75,  76,  77,  78,  79,  80],\n",
       "       [ 81,  82,  83,  84,  85,  86,  87,  88,  89,  90],\n",
       "       [ 91,  92,  93,  94,  95,  96,  97,  98,  99, 100]])"
      ]
     },
     "execution_count": 85,
     "metadata": {},
     "output_type": "execute_result"
    }
   ],
   "source": [
    "c = np.arange(1, 101, 1).reshape(10, 10)\n",
    "c"
   ]
  },
  {
   "cell_type": "code",
   "execution_count": 86,
   "id": "ready-burden",
   "metadata": {},
   "outputs": [
    {
     "data": {
      "text/plain": [
       "array([[False, False, False, False, False, False, False, False, False,\n",
       "        False],\n",
       "       [False, False, False, False, False, False, False, False, False,\n",
       "        False],\n",
       "       [False, False, False, False, False, False, False, False, False,\n",
       "        False],\n",
       "       [False, False, False, False, False, False, False, False, False,\n",
       "        False],\n",
       "       [False, False, False, False, False,  True,  True,  True,  True,\n",
       "         True],\n",
       "       [ True,  True,  True,  True,  True,  True,  True,  True,  True,\n",
       "         True],\n",
       "       [ True,  True,  True,  True,  True,  True,  True,  True,  True,\n",
       "         True],\n",
       "       [ True,  True,  True,  True,  True,  True,  True,  True,  True,\n",
       "         True],\n",
       "       [ True,  True,  True,  True,  True,  True,  True,  True,  True,\n",
       "         True],\n",
       "       [ True,  True,  True,  True,  True,  True,  True,  True,  True,\n",
       "         True]])"
      ]
     },
     "execution_count": 86,
     "metadata": {},
     "output_type": "execute_result"
    }
   ],
   "source": [
    "c > 45"
   ]
  },
  {
   "cell_type": "code",
   "execution_count": 87,
   "id": "random-bubble",
   "metadata": {},
   "outputs": [
    {
     "data": {
      "text/plain": [
       "array([[  0,   0,   0,   0,   0,   0,   0,   0,   0,   0],\n",
       "       [ 11,  12,  13,  14,  15,  16,  17,  18,  19,  20],\n",
       "       [ 21,  22,  23,  24,  25,  26,  27,  28,  29,  30],\n",
       "       [ 31,  32,  33,  34,  35,  36,  37,  38,  39,  40],\n",
       "       [ 41,  42,  43,  44,  45,  46,  47,  48,  49,  50],\n",
       "       [ 51,  52,  53,  54,  55,  56,  57,  58,  59,  60],\n",
       "       [ 61,  62,  63,  64,  65,  66,  67,  68,  69,  70],\n",
       "       [ 71,  72,  73,  74,  75,  76,  77,  78,  79,  80],\n",
       "       [ 81,  82,  83,  84,  85,  86,  87,  88,  89,  90],\n",
       "       [ 91,  92,  93,  94,  95,  96,  97,  98,  99, 100]])"
      ]
     },
     "execution_count": 87,
     "metadata": {},
     "output_type": "execute_result"
    }
   ],
   "source": [
    "c[c <= 10] = 0\n",
    "c"
   ]
  },
  {
   "cell_type": "markdown",
   "id": "christian-death",
   "metadata": {},
   "source": [
    "## Exercises\n",
    "\n",
    "- 1.1 Create a dictionary called `dog`, made of 5 meaningful items of your choice. Values should include: at least 1 integer, 1 list, 1 string.\n",
    "- 1.2 Add an element to the list that you stored in the `dog` dictionary, and print the new dictionary.\n",
    "- 1.3 Eliminate the item whose value was an integer, and print the new dictionary.\n",
    "- 1.4 Add a new item, print the dictionary, and then delete it, and print it again.\n",
    "\n",
    "\n",
    "- 2.1 Create a numpy array called `a`, of shape (10, 2), made of ones.\n",
    "- 2.2 Create a numpy array called `b`, of shape (10, 1), made of zeros.\n",
    "- 2.3 Add `a` to `b` and call their result `ab`.\n",
    "- 2.4 Access the second element in the third row of `ab` and assign the value 100. Print the new `ab`.\n",
    "- 2.5 Create a sequence called `c`, containing all multiples of 10 up to 200.\n",
    "- 2.6 Create a sequence called `d`, containing all numbers from 0 to 2 with 2 decimals.\n",
    "\n",
    "**Send me your solutions** before the end of this Friday (at laura.fontanesi@unibas.ch).\n",
    "\n",
    "**NOTE**: Do not send me a notebook but simply a text file, named `wpa_2_Surname_Name.py` (with your own name and surname of course). To make it a bit clear, please write a comment to indicate which answer a specific chunk of code releated to, e.g.:\n",
    "\n",
    "```\n",
    "# exercise 1\n",
    "a = 7 + 8\n",
    "b = 8\n",
    "c = a*b\n",
    "\n",
    "# exercise 2\n",
    "e = np.array([4, 5, 76])\n",
    "f = np.append(e, [3, 4, 5])\n",
    "```"
   ]
  },
  {
   "cell_type": "markdown",
   "id": "sharing-overhead",
   "metadata": {},
   "source": [
    "## Solutions"
   ]
  },
  {
   "cell_type": "markdown",
   "id": "fuzzy-capture",
   "metadata": {},
   "source": [
    "### Exercise 1"
   ]
  },
  {
   "cell_type": "markdown",
   "id": "liberal-antarctica",
   "metadata": {},
   "source": [
    "- 1.1 Create a dictionary called `dog`, made of 5 meaningful items of your choice. Values should include: at least 1 integer, 1 list, 1 string.\n",
    "- 1.2 Add an element to the list that you stored in the `dog` dictionary, and print the new dictionary.\n",
    "- 1.3 Eliminate the item whose value was an integer, and print the new dictionary.\n",
    "- 1.4 Add a new item, print the dictionary, and then delete it, and print it again."
   ]
  },
  {
   "cell_type": "code",
   "execution_count": 88,
   "id": "otherwise-investor",
   "metadata": {},
   "outputs": [
    {
     "data": {
      "text/plain": [
       "{'breed': 'Australian Shepherd',\n",
       " 'pedigree': False,\n",
       " 'gender': 'f',\n",
       " 'age': 2,\n",
       " 'height_jumps': [0.6, 1.2, 0.8, 1.1, 1.5, 1]}"
      ]
     },
     "execution_count": 88,
     "metadata": {},
     "output_type": "execute_result"
    }
   ],
   "source": [
    "dog = {\n",
    "    'breed': 'Australian Shepherd',\n",
    "    'pedigree': False,\n",
    "    'gender': 'f',\n",
    "    'age': 2,\n",
    "    'height_jumps': [.6, 1.2, .8, 1.1, 1.5]\n",
    "      }\n",
    "dog['height_jumps'].append(1)\n",
    "dog"
   ]
  },
  {
   "cell_type": "code",
   "execution_count": 89,
   "id": "lasting-hearts",
   "metadata": {},
   "outputs": [
    {
     "data": {
      "text/plain": [
       "{'breed': 'Australian Shepherd',\n",
       " 'pedigree': False,\n",
       " 'gender': 'f',\n",
       " 'height_jumps': [0.6, 1.2, 0.8, 1.1, 1.5, 1]}"
      ]
     },
     "execution_count": 89,
     "metadata": {},
     "output_type": "execute_result"
    }
   ],
   "source": [
    "dog.pop('age')\n",
    "dog"
   ]
  },
  {
   "cell_type": "code",
   "execution_count": 90,
   "id": "revised-empty",
   "metadata": {},
   "outputs": [
    {
     "data": {
      "text/plain": [
       "{'breed': 'Australian Shepherd',\n",
       " 'pedigree': False,\n",
       " 'gender': 'f',\n",
       " 'height_jumps': [0.6, 1.2, 0.8, 1.1, 1.5, 1],\n",
       " 'likes_apples': True}"
      ]
     },
     "execution_count": 90,
     "metadata": {},
     "output_type": "execute_result"
    }
   ],
   "source": [
    "dog['likes_apples'] = True\n",
    "dog"
   ]
  },
  {
   "cell_type": "code",
   "execution_count": 91,
   "id": "successful-fancy",
   "metadata": {},
   "outputs": [
    {
     "data": {
      "text/plain": [
       "{'breed': 'Australian Shepherd',\n",
       " 'pedigree': False,\n",
       " 'gender': 'f',\n",
       " 'height_jumps': [0.6, 1.2, 0.8, 1.1, 1.5, 1]}"
      ]
     },
     "execution_count": 91,
     "metadata": {},
     "output_type": "execute_result"
    }
   ],
   "source": [
    "dog.pop('likes_apples')\n",
    "dog"
   ]
  },
  {
   "cell_type": "markdown",
   "id": "married-stuff",
   "metadata": {},
   "source": [
    "### Exercise 2"
   ]
  },
  {
   "cell_type": "markdown",
   "id": "right-confusion",
   "metadata": {},
   "source": [
    "- 2.1 Create a numpy array called `a`, of shape (10, 2), made of ones.\n",
    "- 2.2 Create a numpy array called `b`, of shape (10, 1), made of zeros.\n",
    "- 2.3 Add `a` to `b` and call their result `ab`.\n",
    "- 2.4 Access the second element in the third row of `ab` and assign the value 100. Print the new `ab`.\n",
    "- 2.5 Create a sequence called `c`, containing all multiples of 10 up to 200.\n",
    "- 2.6 Create a sequence called `d`, containing all numbers from 0 to 2 with 2 decimals."
   ]
  },
  {
   "cell_type": "code",
   "execution_count": 92,
   "id": "animated-congo",
   "metadata": {},
   "outputs": [],
   "source": [
    "a = np.ones((10, 2))\n",
    "b = np.zeros((10, 1))"
   ]
  },
  {
   "cell_type": "code",
   "execution_count": 93,
   "id": "homeless-surname",
   "metadata": {},
   "outputs": [
    {
     "data": {
      "text/plain": [
       "array([[1., 1.],\n",
       "       [1., 1.],\n",
       "       [1., 1.],\n",
       "       [1., 1.],\n",
       "       [1., 1.],\n",
       "       [1., 1.],\n",
       "       [1., 1.],\n",
       "       [1., 1.],\n",
       "       [1., 1.],\n",
       "       [1., 1.]])"
      ]
     },
     "execution_count": 93,
     "metadata": {},
     "output_type": "execute_result"
    }
   ],
   "source": [
    "ab = a + b\n",
    "ab"
   ]
  },
  {
   "cell_type": "code",
   "execution_count": 94,
   "id": "lucky-caribbean",
   "metadata": {},
   "outputs": [
    {
     "data": {
      "text/plain": [
       "array([[  1.,   1.],\n",
       "       [  1.,   1.],\n",
       "       [  1., 100.],\n",
       "       [  1.,   1.],\n",
       "       [  1.,   1.],\n",
       "       [  1.,   1.],\n",
       "       [  1.,   1.],\n",
       "       [  1.,   1.],\n",
       "       [  1.,   1.],\n",
       "       [  1.,   1.]])"
      ]
     },
     "execution_count": 94,
     "metadata": {},
     "output_type": "execute_result"
    }
   ],
   "source": [
    "ab[2, 1] = 100\n",
    "ab"
   ]
  },
  {
   "cell_type": "code",
   "execution_count": 95,
   "id": "protected-original",
   "metadata": {},
   "outputs": [
    {
     "data": {
      "text/plain": [
       "array([ 10,  20,  30,  40,  50,  60,  70,  80,  90, 100, 110, 120, 130,\n",
       "       140, 150, 160, 170, 180, 190, 200])"
      ]
     },
     "execution_count": 95,
     "metadata": {},
     "output_type": "execute_result"
    }
   ],
   "source": [
    "c = np.arange(10, 201, 10)\n",
    "c"
   ]
  },
  {
   "cell_type": "code",
   "execution_count": 96,
   "id": "variable-marketplace",
   "metadata": {},
   "outputs": [
    {
     "data": {
      "text/plain": [
       "array([0.  , 0.01, 0.02, 0.03, 0.04, 0.05, 0.06, 0.07, 0.08, 0.09, 0.1 ,\n",
       "       0.11, 0.12, 0.13, 0.14, 0.15, 0.16, 0.17, 0.18, 0.19, 0.2 , 0.21,\n",
       "       0.22, 0.23, 0.24, 0.25, 0.26, 0.27, 0.28, 0.29, 0.3 , 0.31, 0.32,\n",
       "       0.33, 0.34, 0.35, 0.36, 0.37, 0.38, 0.39, 0.4 , 0.41, 0.42, 0.43,\n",
       "       0.44, 0.45, 0.46, 0.47, 0.48, 0.49, 0.5 , 0.51, 0.52, 0.53, 0.54,\n",
       "       0.55, 0.56, 0.57, 0.58, 0.59, 0.6 , 0.61, 0.62, 0.63, 0.64, 0.65,\n",
       "       0.66, 0.67, 0.68, 0.69, 0.7 , 0.71, 0.72, 0.73, 0.74, 0.75, 0.76,\n",
       "       0.77, 0.78, 0.79, 0.8 , 0.81, 0.82, 0.83, 0.84, 0.85, 0.86, 0.87,\n",
       "       0.88, 0.89, 0.9 , 0.91, 0.92, 0.93, 0.94, 0.95, 0.96, 0.97, 0.98,\n",
       "       0.99, 1.  , 1.01, 1.02, 1.03, 1.04, 1.05, 1.06, 1.07, 1.08, 1.09,\n",
       "       1.1 , 1.11, 1.12, 1.13, 1.14, 1.15, 1.16, 1.17, 1.18, 1.19, 1.2 ,\n",
       "       1.21, 1.22, 1.23, 1.24, 1.25, 1.26, 1.27, 1.28, 1.29, 1.3 , 1.31,\n",
       "       1.32, 1.33, 1.34, 1.35, 1.36, 1.37, 1.38, 1.39, 1.4 , 1.41, 1.42,\n",
       "       1.43, 1.44, 1.45, 1.46, 1.47, 1.48, 1.49, 1.5 , 1.51, 1.52, 1.53,\n",
       "       1.54, 1.55, 1.56, 1.57, 1.58, 1.59, 1.6 , 1.61, 1.62, 1.63, 1.64,\n",
       "       1.65, 1.66, 1.67, 1.68, 1.69, 1.7 , 1.71, 1.72, 1.73, 1.74, 1.75,\n",
       "       1.76, 1.77, 1.78, 1.79, 1.8 , 1.81, 1.82, 1.83, 1.84, 1.85, 1.86,\n",
       "       1.87, 1.88, 1.89, 1.9 , 1.91, 1.92, 1.93, 1.94, 1.95, 1.96, 1.97,\n",
       "       1.98, 1.99, 2.  ])"
      ]
     },
     "execution_count": 96,
     "metadata": {},
     "output_type": "execute_result"
    }
   ],
   "source": [
    "d = np.arange(0, 2.01, .01)\n",
    "d"
   ]
  }
 ],
 "metadata": {
  "kernelspec": {
   "display_name": "Python 3",
   "language": "python",
   "name": "python3"
  },
  "language_info": {
   "codemirror_mode": {
    "name": "ipython",
    "version": 3
   },
   "file_extension": ".py",
   "mimetype": "text/x-python",
   "name": "python",
   "nbconvert_exporter": "python",
   "pygments_lexer": "ipython3",
   "version": "3.6.13"
  }
 },
 "nbformat": 4,
 "nbformat_minor": 5
}
