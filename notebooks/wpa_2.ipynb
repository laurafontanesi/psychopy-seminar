{
 "cells": [
  {
   "cell_type": "markdown",
   "id": "egyptian-michael",
   "metadata": {},
   "source": [
    "# Intro to built-in data types and numpy arrays"
   ]
  },
  {
   "cell_type": "markdown",
   "id": "russian-reform",
   "metadata": {},
   "source": [
    "First of all, activate the `psychopy` conda envirornment (from the Terminal or Anaconda Prompt: `conda activate psychopy`, or from the Anaconda navigator) and let's check that `numpy` is installed."
   ]
  },
  {
   "cell_type": "code",
   "execution_count": null,
   "id": "billion-still",
   "metadata": {},
   "outputs": [],
   "source": [
    "import numpy as np"
   ]
  },
  {
   "cell_type": "markdown",
   "id": "convinced-inspector",
   "metadata": {},
   "source": [
    "## 1. Built-in Python data types"
   ]
  },
  {
   "cell_type": "markdown",
   "id": "attractive-cricket",
   "metadata": {},
   "source": [
    "Text and numeric types:"
   ]
  },
  {
   "cell_type": "code",
   "execution_count": null,
   "id": "lesbian-input",
   "metadata": {},
   "outputs": [],
   "source": [
    "text = \"ciao\"\n",
    "type(text)"
   ]
  },
  {
   "cell_type": "code",
   "execution_count": null,
   "id": "useful-stereo",
   "metadata": {},
   "outputs": [],
   "source": [
    "number = 3\n",
    "type(number)"
   ]
  },
  {
   "cell_type": "code",
   "execution_count": null,
   "id": "interstate-singapore",
   "metadata": {},
   "outputs": [],
   "source": [
    "another_number = 3.2\n",
    "type(another_number)"
   ]
  },
  {
   "cell_type": "markdown",
   "id": "competitive-oracle",
   "metadata": {},
   "source": [
    "Booleans are truth statements:"
   ]
  },
  {
   "cell_type": "code",
   "execution_count": null,
   "id": "stainless-jamaica",
   "metadata": {},
   "outputs": [],
   "source": [
    "number > 3"
   ]
  },
  {
   "cell_type": "code",
   "execution_count": null,
   "id": "configured-archive",
   "metadata": {},
   "outputs": [],
   "source": [
    "boolean = number < 3\n",
    "boolean"
   ]
  },
  {
   "cell_type": "code",
   "execution_count": null,
   "id": "responsible-petersburg",
   "metadata": {},
   "outputs": [],
   "source": [
    "type(boolean)"
   ]
  },
  {
   "cell_type": "markdown",
   "id": "northern-tamil",
   "metadata": {},
   "source": [
    "Sequences and mappings:\n",
    "\n",
    "- List is a collection which is ordered and changeable. Allows duplicate members.\n",
    "- Tuple is a collection which is ordered and unchangeable. Allows duplicate members.\n",
    "- Dictionary is a collection which is unordered and changeable. No duplicate members."
   ]
  },
  {
   "cell_type": "code",
   "execution_count": null,
   "id": "primary-detection",
   "metadata": {},
   "outputs": [],
   "source": [
    "a_list = [1, 2, 3]\n",
    "type(a_list)"
   ]
  },
  {
   "cell_type": "code",
   "execution_count": null,
   "id": "headed-aquarium",
   "metadata": {},
   "outputs": [],
   "source": [
    "a_tuple = (2, \"b\")\n",
    "type(a_tuple)"
   ]
  },
  {
   "cell_type": "code",
   "execution_count": null,
   "id": "foster-track",
   "metadata": {},
   "outputs": [],
   "source": [
    "a_dictionary = {\"age\": 25, \"height\": 180, \"measurements\": [8, 6, 15]}\n",
    "type(a_dictionary)"
   ]
  },
  {
   "cell_type": "markdown",
   "id": "bound-kenya",
   "metadata": {},
   "source": [
    "## 2. Lists"
   ]
  },
  {
   "cell_type": "code",
   "execution_count": null,
   "id": "derived-spirituality",
   "metadata": {},
   "outputs": [],
   "source": [
    "list_of_int = [1, 2, 3, 4]\n",
    "list_of_int"
   ]
  },
  {
   "cell_type": "code",
   "execution_count": null,
   "id": "environmental-spelling",
   "metadata": {},
   "outputs": [],
   "source": [
    "list_of_str = ['a', 'b', 'c', 'defgh']\n",
    "list_of_str"
   ]
  },
  {
   "cell_type": "code",
   "execution_count": null,
   "id": "angry-pizza",
   "metadata": {},
   "outputs": [],
   "source": [
    "list_of_bool = [True, False, True, True]\n",
    "list_of_bool"
   ]
  },
  {
   "cell_type": "code",
   "execution_count": null,
   "id": "included-location",
   "metadata": {},
   "outputs": [],
   "source": [
    "list_of_float = [0.1, 1, 2.1, 3.4]\n",
    "list_of_float"
   ]
  },
  {
   "cell_type": "code",
   "execution_count": null,
   "id": "emotional-coast",
   "metadata": {},
   "outputs": [],
   "source": [
    "list_of_int[0] # first element of a list"
   ]
  },
  {
   "cell_type": "code",
   "execution_count": null,
   "id": "eight-variety",
   "metadata": {},
   "outputs": [],
   "source": [
    "type(list_of_bool)"
   ]
  },
  {
   "cell_type": "code",
   "execution_count": null,
   "id": "martial-board",
   "metadata": {},
   "outputs": [],
   "source": [
    "type(list_of_float[1]), type(list_of_float[2]) # list can contain different data types"
   ]
  },
  {
   "cell_type": "code",
   "execution_count": null,
   "id": "authentic-component",
   "metadata": {},
   "outputs": [],
   "source": [
    "len(list_of_float) # how many elements are in this list?"
   ]
  },
  {
   "cell_type": "code",
   "execution_count": null,
   "id": "purple-bullet",
   "metadata": {},
   "outputs": [],
   "source": [
    "list_of_float*3 # stack the same list"
   ]
  },
  {
   "cell_type": "code",
   "execution_count": null,
   "id": "numeric-chrome",
   "metadata": {},
   "outputs": [],
   "source": [
    "list_of_float + list_of_bool + list_of_float # stack different lists"
   ]
  },
  {
   "cell_type": "code",
   "execution_count": null,
   "id": "tough-munich",
   "metadata": {},
   "outputs": [],
   "source": [
    "list_of_float # the original does not change!"
   ]
  },
  {
   "cell_type": "code",
   "execution_count": null,
   "id": "seventh-balloon",
   "metadata": {},
   "outputs": [],
   "source": [
    "list_of_float.append(list_of_bool) # add elements at the end"
   ]
  },
  {
   "cell_type": "code",
   "execution_count": null,
   "id": "intellectual-howard",
   "metadata": {},
   "outputs": [],
   "source": [
    "list_of_float # the original changed!"
   ]
  },
  {
   "cell_type": "code",
   "execution_count": null,
   "id": "exterior-amplifier",
   "metadata": {},
   "outputs": [],
   "source": [
    "len(list_of_float) # we appended a list as an element"
   ]
  },
  {
   "cell_type": "code",
   "execution_count": null,
   "id": "gothic-marble",
   "metadata": {},
   "outputs": [],
   "source": [
    "for i in list_of_str: # now we append every element one at a time\n",
    "    list_of_int.append(i)"
   ]
  },
  {
   "cell_type": "code",
   "execution_count": null,
   "id": "present-question",
   "metadata": {},
   "outputs": [],
   "source": [
    "list_of_int"
   ]
  },
  {
   "cell_type": "code",
   "execution_count": null,
   "id": "technological-blair",
   "metadata": {},
   "outputs": [],
   "source": [
    "list_of_int.sort() # you cannot sort the list when the elements are of different type though"
   ]
  },
  {
   "cell_type": "code",
   "execution_count": null,
   "id": "alien-grammar",
   "metadata": {},
   "outputs": [],
   "source": [
    "list_of_int = [2, 15, 6, 1]"
   ]
  },
  {
   "cell_type": "code",
   "execution_count": null,
   "id": "ordinary-energy",
   "metadata": {},
   "outputs": [],
   "source": [
    "list_of_int.sort()"
   ]
  },
  {
   "cell_type": "code",
   "execution_count": null,
   "id": "allied-senate",
   "metadata": {},
   "outputs": [],
   "source": [
    "list_of_int"
   ]
  },
  {
   "cell_type": "code",
   "execution_count": null,
   "id": "geographic-studio",
   "metadata": {},
   "outputs": [],
   "source": [
    "list_of_int.reverse() # reverse the order!\n",
    "list_of_int"
   ]
  },
  {
   "cell_type": "code",
   "execution_count": null,
   "id": "advised-douglas",
   "metadata": {},
   "outputs": [],
   "source": [
    "list_of_int.remove(15) # remove a specific element\n",
    "list_of_int"
   ]
  },
  {
   "cell_type": "code",
   "execution_count": null,
   "id": "lonely-climb",
   "metadata": {},
   "outputs": [],
   "source": [
    "list_of_int.insert(2, 34) # insert a specific element in a certain position\n",
    "list_of_int"
   ]
  },
  {
   "cell_type": "code",
   "execution_count": null,
   "id": "floral-volleyball",
   "metadata": {},
   "outputs": [],
   "source": [
    "list_of_int.pop(2) # remove a specific element in a certain position\n",
    "list_of_int"
   ]
  },
  {
   "cell_type": "markdown",
   "id": "packed-violence",
   "metadata": {},
   "source": [
    "## 3. Dictionaries"
   ]
  },
  {
   "cell_type": "code",
   "execution_count": null,
   "id": "shared-cleanup",
   "metadata": {},
   "outputs": [],
   "source": [
    "auto = {'model': 'PEUGEOT 308',\n",
    "        'CHF': 10500,\n",
    "        'where': 'Dietikon',\n",
    "        'km': 86000,\n",
    "        'fuel': 'diesel',\n",
    "        'ccm': 1560\n",
    "       }"
   ]
  },
  {
   "cell_type": "code",
   "execution_count": null,
   "id": "desperate-privilege",
   "metadata": {},
   "outputs": [],
   "source": [
    "auto.values()"
   ]
  },
  {
   "cell_type": "code",
   "execution_count": null,
   "id": "spanish-acoustic",
   "metadata": {},
   "outputs": [],
   "source": [
    "auto.keys()"
   ]
  },
  {
   "cell_type": "code",
   "execution_count": null,
   "id": "lovely-cruise",
   "metadata": {},
   "outputs": [],
   "source": [
    "auto.items()"
   ]
  },
  {
   "cell_type": "code",
   "execution_count": null,
   "id": "express-third",
   "metadata": {},
   "outputs": [],
   "source": [
    "for i in auto.items():\n",
    "    print(type(i))"
   ]
  },
  {
   "cell_type": "code",
   "execution_count": null,
   "id": "affecting-ethernet",
   "metadata": {},
   "outputs": [],
   "source": [
    "for i in auto:\n",
    "    print(i)"
   ]
  },
  {
   "cell_type": "code",
   "execution_count": null,
   "id": "differential-luxury",
   "metadata": {},
   "outputs": [],
   "source": [
    "for i in auto:\n",
    "    print(auto[i])"
   ]
  },
  {
   "cell_type": "code",
   "execution_count": null,
   "id": "average-heather",
   "metadata": {},
   "outputs": [],
   "source": [
    "for i in auto:\n",
    "    print(i, auto[i])"
   ]
  },
  {
   "cell_type": "code",
   "execution_count": null,
   "id": "whole-cologne",
   "metadata": {},
   "outputs": [],
   "source": [
    "len(auto) # how many items?"
   ]
  },
  {
   "cell_type": "code",
   "execution_count": null,
   "id": "honest-electron",
   "metadata": {},
   "outputs": [],
   "source": [
    "auto['model'] # get value corresponding to a key"
   ]
  },
  {
   "cell_type": "code",
   "execution_count": null,
   "id": "subjective-roman",
   "metadata": {},
   "outputs": [],
   "source": [
    "auto['km'] = 90000 # change a value\n",
    "auto"
   ]
  },
  {
   "cell_type": "code",
   "execution_count": null,
   "id": "corresponding-slovakia",
   "metadata": {},
   "outputs": [],
   "source": [
    "auto['color'] = 'blue' # add an item\n",
    "auto"
   ]
  },
  {
   "cell_type": "code",
   "execution_count": null,
   "id": "emerging-guinea",
   "metadata": {},
   "outputs": [],
   "source": [
    "'color' in auto # is a key in the dic?"
   ]
  },
  {
   "cell_type": "code",
   "execution_count": null,
   "id": "respective-performer",
   "metadata": {},
   "outputs": [],
   "source": [
    "auto.pop(\"CHF\") # remove an item\n",
    "auto"
   ]
  },
  {
   "cell_type": "markdown",
   "id": "modular-monaco",
   "metadata": {},
   "source": [
    "## 4. Creating a numpy array "
   ]
  },
  {
   "cell_type": "code",
   "execution_count": null,
   "id": "humanitarian-oracle",
   "metadata": {},
   "outputs": [],
   "source": [
    "np.array() "
   ]
  },
  {
   "cell_type": "raw",
   "id": "mexican-moral",
   "metadata": {},
   "source": [
    "np.array?"
   ]
  },
  {
   "cell_type": "code",
   "execution_count": null,
   "id": "otherwise-andrews",
   "metadata": {},
   "outputs": [],
   "source": [
    "first_array = np.array([])\n",
    "first_array"
   ]
  },
  {
   "cell_type": "code",
   "execution_count": null,
   "id": "matched-fraction",
   "metadata": {},
   "outputs": [],
   "source": [
    "int_array = np.array([1, 2, 3, 4])\n",
    "int_array"
   ]
  },
  {
   "cell_type": "code",
   "execution_count": null,
   "id": "impressive-playing",
   "metadata": {},
   "outputs": [],
   "source": [
    "int_array.dtype"
   ]
  },
  {
   "cell_type": "code",
   "execution_count": null,
   "id": "brief-patrick",
   "metadata": {},
   "outputs": [],
   "source": [
    "str_array = np.array(['a', 'b', 'c', 'd', 'e'])\n",
    "str_array.dtype"
   ]
  },
  {
   "cell_type": "code",
   "execution_count": null,
   "id": "loved-banner",
   "metadata": {},
   "outputs": [],
   "source": [
    "str_array = np.array(['aerf', 'B1', 'c', 'd', 'e'])\n",
    "str_array.dtype"
   ]
  },
  {
   "cell_type": "code",
   "execution_count": null,
   "id": "blocked-branch",
   "metadata": {},
   "outputs": [],
   "source": [
    "type(int_array), type(first_array), type(str_array)"
   ]
  },
  {
   "cell_type": "code",
   "execution_count": null,
   "id": "joined-minimum",
   "metadata": {},
   "outputs": [],
   "source": [
    "int_array[0] # access the first element"
   ]
  },
  {
   "cell_type": "code",
   "execution_count": null,
   "id": "sustainable-poison",
   "metadata": {},
   "outputs": [],
   "source": [
    "more_dimensions = np.array([[1, 2, 3], [4.1, 5, 6]])\n",
    "more_dimensions"
   ]
  },
  {
   "cell_type": "code",
   "execution_count": null,
   "id": "particular-yahoo",
   "metadata": {},
   "outputs": [],
   "source": [
    "more_dimensions[0, 2] # access elements in a 2D array"
   ]
  },
  {
   "cell_type": "code",
   "execution_count": null,
   "id": "dominican-grass",
   "metadata": {},
   "outputs": [],
   "source": [
    "more_dimensions[1, 0] = 4 # change an element\n",
    "more_dimensions"
   ]
  },
  {
   "cell_type": "code",
   "execution_count": null,
   "id": "greatest-economics",
   "metadata": {},
   "outputs": [],
   "source": [
    "more_dimensions.dtype # differently from lists, the elements of an array must all have same type"
   ]
  },
  {
   "cell_type": "code",
   "execution_count": null,
   "id": "equipped-small",
   "metadata": {},
   "outputs": [],
   "source": [
    "more_dimensions.astype(int) # change type"
   ]
  },
  {
   "cell_type": "code",
   "execution_count": null,
   "id": "threaded-conservation",
   "metadata": {},
   "outputs": [],
   "source": [
    "int_array.shape"
   ]
  },
  {
   "cell_type": "code",
   "execution_count": null,
   "id": "deadly-gates",
   "metadata": {},
   "outputs": [],
   "source": [
    "more_dimensions.shape"
   ]
  },
  {
   "cell_type": "markdown",
   "id": "returning-welding",
   "metadata": {},
   "source": [
    "Create arrays made of zeros or ones:"
   ]
  },
  {
   "cell_type": "code",
   "execution_count": null,
   "id": "assured-patrol",
   "metadata": {},
   "outputs": [],
   "source": [
    "a = np.zeros(shape=(3, 10))\n",
    "a"
   ]
  },
  {
   "cell_type": "code",
   "execution_count": null,
   "id": "confident-matthew",
   "metadata": {},
   "outputs": [],
   "source": [
    "b = np.ones(10)\n",
    "b"
   ]
  },
  {
   "cell_type": "code",
   "execution_count": null,
   "id": "historical-confusion",
   "metadata": {},
   "outputs": [],
   "source": [
    "a*b # differently from lists, operations between arrays are math operations"
   ]
  },
  {
   "cell_type": "code",
   "execution_count": null,
   "id": "supposed-charter",
   "metadata": {},
   "outputs": [],
   "source": [
    "a + b"
   ]
  },
  {
   "cell_type": "code",
   "execution_count": null,
   "id": "broken-station",
   "metadata": {},
   "outputs": [],
   "source": [
    "b*24"
   ]
  },
  {
   "cell_type": "code",
   "execution_count": null,
   "id": "automatic-tissue",
   "metadata": {},
   "outputs": [],
   "source": [
    "a + 10 / 2"
   ]
  },
  {
   "cell_type": "markdown",
   "id": "structured-assistant",
   "metadata": {},
   "source": [
    "Create different kind of sequences:"
   ]
  },
  {
   "cell_type": "code",
   "execution_count": null,
   "id": "lesbian-catalyst",
   "metadata": {},
   "outputs": [],
   "source": [
    "np.arange(start=0, stop=11, step=2) # sequence of numbers from start to stop, every step"
   ]
  },
  {
   "cell_type": "code",
   "execution_count": null,
   "id": "chinese-spank",
   "metadata": {},
   "outputs": [],
   "source": [
    "np.arange(1, 12, step=2)"
   ]
  },
  {
   "cell_type": "code",
   "execution_count": null,
   "id": "helpful-preview",
   "metadata": {},
   "outputs": [],
   "source": [
    "np.linspace(start=1, stop=10, num=10) # sequence of num lenghts, between start and stop"
   ]
  },
  {
   "cell_type": "code",
   "execution_count": null,
   "id": "endless-excellence",
   "metadata": {},
   "outputs": [],
   "source": [
    "np.linspace(start=0, stop=10, num=21)"
   ]
  },
  {
   "cell_type": "markdown",
   "id": "suburban-company",
   "metadata": {},
   "source": [
    "## 5. Boolean indexing"
   ]
  },
  {
   "cell_type": "code",
   "execution_count": null,
   "id": "absolute-resistance",
   "metadata": {},
   "outputs": [],
   "source": [
    "c = np.arange(1, 101, 1).reshape(10, 10)\n",
    "c"
   ]
  },
  {
   "cell_type": "code",
   "execution_count": null,
   "id": "strong-killer",
   "metadata": {},
   "outputs": [],
   "source": [
    "c > 45"
   ]
  },
  {
   "cell_type": "code",
   "execution_count": null,
   "id": "inclusive-myrtle",
   "metadata": {},
   "outputs": [],
   "source": [
    "c[c <= 10] = 0\n",
    "c"
   ]
  },
  {
   "cell_type": "markdown",
   "id": "narrative-survival",
   "metadata": {},
   "source": [
    "## Exercises\n",
    "\n",
    "- 1.1 Create a dictionary called `dog`, made of 5 meaningful items of your choice. Values should include: at least 1 integer, 1 list, 1 string.\n",
    "- 1.2 Add an element to the list that you stored in the `dog` dictionary, and print the new dictionary.\n",
    "- 1.3 Eliminate the item whose value was an integer, and print the new dictionary.\n",
    "- 1.4 Add a new item, print the dictionary, and then delete it, and print it again.\n",
    "\n",
    "\n",
    "- 2.1 Create a numpy array called `a`, of shape (10, 2), made of ones.\n",
    "- 2.2 Create a numpy array called `b`, of shape (10, 1), made of zeros.\n",
    "- 2.3 Add `a` to `b` and call their result `ab`.\n",
    "- 2.4 Access the second element in the third row of `ab` and assign the value 100. Print the new `ab`.\n",
    "- 2.5 Create a sequence called `c`, containing all multiples of 10 up to 200.\n",
    "- 2.6 Create a sequence called `d`, containing all numbers from 0 to 2 with 2 decimals.\n",
    "\n",
    "**Send me your solutions** before the end of this Friday (at laura.fontanesi@unibas.ch).\n",
    "\n",
    "**NOTE**: Do not send me a notebook but simply a text file, named `wpa_2_Surname_Name.py` (with your own name and surname of course). To make it a bit clear, please write a comment to indicate which answer a specific chunk of code releated to, e.g.:\n",
    "\n",
    "```\n",
    "# exercise 1\n",
    "a = 7 + 8\n",
    "b = 8\n",
    "c = a*b\n",
    "\n",
    "# exercise 2\n",
    "e = np.array([4, 5, 76])\n",
    "f = np.append(e, [3, 4, 5])\n",
    "```"
   ]
  }
 ],
 "metadata": {
  "kernelspec": {
   "display_name": "Python 3",
   "language": "python",
   "name": "python3"
  },
  "language_info": {
   "codemirror_mode": {
    "name": "ipython",
    "version": 3
   },
   "file_extension": ".py",
   "mimetype": "text/x-python",
   "name": "python",
   "nbconvert_exporter": "python",
   "pygments_lexer": "ipython3",
   "version": "3.6.13"
  }
 },
 "nbformat": 4,
 "nbformat_minor": 5
}
