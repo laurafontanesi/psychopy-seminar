{
 "cells": [
  {
   "cell_type": "markdown",
   "id": "unlikely-flash",
   "metadata": {},
   "source": [
    "# Numpy and Pandas"
   ]
  },
  {
   "cell_type": "code",
   "execution_count": 1,
   "id": "hawaiian-mention",
   "metadata": {},
   "outputs": [],
   "source": [
    "import numpy as np"
   ]
  },
  {
   "cell_type": "markdown",
   "id": "architectural-peter",
   "metadata": {},
   "source": [
    "## 1. Numpy random"
   ]
  },
  {
   "cell_type": "markdown",
   "id": "genuine-hierarchy",
   "metadata": {},
   "source": [
    "`np.random.choice` generates a random sample from a given 1-D array"
   ]
  },
  {
   "cell_type": "code",
   "execution_count": 2,
   "id": "representative-feedback",
   "metadata": {},
   "outputs": [
    {
     "data": {
      "text/plain": [
       "array(['d', 'f', 'c', 'd', 'f', 'c', 'f', 'e', 'a', 'e', 'b', 'e', 'f',\n",
       "       'a', 'd', 'e', 'a', 'b', 'f', 'a', 'a', 'd', 'f', 'e', 'c', 'c',\n",
       "       'a', 'a', 'a', 'e', 'd', 'a', 'c', 'f', 'c', 'b', 'c', 'f', 'd',\n",
       "       'd', 'f', 'a', 'f', 'd', 'b', 'a', 'f', 'b', 'b', 'b', 'd', 'a',\n",
       "       'a', 'c', 'c', 'b', 'a', 'f', 'c', 'e'], dtype='<U1')"
      ]
     },
     "execution_count": 2,
     "metadata": {},
     "output_type": "execute_result"
    }
   ],
   "source": [
    "np.random.choice(a=['a', 'b', 'c', 'd', 'e', 'f'], size=60, replace=True)"
   ]
  },
  {
   "cell_type": "code",
   "execution_count": 3,
   "id": "organic-routine",
   "metadata": {},
   "outputs": [
    {
     "data": {
      "text/plain": [
       "array(['a', 'b', 'c', 'c', 'c', 'c', 'c', 'c', 'a', 'd', 'b', 'c', 'a',\n",
       "       'd', 'c', 'b', 'c', 'c', 'c', 'c', 'c', 'd', 'a', 'c', 'c', 'c',\n",
       "       'c', 'd', 'c', 'c', 'a', 'a', 'c', 'c', 'c', 'b', 'c', 'c', 'd',\n",
       "       'a', 'c', 'c', 'c', 'd', 'a', 'c', 'c', 'a', 'c', 'b', 'c', 'c',\n",
       "       'c', 'd', 'c', 'c', 'c', 'd', 'c', 'c', 'c', 'c', 'c', 'c', 'a',\n",
       "       'c', 'c', 'c', 'a', 'c', 'c', 'a', 'b', 'c', 'c', 'c', 'c', 'c',\n",
       "       'a', 'c', 'd', 'c', 'c', 'a', 'a', 'c', 'c', 'c', 'c', 'a', 'd',\n",
       "       'c', 'c', 'c', 'c', 'd', 'c', 'd', 'c', 'b'], dtype='<U1')"
      ]
     },
     "execution_count": 3,
     "metadata": {},
     "output_type": "execute_result"
    }
   ],
   "source": [
    "np.random.choice(a=['a', 'b', 'c', 'd'], p=[0.1, 0.1, 0.7, 0.1], size=100)"
   ]
  },
  {
   "cell_type": "code",
   "execution_count": 4,
   "id": "environmental-heart",
   "metadata": {},
   "outputs": [
    {
     "data": {
      "text/plain": [
       "array([ 58,   4,  49,  62,  52,  51,  66,  82,  99,  85,  92,  56,  21,\n",
       "        24,  76,  53,  23,  75,  13,  33,  35,  55,  10,  57,  87,  60,\n",
       "        63,  43,  30,  36,  68,   9,  70,  69,  95,  19,  25,  17,  64,\n",
       "        78,  50,  94,  47,  73,  86,  32,  16,   6,  46,  37,  88,  31,\n",
       "       100,  26,  79,  11,  81,  34,  72,  44,  89,  39,  74,  71,  96,\n",
       "        15,  48,   7,  67,   2,  80,  98,  22,  27,  18,   3,  41,  97,\n",
       "        93,  54,  59,   5,  40,   1,  45,  12,  14,  84,   8,  61,  77,\n",
       "        29,  38,  65,  28,  91,  42,  90,  20,  83])"
      ]
     },
     "execution_count": 4,
     "metadata": {},
     "output_type": "execute_result"
    }
   ],
   "source": [
    "np.random.choice(a=np.arange(1, 101), size=100, replace=False)"
   ]
  },
  {
   "cell_type": "code",
   "execution_count": 5,
   "id": "expressed-drama",
   "metadata": {},
   "outputs": [
    {
     "data": {
      "text/plain": [
       "array([ 80,  62,  91,  14,  20,  66,  82,   6,  45,  23,  77,  60,  96,\n",
       "        21,  54,  67,  41,  38,  84,  64,  93,  47,  57,  30,  99,  44,\n",
       "        28,  55,  83,  39,  79,  33,  31,  25,  42,  90,  58,  76,  95,\n",
       "        48,  11,   2,  50,  69,  52,  71,  94,  75,  49,  40,  85,   4,\n",
       "        51,  78,   8,   9,  61,  34,  13,  17,  81,  65,  88,  19,  10,\n",
       "         5,  56,  86,  27,  74,  59,  53,  89,  29,  98,  43,  72,  63,\n",
       "        24,  36,  15,  32,  97,  87,  73,  46,  22,  35,  70,  92,   7,\n",
       "        26,  16,  18,  12,  37,   1,   3, 100,  68])"
      ]
     },
     "execution_count": 5,
     "metadata": {},
     "output_type": "execute_result"
    }
   ],
   "source": [
    "# similar to (note that this changes the array in place):\n",
    "x = np.arange(1, 101)\n",
    "np.random.shuffle(x)\n",
    "x"
   ]
  },
  {
   "cell_type": "code",
   "execution_count": 6,
   "id": "resident-newspaper",
   "metadata": {},
   "outputs": [
    {
     "data": {
      "text/plain": [
       "array([  1,   2,   3,   4,   5,   6,   7,   8,   9,  10,  11,  12,  13,\n",
       "        14,  15,  16,  17,  18,  19,  20,  21,  22,  23,  24,  25,  26,\n",
       "        27,  28,  29,  30,  31,  32,  33,  34,  35,  36,  37,  38,  39,\n",
       "        40,  41,  42,  43,  44,  45,  46,  47,  48,  49,  50,  51,  52,\n",
       "        53,  54,  55,  56,  57,  58,  59,  60,  61,  62,  63,  64,  65,\n",
       "        66,  67,  68,  69,  70,  71,  72,  73,  74,  75,  76,  77,  78,\n",
       "        79,  80,  81,  82,  83,  84,  85,  86,  87,  88,  89,  90,  91,\n",
       "        92,  93,  94,  95,  96,  97,  98,  99, 100])"
      ]
     },
     "execution_count": 6,
     "metadata": {},
     "output_type": "execute_result"
    }
   ],
   "source": [
    "# to reorder x (note that this does not change the array in place)\n",
    "x = np.sort(x)\n",
    "x"
   ]
  },
  {
   "cell_type": "code",
   "execution_count": 7,
   "id": "particular-layer",
   "metadata": {},
   "outputs": [
    {
     "data": {
      "text/plain": [
       "array([6, 4, 6, 9, 7, 3, 4, 6, 0, 1, 2, 9, 2, 8, 5, 2, 1, 3, 9, 2])"
      ]
     },
     "execution_count": 7,
     "metadata": {},
     "output_type": "execute_result"
    }
   ],
   "source": [
    "# 20 numbers between 0 and 10\n",
    "np.random.randint(0, 10, size=20)"
   ]
  },
  {
   "cell_type": "markdown",
   "id": "cathedral-candle",
   "metadata": {},
   "source": [
    "We can also sample from distributions:"
   ]
  },
  {
   "cell_type": "code",
   "execution_count": 8,
   "id": "international-helping",
   "metadata": {},
   "outputs": [
    {
     "data": {
      "text/plain": [
       "array([6.25281066, 3.59768254, 0.95215574, 8.41004869, 0.65187148,\n",
       "       8.94067952, 5.31821088, 7.28080722, 9.90525903, 1.55263035,\n",
       "       6.56004473, 3.33119578, 6.27641887, 1.04621023, 4.33658134,\n",
       "       6.65110757, 8.21877731, 7.51889882, 4.28735741, 3.91421912])"
      ]
     },
     "execution_count": 8,
     "metadata": {},
     "output_type": "execute_result"
    }
   ],
   "source": [
    "np.random.uniform(low=0, high=10, size=20)"
   ]
  },
  {
   "cell_type": "code",
   "execution_count": 9,
   "id": "weekly-migration",
   "metadata": {},
   "outputs": [
    {
     "data": {
      "text/plain": [
       "array([-1.08386577, -0.33237639, -0.14256541,  1.39712666, -0.63035908,\n",
       "        0.27859579, -2.43991835, -0.83149125, -0.78916959, -1.16488831])"
      ]
     },
     "execution_count": 9,
     "metadata": {},
     "output_type": "execute_result"
    }
   ],
   "source": [
    "np.random.normal(loc=0, scale=1, size=10)"
   ]
  },
  {
   "cell_type": "code",
   "execution_count": 10,
   "id": "fantastic-vatican",
   "metadata": {},
   "outputs": [
    {
     "data": {
      "text/plain": [
       "array([-9.13359411, -1.69122744, 10.35144027])"
      ]
     },
     "execution_count": 10,
     "metadata": {},
     "output_type": "execute_result"
    }
   ],
   "source": [
    "np.random.normal(loc=[-10, 0, 10], scale=1)"
   ]
  },
  {
   "cell_type": "code",
   "execution_count": 11,
   "id": "objective-pioneer",
   "metadata": {},
   "outputs": [
    {
     "data": {
      "text/plain": [
       "array([1, 1, 1, 1, 1, 1, 1, 1, 1, 0, 0, 0, 1, 1, 0, 1, 1, 1, 1, 1, 1, 1,\n",
       "       1, 1, 1, 1, 1, 1, 1, 1, 0, 1, 1, 0, 1, 1, 1, 1, 0, 0, 1, 1, 1, 1,\n",
       "       0, 1, 0, 1, 1, 1])"
      ]
     },
     "execution_count": 11,
     "metadata": {},
     "output_type": "execute_result"
    }
   ],
   "source": [
    "np.random.binomial(n=1, p=.8, size=50)"
   ]
  },
  {
   "cell_type": "code",
   "execution_count": 12,
   "id": "spread-hughes",
   "metadata": {},
   "outputs": [
    {
     "data": {
      "text/plain": [
       "array([0, 1, 0, 1])"
      ]
     },
     "execution_count": 12,
     "metadata": {},
     "output_type": "execute_result"
    }
   ],
   "source": [
    "np.random.binomial(n=1, p=[.6, .8, .1, .2])"
   ]
  },
  {
   "cell_type": "markdown",
   "id": "devoted-addiction",
   "metadata": {},
   "source": [
    "## 2. Tiling and repeating arrays"
   ]
  },
  {
   "cell_type": "code",
   "execution_count": 13,
   "id": "fiscal-sterling",
   "metadata": {},
   "outputs": [],
   "source": [
    "letters = np.array(['A', 'B', 'C'])\n",
    "colors = np.array(['red', 'blue', 'grey'])"
   ]
  },
  {
   "cell_type": "code",
   "execution_count": 14,
   "id": "eastern-essence",
   "metadata": {},
   "outputs": [
    {
     "data": {
      "text/plain": [
       "array(['red', 'red', 'red', 'blue', 'blue', 'blue', 'grey', 'grey',\n",
       "       'grey'], dtype='<U4')"
      ]
     },
     "execution_count": 14,
     "metadata": {},
     "output_type": "execute_result"
    }
   ],
   "source": [
    "colors = np.repeat(colors, repeats=3)\n",
    "colors"
   ]
  },
  {
   "cell_type": "code",
   "execution_count": 15,
   "id": "editorial-assignment",
   "metadata": {},
   "outputs": [
    {
     "data": {
      "text/plain": [
       "array(['A', 'B', 'C', 'A', 'B', 'C', 'A', 'B', 'C'], dtype='<U1')"
      ]
     },
     "execution_count": 15,
     "metadata": {},
     "output_type": "execute_result"
    }
   ],
   "source": [
    "letters = np.tile(letters, reps=3)\n",
    "letters"
   ]
  },
  {
   "cell_type": "code",
   "execution_count": 16,
   "id": "bizarre-throat",
   "metadata": {},
   "outputs": [
    {
     "ename": "UFuncTypeError",
     "evalue": "ufunc 'add' did not contain a loop with signature matching types (dtype('<U4'), dtype('<U4')) -> dtype('<U4')",
     "output_type": "error",
     "traceback": [
      "\u001b[0;31m---------------------------------------------------------------------------\u001b[0m",
      "\u001b[0;31mUFuncTypeError\u001b[0m                            Traceback (most recent call last)",
      "\u001b[0;32m<ipython-input-16-ce02c482329b>\u001b[0m in \u001b[0;36m<module>\u001b[0;34m()\u001b[0m\n\u001b[0;32m----> 1\u001b[0;31m \u001b[0mcolors\u001b[0m \u001b[0;34m+\u001b[0m \u001b[0mletters\u001b[0m\u001b[0;34m\u001b[0m\u001b[0;34m\u001b[0m\u001b[0m\n\u001b[0m",
      "\u001b[0;31mUFuncTypeError\u001b[0m: ufunc 'add' did not contain a loop with signature matching types (dtype('<U4'), dtype('<U4')) -> dtype('<U4')"
     ]
    }
   ],
   "source": [
    "colors + letters"
   ]
  },
  {
   "cell_type": "code",
   "execution_count": 17,
   "id": "supported-packaging",
   "metadata": {},
   "outputs": [
    {
     "data": {
      "text/plain": [
       "array(['Ared', 'Bred', 'Cred', 'Ablue', 'Bblue', 'Cblue', 'Agrey',\n",
       "       'Bgrey', 'Cgrey'], dtype='<U5')"
      ]
     },
     "execution_count": 17,
     "metadata": {},
     "output_type": "execute_result"
    }
   ],
   "source": [
    "np.char.add(letters, colors)"
   ]
  },
  {
   "cell_type": "markdown",
   "id": "charged-filling",
   "metadata": {},
   "source": [
    "## 3. Creating a pandas dataframe"
   ]
  },
  {
   "cell_type": "code",
   "execution_count": 18,
   "id": "initial-hypothesis",
   "metadata": {},
   "outputs": [],
   "source": [
    "import pandas as pd"
   ]
  },
  {
   "cell_type": "code",
   "execution_count": 19,
   "id": "sweet-alabama",
   "metadata": {},
   "outputs": [],
   "source": [
    "df = pd.DataFrame({\n",
    "    'letters': letters,\n",
    "    'colors': colors,\n",
    "    'stimuli': np.char.add(np.char.add(letters, \"_\"), colors)\n",
    "             })"
   ]
  },
  {
   "cell_type": "code",
   "execution_count": 20,
   "id": "employed-reason",
   "metadata": {},
   "outputs": [
    {
     "data": {
      "text/html": [
       "<div>\n",
       "<style scoped>\n",
       "    .dataframe tbody tr th:only-of-type {\n",
       "        vertical-align: middle;\n",
       "    }\n",
       "\n",
       "    .dataframe tbody tr th {\n",
       "        vertical-align: top;\n",
       "    }\n",
       "\n",
       "    .dataframe thead th {\n",
       "        text-align: right;\n",
       "    }\n",
       "</style>\n",
       "<table border=\"1\" class=\"dataframe\">\n",
       "  <thead>\n",
       "    <tr style=\"text-align: right;\">\n",
       "      <th></th>\n",
       "      <th>letters</th>\n",
       "      <th>colors</th>\n",
       "      <th>stimuli</th>\n",
       "    </tr>\n",
       "  </thead>\n",
       "  <tbody>\n",
       "    <tr>\n",
       "      <th>0</th>\n",
       "      <td>A</td>\n",
       "      <td>red</td>\n",
       "      <td>A_red</td>\n",
       "    </tr>\n",
       "    <tr>\n",
       "      <th>1</th>\n",
       "      <td>B</td>\n",
       "      <td>red</td>\n",
       "      <td>B_red</td>\n",
       "    </tr>\n",
       "    <tr>\n",
       "      <th>2</th>\n",
       "      <td>C</td>\n",
       "      <td>red</td>\n",
       "      <td>C_red</td>\n",
       "    </tr>\n",
       "    <tr>\n",
       "      <th>3</th>\n",
       "      <td>A</td>\n",
       "      <td>blue</td>\n",
       "      <td>A_blue</td>\n",
       "    </tr>\n",
       "    <tr>\n",
       "      <th>4</th>\n",
       "      <td>B</td>\n",
       "      <td>blue</td>\n",
       "      <td>B_blue</td>\n",
       "    </tr>\n",
       "    <tr>\n",
       "      <th>5</th>\n",
       "      <td>C</td>\n",
       "      <td>blue</td>\n",
       "      <td>C_blue</td>\n",
       "    </tr>\n",
       "    <tr>\n",
       "      <th>6</th>\n",
       "      <td>A</td>\n",
       "      <td>grey</td>\n",
       "      <td>A_grey</td>\n",
       "    </tr>\n",
       "    <tr>\n",
       "      <th>7</th>\n",
       "      <td>B</td>\n",
       "      <td>grey</td>\n",
       "      <td>B_grey</td>\n",
       "    </tr>\n",
       "    <tr>\n",
       "      <th>8</th>\n",
       "      <td>C</td>\n",
       "      <td>grey</td>\n",
       "      <td>C_grey</td>\n",
       "    </tr>\n",
       "  </tbody>\n",
       "</table>\n",
       "</div>"
      ],
      "text/plain": [
       "  letters colors stimuli\n",
       "0       A    red   A_red\n",
       "1       B    red   B_red\n",
       "2       C    red   C_red\n",
       "3       A   blue  A_blue\n",
       "4       B   blue  B_blue\n",
       "5       C   blue  C_blue\n",
       "6       A   grey  A_grey\n",
       "7       B   grey  B_grey\n",
       "8       C   grey  C_grey"
      ]
     },
     "execution_count": 20,
     "metadata": {},
     "output_type": "execute_result"
    }
   ],
   "source": [
    "df"
   ]
  },
  {
   "cell_type": "code",
   "execution_count": 21,
   "id": "recorded-longer",
   "metadata": {},
   "outputs": [
    {
     "data": {
      "text/plain": [
       "0    A\n",
       "1    B\n",
       "2    C\n",
       "3    A\n",
       "4    B\n",
       "5    C\n",
       "6    A\n",
       "7    B\n",
       "8    C\n",
       "Name: letters, dtype: object"
      ]
     },
     "execution_count": 21,
     "metadata": {},
     "output_type": "execute_result"
    }
   ],
   "source": [
    "df['letters']"
   ]
  },
  {
   "cell_type": "code",
   "execution_count": 22,
   "id": "caroline-preparation",
   "metadata": {},
   "outputs": [],
   "source": [
    "df['trial'] = np.arange(1, 10)\n",
    "df['participant'] = 1"
   ]
  },
  {
   "cell_type": "code",
   "execution_count": 23,
   "id": "relative-kingdom",
   "metadata": {},
   "outputs": [
    {
     "data": {
      "text/html": [
       "<div>\n",
       "<style scoped>\n",
       "    .dataframe tbody tr th:only-of-type {\n",
       "        vertical-align: middle;\n",
       "    }\n",
       "\n",
       "    .dataframe tbody tr th {\n",
       "        vertical-align: top;\n",
       "    }\n",
       "\n",
       "    .dataframe thead th {\n",
       "        text-align: right;\n",
       "    }\n",
       "</style>\n",
       "<table border=\"1\" class=\"dataframe\">\n",
       "  <thead>\n",
       "    <tr style=\"text-align: right;\">\n",
       "      <th></th>\n",
       "      <th>letters</th>\n",
       "      <th>colors</th>\n",
       "      <th>stimuli</th>\n",
       "      <th>trial</th>\n",
       "      <th>participant</th>\n",
       "    </tr>\n",
       "  </thead>\n",
       "  <tbody>\n",
       "    <tr>\n",
       "      <th>0</th>\n",
       "      <td>A</td>\n",
       "      <td>red</td>\n",
       "      <td>A_red</td>\n",
       "      <td>1</td>\n",
       "      <td>1</td>\n",
       "    </tr>\n",
       "    <tr>\n",
       "      <th>1</th>\n",
       "      <td>B</td>\n",
       "      <td>red</td>\n",
       "      <td>B_red</td>\n",
       "      <td>2</td>\n",
       "      <td>1</td>\n",
       "    </tr>\n",
       "    <tr>\n",
       "      <th>2</th>\n",
       "      <td>C</td>\n",
       "      <td>red</td>\n",
       "      <td>C_red</td>\n",
       "      <td>3</td>\n",
       "      <td>1</td>\n",
       "    </tr>\n",
       "    <tr>\n",
       "      <th>3</th>\n",
       "      <td>A</td>\n",
       "      <td>blue</td>\n",
       "      <td>A_blue</td>\n",
       "      <td>4</td>\n",
       "      <td>1</td>\n",
       "    </tr>\n",
       "    <tr>\n",
       "      <th>4</th>\n",
       "      <td>B</td>\n",
       "      <td>blue</td>\n",
       "      <td>B_blue</td>\n",
       "      <td>5</td>\n",
       "      <td>1</td>\n",
       "    </tr>\n",
       "    <tr>\n",
       "      <th>5</th>\n",
       "      <td>C</td>\n",
       "      <td>blue</td>\n",
       "      <td>C_blue</td>\n",
       "      <td>6</td>\n",
       "      <td>1</td>\n",
       "    </tr>\n",
       "    <tr>\n",
       "      <th>6</th>\n",
       "      <td>A</td>\n",
       "      <td>grey</td>\n",
       "      <td>A_grey</td>\n",
       "      <td>7</td>\n",
       "      <td>1</td>\n",
       "    </tr>\n",
       "    <tr>\n",
       "      <th>7</th>\n",
       "      <td>B</td>\n",
       "      <td>grey</td>\n",
       "      <td>B_grey</td>\n",
       "      <td>8</td>\n",
       "      <td>1</td>\n",
       "    </tr>\n",
       "    <tr>\n",
       "      <th>8</th>\n",
       "      <td>C</td>\n",
       "      <td>grey</td>\n",
       "      <td>C_grey</td>\n",
       "      <td>9</td>\n",
       "      <td>1</td>\n",
       "    </tr>\n",
       "  </tbody>\n",
       "</table>\n",
       "</div>"
      ],
      "text/plain": [
       "  letters colors stimuli  trial  participant\n",
       "0       A    red   A_red      1            1\n",
       "1       B    red   B_red      2            1\n",
       "2       C    red   C_red      3            1\n",
       "3       A   blue  A_blue      4            1\n",
       "4       B   blue  B_blue      5            1\n",
       "5       C   blue  C_blue      6            1\n",
       "6       A   grey  A_grey      7            1\n",
       "7       B   grey  B_grey      8            1\n",
       "8       C   grey  C_grey      9            1"
      ]
     },
     "execution_count": 23,
     "metadata": {},
     "output_type": "execute_result"
    }
   ],
   "source": [
    "df"
   ]
  },
  {
   "cell_type": "code",
   "execution_count": 24,
   "id": "bottom-joyce",
   "metadata": {},
   "outputs": [
    {
     "data": {
      "text/plain": [
       "(9, 5)"
      ]
     },
     "execution_count": 24,
     "metadata": {},
     "output_type": "execute_result"
    }
   ],
   "source": [
    "df.shape"
   ]
  },
  {
   "cell_type": "code",
   "execution_count": 25,
   "id": "statewide-lawsuit",
   "metadata": {},
   "outputs": [
    {
     "data": {
      "text/html": [
       "<div>\n",
       "<style scoped>\n",
       "    .dataframe tbody tr th:only-of-type {\n",
       "        vertical-align: middle;\n",
       "    }\n",
       "\n",
       "    .dataframe tbody tr th {\n",
       "        vertical-align: top;\n",
       "    }\n",
       "\n",
       "    .dataframe thead th {\n",
       "        text-align: right;\n",
       "    }\n",
       "</style>\n",
       "<table border=\"1\" class=\"dataframe\">\n",
       "  <thead>\n",
       "    <tr style=\"text-align: right;\">\n",
       "      <th></th>\n",
       "      <th>letters</th>\n",
       "      <th>colors</th>\n",
       "      <th>stimuli</th>\n",
       "      <th>trial</th>\n",
       "      <th>participant</th>\n",
       "      <th>block</th>\n",
       "    </tr>\n",
       "  </thead>\n",
       "  <tbody>\n",
       "    <tr>\n",
       "      <th>0</th>\n",
       "      <td>A</td>\n",
       "      <td>red</td>\n",
       "      <td>A_red</td>\n",
       "      <td>1</td>\n",
       "      <td>1</td>\n",
       "      <td>1</td>\n",
       "    </tr>\n",
       "    <tr>\n",
       "      <th>1</th>\n",
       "      <td>B</td>\n",
       "      <td>red</td>\n",
       "      <td>B_red</td>\n",
       "      <td>2</td>\n",
       "      <td>1</td>\n",
       "      <td>1</td>\n",
       "    </tr>\n",
       "    <tr>\n",
       "      <th>2</th>\n",
       "      <td>C</td>\n",
       "      <td>red</td>\n",
       "      <td>C_red</td>\n",
       "      <td>3</td>\n",
       "      <td>1</td>\n",
       "      <td>1</td>\n",
       "    </tr>\n",
       "    <tr>\n",
       "      <th>3</th>\n",
       "      <td>A</td>\n",
       "      <td>blue</td>\n",
       "      <td>A_blue</td>\n",
       "      <td>4</td>\n",
       "      <td>1</td>\n",
       "      <td>1</td>\n",
       "    </tr>\n",
       "    <tr>\n",
       "      <th>4</th>\n",
       "      <td>B</td>\n",
       "      <td>blue</td>\n",
       "      <td>B_blue</td>\n",
       "      <td>5</td>\n",
       "      <td>1</td>\n",
       "      <td>1</td>\n",
       "    </tr>\n",
       "    <tr>\n",
       "      <th>5</th>\n",
       "      <td>C</td>\n",
       "      <td>blue</td>\n",
       "      <td>C_blue</td>\n",
       "      <td>6</td>\n",
       "      <td>1</td>\n",
       "      <td>1</td>\n",
       "    </tr>\n",
       "    <tr>\n",
       "      <th>6</th>\n",
       "      <td>A</td>\n",
       "      <td>grey</td>\n",
       "      <td>A_grey</td>\n",
       "      <td>7</td>\n",
       "      <td>1</td>\n",
       "      <td>1</td>\n",
       "    </tr>\n",
       "    <tr>\n",
       "      <th>7</th>\n",
       "      <td>B</td>\n",
       "      <td>grey</td>\n",
       "      <td>B_grey</td>\n",
       "      <td>8</td>\n",
       "      <td>1</td>\n",
       "      <td>1</td>\n",
       "    </tr>\n",
       "    <tr>\n",
       "      <th>8</th>\n",
       "      <td>C</td>\n",
       "      <td>grey</td>\n",
       "      <td>C_grey</td>\n",
       "      <td>9</td>\n",
       "      <td>1</td>\n",
       "      <td>1</td>\n",
       "    </tr>\n",
       "  </tbody>\n",
       "</table>\n",
       "</div>"
      ],
      "text/plain": [
       "  letters colors stimuli  trial  participant  block\n",
       "0       A    red   A_red      1            1      1\n",
       "1       B    red   B_red      2            1      1\n",
       "2       C    red   C_red      3            1      1\n",
       "3       A   blue  A_blue      4            1      1\n",
       "4       B   blue  B_blue      5            1      1\n",
       "5       C   blue  C_blue      6            1      1\n",
       "6       A   grey  A_grey      7            1      1\n",
       "7       B   grey  B_grey      8            1      1\n",
       "8       C   grey  C_grey      9            1      1"
      ]
     },
     "execution_count": 25,
     "metadata": {},
     "output_type": "execute_result"
    }
   ],
   "source": [
    "df['block'] = 1\n",
    "df"
   ]
  },
  {
   "cell_type": "code",
   "execution_count": 26,
   "id": "federal-broad",
   "metadata": {},
   "outputs": [
    {
     "data": {
      "text/html": [
       "<div>\n",
       "<style scoped>\n",
       "    .dataframe tbody tr th:only-of-type {\n",
       "        vertical-align: middle;\n",
       "    }\n",
       "\n",
       "    .dataframe tbody tr th {\n",
       "        vertical-align: top;\n",
       "    }\n",
       "\n",
       "    .dataframe thead th {\n",
       "        text-align: right;\n",
       "    }\n",
       "</style>\n",
       "<table border=\"1\" class=\"dataframe\">\n",
       "  <thead>\n",
       "    <tr style=\"text-align: right;\">\n",
       "      <th></th>\n",
       "      <th>letters</th>\n",
       "      <th>colors</th>\n",
       "      <th>stimuli</th>\n",
       "      <th>trial</th>\n",
       "      <th>participant</th>\n",
       "      <th>block</th>\n",
       "    </tr>\n",
       "  </thead>\n",
       "  <tbody>\n",
       "    <tr>\n",
       "      <th>0</th>\n",
       "      <td>A</td>\n",
       "      <td>red</td>\n",
       "      <td>A_red</td>\n",
       "      <td>1</td>\n",
       "      <td>1</td>\n",
       "      <td>1</td>\n",
       "    </tr>\n",
       "    <tr>\n",
       "      <th>1</th>\n",
       "      <td>B</td>\n",
       "      <td>red</td>\n",
       "      <td>B_red</td>\n",
       "      <td>2</td>\n",
       "      <td>1</td>\n",
       "      <td>1</td>\n",
       "    </tr>\n",
       "    <tr>\n",
       "      <th>2</th>\n",
       "      <td>C</td>\n",
       "      <td>red</td>\n",
       "      <td>C_red</td>\n",
       "      <td>3</td>\n",
       "      <td>1</td>\n",
       "      <td>1</td>\n",
       "    </tr>\n",
       "    <tr>\n",
       "      <th>3</th>\n",
       "      <td>A</td>\n",
       "      <td>blue</td>\n",
       "      <td>A_blue</td>\n",
       "      <td>4</td>\n",
       "      <td>1</td>\n",
       "      <td>2</td>\n",
       "    </tr>\n",
       "    <tr>\n",
       "      <th>4</th>\n",
       "      <td>B</td>\n",
       "      <td>blue</td>\n",
       "      <td>B_blue</td>\n",
       "      <td>5</td>\n",
       "      <td>1</td>\n",
       "      <td>2</td>\n",
       "    </tr>\n",
       "    <tr>\n",
       "      <th>5</th>\n",
       "      <td>C</td>\n",
       "      <td>blue</td>\n",
       "      <td>C_blue</td>\n",
       "      <td>6</td>\n",
       "      <td>1</td>\n",
       "      <td>2</td>\n",
       "    </tr>\n",
       "    <tr>\n",
       "      <th>6</th>\n",
       "      <td>A</td>\n",
       "      <td>grey</td>\n",
       "      <td>A_grey</td>\n",
       "      <td>7</td>\n",
       "      <td>1</td>\n",
       "      <td>3</td>\n",
       "    </tr>\n",
       "    <tr>\n",
       "      <th>7</th>\n",
       "      <td>B</td>\n",
       "      <td>grey</td>\n",
       "      <td>B_grey</td>\n",
       "      <td>8</td>\n",
       "      <td>1</td>\n",
       "      <td>3</td>\n",
       "    </tr>\n",
       "    <tr>\n",
       "      <th>8</th>\n",
       "      <td>C</td>\n",
       "      <td>grey</td>\n",
       "      <td>C_grey</td>\n",
       "      <td>9</td>\n",
       "      <td>1</td>\n",
       "      <td>3</td>\n",
       "    </tr>\n",
       "  </tbody>\n",
       "</table>\n",
       "</div>"
      ],
      "text/plain": [
       "  letters colors stimuli  trial  participant  block\n",
       "0       A    red   A_red      1            1      1\n",
       "1       B    red   B_red      2            1      1\n",
       "2       C    red   C_red      3            1      1\n",
       "3       A   blue  A_blue      4            1      2\n",
       "4       B   blue  B_blue      5            1      2\n",
       "5       C   blue  C_blue      6            1      2\n",
       "6       A   grey  A_grey      7            1      3\n",
       "7       B   grey  B_grey      8            1      3\n",
       "8       C   grey  C_grey      9            1      3"
      ]
     },
     "execution_count": 26,
     "metadata": {},
     "output_type": "execute_result"
    }
   ],
   "source": [
    "df.loc[(df.trial > 3) & (df.trial < 7), 'block'] = 2\n",
    "df.loc[df.trial > 6, 'block'] = 3\n",
    "df"
   ]
  },
  {
   "cell_type": "markdown",
   "id": "sudden-klein",
   "metadata": {},
   "source": [
    "## Exercises\n",
    "\n",
    "- 1 Create a dataframe called `stimuli`. The first column should be called `participant`, the second column `trial`, and the third one `condition`. There should be 10 trials per condition, and 3 conditions for each participant, and 4 participants. Therefore, in total the dataframe should have 4*3*10=120 rows, and 3 columns. The participant numbers should go from 1 to 4, the conditions should be labelled `['low', 'med', 'high']`, and the trials should be numbered from 1 to 30. The order of the condition should be randomized within participant.\n",
    "- 2 Add a column called `probability`, which is equal to .1 when the condition is `low`, .5 when it's `med`, and .9 when it's 'high'.\n",
    "- 3 Create a new dataframe called `data`, that is a copy of the `stimuli` dataframe (using the `.copy()` attribute, as in `new_dataframe = old_dataframe.copy()`). Add to `data` a column called `choice`, by generating data from a binomial distribution with parameters `n=1` and the probability that is in the probability column of each trial.\n",
    "\n",
    "**Send me your solutions** before the end of this Friday (at laura.fontanesi@unibas.ch).\n",
    "\n",
    "**NOTE**: Do not send me a notebook but export it to a Python script first: `File> Export notebook as… > Export as executable script`"
   ]
  }
 ],
 "metadata": {
  "kernelspec": {
   "display_name": "Python 3",
   "language": "python",
   "name": "python3"
  },
  "language_info": {
   "codemirror_mode": {
    "name": "ipython",
    "version": 3
   },
   "file_extension": ".py",
   "mimetype": "text/x-python",
   "name": "python",
   "nbconvert_exporter": "python",
   "pygments_lexer": "ipython3",
   "version": "3.6.13"
  }
 },
 "nbformat": 4,
 "nbformat_minor": 5
}
