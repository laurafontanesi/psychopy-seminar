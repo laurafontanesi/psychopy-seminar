{
 "cells": [
  {
   "cell_type": "markdown",
   "id": "entitled-oasis",
   "metadata": {},
   "source": [
    "# Psychopy routines"
   ]
  },
  {
   "cell_type": "markdown",
   "id": "better-error",
   "metadata": {},
   "source": [
    "Useful functions for Psychopy, such as routines for precise timing of events/responses in psychological experiments.\n",
    "\n",
    "The **Routine** class can be used to present stimuli with millisecond-precision, without having to write a loop for the monitor frames. \n",
    "\n",
    "To initialize the **Routine** class you only need to specify the window, the number of frames per second, and an escape key, as in the examples:\n",
    "\n",
    "```python\n",
    "from routines import Routine\n",
    "trial_routine = Routine(window=mywin, frames_per_second=frames_per_second, escape_key=escape_key)\n",
    "```\n",
    "\n",
    "It can then be called to time and record responses from different events in the same trial. For example, when the first event is a fixation cross, and the second is a choice between the two options:\n",
    "\n",
    "```python\n",
    "# first event\n",
    "trial_routine.wait_for_time_limit(\n",
    "    components=[fixation_cross], \n",
    "    time_seconds=fixation_duration, \n",
    "    label='fixation_cross')\n",
    "```\n",
    "\n",
    "This event has a fixed time, so the `wait_for_time_limit` function is called. Here, in the `components` argument, we only present the fixation cross. In general, you would put here all the stimuli you want to be drawn in this event, from the bottom one to the top one. We also then specify the duration of this first event in seconds and a label that is very useful for logging. \n",
    "\n",
    "```python\n",
    "# second event\n",
    "key, rt = trial_routine.wait_for_keys_or_time_limit(\n",
    "    components=[fixed_gamble, changing_gamble], \n",
    "    valid_keys=choice_keys, \n",
    "    time_seconds=choice_time_limit, \n",
    "    label='gamble_choice')\n",
    "```\n",
    "\n",
    "This event is a bit different, because we want both a time limit for a response, but also to record choices. For this purpose we call the `wait_for_keys_or_time_limit` function. In the components we put both options' stimuli, we then define the time limit and the valide keys (for left and right). And finally a label, as we did in the first event. This event now returns 2 values: `key` and `rt`."
   ]
  },
  {
   "cell_type": "markdown",
   "id": "musical-judgment",
   "metadata": {},
   "source": [
    "We have 4 ways of running a routine:\n",
    "1) for a certain amount of time > `wait_for_time_limit`\n",
    "2) stop when a response (among possible ones) is given > `wait_for_keys`\n",
    "3) stop when a response (among possible ones) is given or a certain amount of time is expired > `wait_for_keys_or_time_limit`\n",
    "4) for a certain amount of time, and also record the first response given (among possible ones) > `wait_for_time_limit_first_key`"
   ]
  },
  {
   "cell_type": "markdown",
   "id": "defensive-proceeding",
   "metadata": {},
   "source": [
    "### First example: event with time limit & choice with time limit"
   ]
  },
  {
   "cell_type": "markdown",
   "id": "complimentary-friday",
   "metadata": {},
   "source": [
    "Download the `example_1.py` and `routines.py` files at https://github.com/laurafontanesi/psych-routines.\n",
    "\n",
    "When they are in the same folder, you can open and run the `examples_1.py` file in Psychopy."
   ]
  },
  {
   "cell_type": "code",
   "execution_count": null,
   "id": "reduced-combination",
   "metadata": {},
   "outputs": [],
   "source": [
    "# first event\n",
    "trial_routine.wait_for_time_limit(\n",
    "    components=[fixation_cross], \n",
    "    time_seconds=fixation_duration, \n",
    "    label='fixation_cross')"
   ]
  },
  {
   "cell_type": "markdown",
   "id": "finished-november",
   "metadata": {},
   "source": [
    "this event has a fixed time, so the `wait_for_time_limit` function is called. Here, in the `components` argument, we only present the fixation cross. In general, you would put here all the stimuli you want to be drawn in this event, from the bottom to the top one. We also then specify the duration of this first event in seconds and a label that is very useful for logging. \n",
    "\n",
    "Check the log file that is produced when running the example to see how the events are precisely logged."
   ]
  },
  {
   "cell_type": "code",
   "execution_count": null,
   "id": "freelance-hollywood",
   "metadata": {},
   "outputs": [],
   "source": [
    "# second event\n",
    "key, rt = trial_routine.wait_for_keys_or_time_limit(\n",
    "    components=[fixed_gamble, changing_gamble], \n",
    "    valid_keys=choice_keys, \n",
    "    time_seconds=choice_time_limit, \n",
    "    label='gamble_choice')\n",
    "data = data.append({'rt':rt, 'choice': key, 'trial': t, 'reward': rewards[t]}, ignore_index=True) # record the responses\n",
    "\n",
    "#save data to file\n",
    "for label in expInfo.keys():\n",
    "    data[label] = expInfo[label]\n",
    "data.to_csv(fileName + '.csv')"
   ]
  },
  {
   "cell_type": "markdown",
   "id": "foreign-cartoon",
   "metadata": {},
   "source": [
    "this event is a bit different, because we want both a time limit for a response, but also to record choices. For this purpose we call the `wait_for_keys_or_time_limit` function. In the components we put both options' stimuli, we then define the time limit and the valide keys (p and q in this case). And finally a label, as we did in the first event.\n",
    "\n",
    "This event now returns to values, that are store in the two variables `key` and `rt`. We can now easily store them in our data-frame `data` and save it to file, so that the experiment is stopped before the end of the task, we can still see what responses were given so far."
   ]
  },
  {
   "cell_type": "markdown",
   "id": "american-fundamental",
   "metadata": {},
   "source": [
    "### Second example: event with time limit and choice without time limit"
   ]
  },
  {
   "cell_type": "markdown",
   "id": "endless-mainstream",
   "metadata": {},
   "source": [
    "Download the `example_2.py` and `routines.py` files at https://github.com/laurafontanesi/psych-routines.\n",
    "\n",
    "When they are in the same folder, you can open and run the `examples_2.py` file in Psychopy."
   ]
  },
  {
   "cell_type": "code",
   "execution_count": null,
   "id": "contained-music",
   "metadata": {},
   "outputs": [],
   "source": [
    "# first event\n",
    "trial_routine.wait_for_time_limit(\n",
    "    components=[], \n",
    "    time_seconds=fixation_duration, \n",
    "    label='fixation_cross')"
   ]
  },
  {
   "cell_type": "code",
   "execution_count": null,
   "id": "rotary-moisture",
   "metadata": {},
   "outputs": [],
   "source": [
    "# second event\n",
    "key, rt = trial_routine.wait_for_keys(\n",
    "    components=[safe_gamble, risky_gamble],\n",
    "    valid_keys=choice_keys,\n",
    "    label='gamble_choice')\n",
    "data = data.append(\n",
    "    {'rt':rt, 'choice': key, 'trial': t, 'current': value_current, 'upper': value_upper, 'lower': value_lower, 'difference':value_upper-value_lower}, \n",
    "    ignore_index=True) # record the responses\n",
    "\n",
    "#save data to file\n",
    "for label in expInfo.keys():\n",
    "    data[label] = expInfo[label]\n",
    "data.to_csv(fileName + '.csv')"
   ]
  }
 ],
 "metadata": {
  "kernelspec": {
   "display_name": "Python 3",
   "language": "python",
   "name": "python3"
  },
  "language_info": {
   "codemirror_mode": {
    "name": "ipython",
    "version": 3
   },
   "file_extension": ".py",
   "mimetype": "text/x-python",
   "name": "python",
   "nbconvert_exporter": "python",
   "pygments_lexer": "ipython3",
   "version": "3.6.13"
  }
 },
 "nbformat": 4,
 "nbformat_minor": 5
}
