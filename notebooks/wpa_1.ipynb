{
 "cells": [
  {
   "cell_type": "markdown",
   "id": "marine-nirvana",
   "metadata": {},
   "source": [
    "# First steps"
   ]
  },
  {
   "cell_type": "markdown",
   "id": "naked-acoustic",
   "metadata": {},
   "source": [
    "## 1. Install Anaconda or miniconda\n",
    "\n",
    "- https://www.anaconda.com/products/individual (for everyone)\n",
    "    \n",
    "- https://docs.conda.io/en/latest/miniconda.html (only if you are confortable using the terminal)"
   ]
  },
  {
   "cell_type": "markdown",
   "id": "responsible-spirit",
   "metadata": {},
   "source": [
    "## 2. Install Psychopy as standalone and with conda\n",
    "\n",
    "We will work with Psychopy both as a standalone program and as a Python package.\n",
    "\n",
    "Here you find information for dowloading both the standalone and the Python package with conda: https://www.psychopy.org/download.html\n",
    "\n",
    "In particular, we are going to follow the instructions on how to create a [conda environment](https://conda.io/projects/conda/en/latest/user-guide/concepts/environments.html) called `psychopy`."
   ]
  },
  {
   "cell_type": "markdown",
   "id": "brief-phoenix",
   "metadata": {},
   "source": [
    "## 3. Install jupyter lab for notebooks\n",
    "\n",
    "What is jupyter? https://en.wikipedia.org/wiki/Project_Jupyter\n",
    "\n",
    "In Anaconda, select the `psychopy` environment.\n",
    "\n",
    "We are going to install jupyter lab:\n",
    "\n",
    "```\n",
    "conda install -c conda-forge jupyterlab\n",
    "```\n",
    "\n",
    "Now, download this notebook on your computer in a folder that you will only use for this seminar. Navigate to this folder from jupyter lab and try to run the following:"
   ]
  },
  {
   "cell_type": "code",
   "execution_count": null,
   "id": "defensive-transcript",
   "metadata": {},
   "outputs": [],
   "source": [
    "import numpy\n",
    "np.random.normal(1, 1, 10)"
   ]
  },
  {
   "cell_type": "markdown",
   "id": "civil-outdoors",
   "metadata": {},
   "source": [
    "## 4. Importing modules"
   ]
  },
  {
   "cell_type": "markdown",
   "id": "young-monte",
   "metadata": {},
   "source": [
    "At the beginning of each script, we usually start with importing Python modules, and especially Psychopy submodules.\n",
    "\n",
    "**Modules** are Python .py files (scripts) that consist of Python code. Any Python file can be referenced as a module. \n",
    "\n",
    "**TO DO:** Create an empty Python file called `hello.py` using any text editor or with the jupyter lab launcher, and save it in the same folder as this notebook. "
   ]
  },
  {
   "cell_type": "code",
   "execution_count": null,
   "id": "catholic-skiing",
   "metadata": {},
   "outputs": [],
   "source": [
    "import hello"
   ]
  },
  {
   "cell_type": "markdown",
   "id": "warming-nigeria",
   "metadata": {},
   "source": [
    "Modules can define functions, classes, and variables that you can reference in your script after importing them.\n",
    "\n",
    "**TO DO:** in the `hello.py` file, copy paste the following code:\n",
    "\n",
    "```\n",
    "def reply(x):\n",
    "    if x == \"hello\":\n",
    "        return \"it's me\"\n",
    "```\n",
    "\n",
    "Now you can can call this function within your notebook by calling `hello.reply`."
   ]
  },
  {
   "cell_type": "code",
   "execution_count": null,
   "id": "specific-donna",
   "metadata": {},
   "outputs": [],
   "source": [
    "hello.reply(\"hello\")"
   ]
  },
  {
   "cell_type": "markdown",
   "id": "operational-bread",
   "metadata": {},
   "source": [
    "Alternatively, you can import only that specific function from the module:"
   ]
  },
  {
   "cell_type": "code",
   "execution_count": null,
   "id": "confused-single",
   "metadata": {},
   "outputs": [],
   "source": [
    "from hello import its_me"
   ]
  },
  {
   "cell_type": "code",
   "execution_count": null,
   "id": "veterinary-victim",
   "metadata": {},
   "outputs": [],
   "source": [
    "reply(\"hello\")"
   ]
  },
  {
   "cell_type": "markdown",
   "id": "latter-sharing",
   "metadata": {},
   "source": [
    "This will allow you to directly use the function `reply` within your script (without the `hello.` in front)."
   ]
  },
  {
   "cell_type": "markdown",
   "id": "developmental-image",
   "metadata": {},
   "source": [
    "**Packages** are a way of structuring Python’s module namespace by using “dotted module names”. For example, the module name A.B designates a submodule named B in a package named A."
   ]
  },
  {
   "cell_type": "markdown",
   "id": "cellular-hacker",
   "metadata": {},
   "source": [
    "[Here](https://www.psychopy.org/api/index.html) you find a list of the Psychopy submodules that you might need to import at the beginning of your script. Not that each of them might also have submodules.\n",
    "\n",
    "So, to import the `fromFile` function:"
   ]
  },
  {
   "cell_type": "code",
   "execution_count": null,
   "id": "imported-homework",
   "metadata": {},
   "outputs": [],
   "source": [
    "import psychopy.tools.filetools\n",
    "\n",
    "from psychopy.tools.filetools import fromFile\n",
    "\n",
    "from psychopy.tools.filetools import *"
   ]
  },
  {
   "cell_type": "markdown",
   "id": "instructional-program",
   "metadata": {},
   "source": [
    "where the last command works like the first but imports all functions/Classes/variables from `psychopy.tools.filetools`."
   ]
  },
  {
   "cell_type": "markdown",
   "id": "major-buying",
   "metadata": {},
   "source": [
    "**Exercises**:\n",
    "\n",
    "- 1a: Import the `Window` and `TextStim` classes from the `visual` submodel.\n",
    "- 1b: Import the `core` submodel."
   ]
  }
 ],
 "metadata": {
  "kernelspec": {
   "display_name": "Python 3",
   "language": "python",
   "name": "python3"
  },
  "language_info": {
   "codemirror_mode": {
    "name": "ipython",
    "version": 3
   },
   "file_extension": ".py",
   "mimetype": "text/x-python",
   "name": "python",
   "nbconvert_exporter": "python",
   "pygments_lexer": "ipython3",
   "version": "3.6.13"
  }
 },
 "nbformat": 4,
 "nbformat_minor": 5
}
