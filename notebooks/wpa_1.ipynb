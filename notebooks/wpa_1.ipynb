{
 "cells": [
  {
   "cell_type": "markdown",
   "id": "native-reggae",
   "metadata": {},
   "source": [
    "# First steps"
   ]
  },
  {
   "cell_type": "markdown",
   "id": "straight-armenia",
   "metadata": {},
   "source": [
    "## 1. Install Anaconda or miniconda\n",
    "\n",
    "- https://www.anaconda.com/products/individual (for everyone)\n",
    "    \n",
    "- https://docs.conda.io/en/latest/miniconda.html (only if you are confortable using the terminal)"
   ]
  },
  {
   "cell_type": "markdown",
   "id": "incorrect-competition",
   "metadata": {},
   "source": [
    "## 2. Install Psychopy as standalone and with conda\n",
    "\n",
    "We will work with Psychopy both as a standalone program and as a Python package.\n",
    "\n",
    "Here you find information for dowloading both the standalone and the Python package with conda: https://www.psychopy.org/download.html\n",
    "\n",
    "In particular, we are going to follow the instructions on how to create a [conda environment](https://conda.io/projects/conda/en/latest/user-guide/concepts/environments.html) called `psychopy`."
   ]
  },
  {
   "cell_type": "markdown",
   "id": "national-trader",
   "metadata": {},
   "source": [
    "## 3. Install jupyter lab for notebooks\n",
    "\n",
    "What is jupyter? https://en.wikipedia.org/wiki/Project_Jupyter\n",
    "\n",
    "In Anaconda, select the `psychopy` environment.\n",
    "\n",
    "We are going to install jupyter lab:\n",
    "\n",
    "```\n",
    "conda install -c conda-forge jupyterlab\n",
    "```\n",
    "\n",
    "Now, download this notebook on your computer in a folder that you will only use for this seminar. Navigate to this folder from jupyter lab and try to run the following:"
   ]
  },
  {
   "cell_type": "code",
   "execution_count": null,
   "id": "unique-helena",
   "metadata": {},
   "outputs": [],
   "source": [
    "import numpy\n",
    "np.random.normal(1, 1, 10)"
   ]
  },
  {
   "cell_type": "markdown",
   "id": "prompt-elevation",
   "metadata": {},
   "source": [
    "## 4. Importing modules"
   ]
  },
  {
   "cell_type": "markdown",
   "id": "natural-screening",
   "metadata": {},
   "source": [
    "At the beginning of each script, we usually start with importing Python modules, and especially Psychopy submodules.\n",
    "\n",
    "**Modules** are Python .py files (scripts) that consist of Python code. Any Python file can be referenced as a module. \n",
    "\n",
    "**TO DO:** Create an empty Python file called `helloo.py` using any text editor or with the jupyter lab launcher, and save it in the same folder as this notebook. "
   ]
  },
  {
   "cell_type": "code",
   "execution_count": 1,
   "id": "large-bolivia",
   "metadata": {},
   "outputs": [],
   "source": [
    "import helloo"
   ]
  },
  {
   "cell_type": "markdown",
   "id": "frequent-stomach",
   "metadata": {},
   "source": [
    "Modules can define functions, classes, and variables that you can reference in your script after importing them.\n",
    "\n",
    "**TO DO:** in the `helloo.py` file, copy paste the following code:\n",
    "\n",
    "```\n",
    "helloo.reply('hello')\n",
    "```\n",
    "\n",
    "Now you can can call this function within your notebook by calling `helloo.reply`."
   ]
  },
  {
   "cell_type": "code",
   "execution_count": 2,
   "id": "delayed-batch",
   "metadata": {},
   "outputs": [
    {
     "data": {
      "text/plain": [
       "\"it's me\""
      ]
     },
     "execution_count": 2,
     "metadata": {},
     "output_type": "execute_result"
    }
   ],
   "source": [
    "helloo.reply('hello')"
   ]
  },
  {
   "cell_type": "markdown",
   "id": "included-azerbaijan",
   "metadata": {},
   "source": [
    "Alternatively, you can import only that specific function from the module:"
   ]
  },
  {
   "cell_type": "code",
   "execution_count": 8,
   "id": "durable-hindu",
   "metadata": {},
   "outputs": [],
   "source": [
    "from helloo import reply"
   ]
  },
  {
   "cell_type": "code",
   "execution_count": 9,
   "id": "entire-address",
   "metadata": {},
   "outputs": [
    {
     "data": {
      "text/plain": [
       "\"it's me\""
      ]
     },
     "execution_count": 9,
     "metadata": {},
     "output_type": "execute_result"
    }
   ],
   "source": [
    "reply(\"hello\")"
   ]
  },
  {
   "cell_type": "markdown",
   "id": "little-nursery",
   "metadata": {},
   "source": [
    "This will allow you to directly use the function `reply` within your script (without the `helloo.` in front)."
   ]
  },
  {
   "cell_type": "markdown",
   "id": "eleven-satisfaction",
   "metadata": {},
   "source": [
    "**Packages** are a way of structuring Python’s module namespace by using “dotted module names”. For example, the module name A.B designates a submodule named B in a package named A."
   ]
  },
  {
   "cell_type": "markdown",
   "id": "supported-membership",
   "metadata": {},
   "source": [
    "[Here](https://www.psychopy.org/api/index.html) you find a list of the Psychopy submodules that you might need to import at the beginning of your script. Not that each of them might also have submodules.\n",
    "\n",
    "So, to import the `fromFile` function:"
   ]
  },
  {
   "cell_type": "code",
   "execution_count": 7,
   "id": "russian-presentation",
   "metadata": {},
   "outputs": [],
   "source": [
    "import psychopy.tools.filetools\n",
    "\n",
    "from psychopy.tools.filetools import fromFile\n",
    "\n",
    "from psychopy.tools.filetools import *"
   ]
  },
  {
   "cell_type": "markdown",
   "id": "narrative-justice",
   "metadata": {},
   "source": [
    "where the last command works like the first but imports all functions/Classes/variables from `psychopy.tools.filetools`."
   ]
  },
  {
   "cell_type": "markdown",
   "id": "discrete-aviation",
   "metadata": {},
   "source": [
    "**Exercises**:\n",
    "\n",
    "- 1a: Import the `Window` and `TextStim` classes from the `visual` submodel.\n",
    "- 1b: Import the `core` submodel."
   ]
  }
 ],
 "metadata": {
  "kernelspec": {
   "display_name": "Python 3",
   "language": "python",
   "name": "python3"
  },
  "language_info": {
   "codemirror_mode": {
    "name": "ipython",
    "version": 3
   },
   "file_extension": ".py",
   "mimetype": "text/x-python",
   "name": "python",
   "nbconvert_exporter": "python",
   "pygments_lexer": "ipython3",
   "version": "3.6.13"
  }
 },
 "nbformat": 4,
 "nbformat_minor": 5
}
