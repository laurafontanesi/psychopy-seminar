{
 "cells": [
  {
   "cell_type": "markdown",
   "id": "south-accused",
   "metadata": {},
   "source": [
    "## Group assignment"
   ]
  },
  {
   "cell_type": "markdown",
   "id": "afraid-unemployment",
   "metadata": {},
   "source": [
    "The group assignment is to write a Psychopy script for a psychological experiment.\n",
    "\n",
    "In the first lesson, you will meet in groups to decide which experiment to code.\n",
    "\n",
    "It should be an experiment in which:\n",
    "\n",
    "- participants have to give responses in several trials (e.g., decide between options)\n",
    "- there should be some sort of randomization across trials/within block (e.g., options are presented left vs. right)\n",
    "- there are at least 2 blocks of trials in which some factor is manipulated (e.g., easy vs. hard block)\n",
    "- there are at least 2 between subjects conditions (e.g., one group of subjects sees one set of stimuli and the other group sees another one)\n",
    "\n",
    "**By the 28th May**, send me one google document per group in which you wrote a detailed plan for the experiment you want to write.\n",
    "\n",
    "In the second lesson, we are going to start the actual coding. You can start in class, and ask me questions, and then finish on your own. The final deadline for the script is the **20th June**. The final product should be a working script (that gives no errors) and that does what was described in the google document."
   ]
  }
 ],
 "metadata": {
  "kernelspec": {
   "display_name": "Python 3",
   "language": "python",
   "name": "python3"
  },
  "language_info": {
   "codemirror_mode": {
    "name": "ipython",
    "version": 3
   },
   "file_extension": ".py",
   "mimetype": "text/x-python",
   "name": "python",
   "nbconvert_exporter": "python",
   "pygments_lexer": "ipython3",
   "version": "3.7.9"
  }
 },
 "nbformat": 4,
 "nbformat_minor": 5
}
