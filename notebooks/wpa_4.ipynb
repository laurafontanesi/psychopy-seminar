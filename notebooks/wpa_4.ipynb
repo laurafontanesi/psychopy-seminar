{
 "cells": [
  {
   "cell_type": "markdown",
   "id": "planned-alignment",
   "metadata": {},
   "source": [
    "# Conditional statements, cycles, functions"
   ]
  },
  {
   "cell_type": "markdown",
   "id": "analyzed-wildlife",
   "metadata": {},
   "source": [
    "Logical statements in Python:\n",
    "\n",
    "- Equals: `a == b`\n",
    "- Not Equals: `a != b`\n",
    "- Less than: `a < b`\n",
    "- Greater than or equal to: `a >= b`"
   ]
  },
  {
   "cell_type": "markdown",
   "id": "committed-prescription",
   "metadata": {},
   "source": [
    "## If... else"
   ]
  },
  {
   "cell_type": "code",
   "execution_count": 2,
   "id": "available-stuart",
   "metadata": {},
   "outputs": [
    {
     "name": "stdout",
     "output_type": "stream",
     "text": [
      "b is greater than a\n"
     ]
    }
   ],
   "source": [
    "a = 33\n",
    "b = 200\n",
    "\n",
    "if b > a:\n",
    "    print(\"b is greater than a\")\n",
    "else:\n",
    "    print(\"b is not greater than a\")"
   ]
  },
  {
   "cell_type": "code",
   "execution_count": 3,
   "id": "consistent-atlantic",
   "metadata": {},
   "outputs": [
    {
     "name": "stdout",
     "output_type": "stream",
     "text": [
      "b is equal to a\n"
     ]
    }
   ],
   "source": [
    "a = 33\n",
    "b = 33\n",
    "\n",
    "if b > a:\n",
    "    print(\"b is greater than a\")\n",
    "elif b == a:\n",
    "    print(\"b is equal to a\")\n",
    "else:\n",
    "    print(\"b is smaller than a\")"
   ]
  },
  {
   "cell_type": "code",
   "execution_count": 7,
   "id": "stainless-oriental",
   "metadata": {},
   "outputs": [
    {
     "name": "stdout",
     "output_type": "stream",
     "text": [
      "Both conditions are True\n"
     ]
    }
   ],
   "source": [
    "a = 3\n",
    "b = 4\n",
    "\n",
    "if (a*b) == 12 and (a+b) < 8:\n",
    "    print(\"Both conditions are True\")"
   ]
  },
  {
   "cell_type": "code",
   "execution_count": 9,
   "id": "hollow-latitude",
   "metadata": {},
   "outputs": [
    {
     "name": "stdout",
     "output_type": "stream",
     "text": [
      "At least one of them is True\n"
     ]
    }
   ],
   "source": [
    "a = 6\n",
    "b = 2\n",
    "\n",
    "if (a*b) == 12 or (a+b) < 8:\n",
    "    print(\"At least one of them is True\")"
   ]
  },
  {
   "cell_type": "markdown",
   "id": "radical-lithuania",
   "metadata": {},
   "source": [
    "## For and while"
   ]
  },
  {
   "cell_type": "code",
   "execution_count": 12,
   "id": "hazardous-universal",
   "metadata": {},
   "outputs": [
    {
     "name": "stdout",
     "output_type": "stream",
     "text": [
      "1\n",
      "2\n",
      "3\n",
      "4\n",
      "5\n",
      "6\n",
      "7\n",
      "8\n",
      "9\n",
      "10\n"
     ]
    }
   ],
   "source": [
    "i = 1\n",
    "while i < 11:\n",
    "    print(i)\n",
    "    i += 1"
   ]
  },
  {
   "cell_type": "code",
   "execution_count": 15,
   "id": "fuzzy-knight",
   "metadata": {},
   "outputs": [
    {
     "name": "stdout",
     "output_type": "stream",
     "text": [
      "13\n",
      "14\n",
      "15\n",
      "16\n",
      "17\n",
      "18\n",
      "19\n",
      "20\n",
      "21\n",
      "22\n",
      "23\n",
      "24\n"
     ]
    }
   ],
   "source": [
    "i = 13\n",
    "while i < 101:\n",
    "    print(i)\n",
    "    \n",
    "    if (i % 12) == 0:\n",
    "        break\n",
    "    \n",
    "    i += 1"
   ]
  },
  {
   "cell_type": "code",
   "execution_count": 22,
   "id": "numerical-salvation",
   "metadata": {},
   "outputs": [
    {
     "name": "stdout",
     "output_type": "stream",
     "text": [
      "12\n",
      "36\n",
      "60\n",
      "84\n",
      "Maximum has been reached\n"
     ]
    }
   ],
   "source": [
    "i = 1\n",
    "while i < 101:\n",
    "    i += 1\n",
    "    \n",
    "    if (i % 24) == 0:\n",
    "        continue\n",
    "    \n",
    "    if (i % 12) == 0:\n",
    "        print(i)\n",
    "else:\n",
    "    print(\"Maximum has been reached\")"
   ]
  },
  {
   "cell_type": "code",
   "execution_count": 24,
   "id": "durable-circumstances",
   "metadata": {},
   "outputs": [],
   "source": [
    "import numpy as np"
   ]
  },
  {
   "cell_type": "code",
   "execution_count": 26,
   "id": "developmental-prime",
   "metadata": {},
   "outputs": [
    {
     "name": "stdout",
     "output_type": "stream",
     "text": [
      "1\n",
      "2\n",
      "3\n",
      "4\n",
      "5\n",
      "6\n",
      "7\n",
      "8\n",
      "9\n",
      "10\n"
     ]
    }
   ],
   "source": [
    "for x in np.arange(1, 11):\n",
    "    print(x)"
   ]
  },
  {
   "cell_type": "code",
   "execution_count": 29,
   "id": "southeast-sheet",
   "metadata": {},
   "outputs": [
    {
     "name": "stdout",
     "output_type": "stream",
     "text": [
      "1\n",
      "2\n",
      "3\n",
      "4\n",
      "5\n",
      "6\n",
      "7\n",
      "8\n",
      "9\n",
      "10\n",
      "11\n",
      "12\n"
     ]
    }
   ],
   "source": [
    "for x in np.arange(1, 101):\n",
    "    print(x)\n",
    "\n",
    "    if x == 12:\n",
    "        break"
   ]
  },
  {
   "cell_type": "code",
   "execution_count": 32,
   "id": "unable-assist",
   "metadata": {},
   "outputs": [
    {
     "name": "stdout",
     "output_type": "stream",
     "text": [
      "1\n",
      "3\n",
      "4\n",
      "5\n",
      "6\n",
      "7\n",
      "8\n",
      "9\n",
      "10\n"
     ]
    }
   ],
   "source": [
    "for x in np.arange(1, 11):\n",
    "    if x == 2:\n",
    "        continue\n",
    "    \n",
    "    print(x)"
   ]
  },
  {
   "cell_type": "markdown",
   "id": "sudden-tulsa",
   "metadata": {},
   "source": [
    "## Functions"
   ]
  },
  {
   "cell_type": "code",
   "execution_count": 35,
   "id": "willing-cancellation",
   "metadata": {},
   "outputs": [],
   "source": [
    "def print_one():\n",
    "    print(\"one\")"
   ]
  },
  {
   "cell_type": "code",
   "execution_count": 38,
   "id": "fatty-wealth",
   "metadata": {},
   "outputs": [
    {
     "name": "stdout",
     "output_type": "stream",
     "text": [
      "one\n"
     ]
    }
   ],
   "source": [
    "print_one()"
   ]
  },
  {
   "cell_type": "code",
   "execution_count": 36,
   "id": "lesser-lunch",
   "metadata": {},
   "outputs": [],
   "source": [
    "def add_one(x):\n",
    "    return x + 1"
   ]
  },
  {
   "cell_type": "code",
   "execution_count": 37,
   "id": "beautiful-mission",
   "metadata": {},
   "outputs": [
    {
     "data": {
      "text/plain": [
       "51.6"
      ]
     },
     "execution_count": 37,
     "metadata": {},
     "output_type": "execute_result"
    }
   ],
   "source": [
    "add_one(50.6)"
   ]
  },
  {
   "cell_type": "code",
   "execution_count": 39,
   "id": "compact-involvement",
   "metadata": {},
   "outputs": [],
   "source": [
    "def generate_random_cond(labels, n_rep):\n",
    "    x = np.repeat(labels, n_rep)\n",
    "    np.random.shuffle(x)\n",
    "    return x"
   ]
  },
  {
   "cell_type": "code",
   "execution_count": 40,
   "id": "deadly-fifty",
   "metadata": {},
   "outputs": [
    {
     "data": {
      "text/plain": [
       "array(['difficult', 'easy', 'difficult', 'easy', 'easy', 'easy',\n",
       "       'difficult', 'easy', 'difficult', 'difficult'], dtype='<U9')"
      ]
     },
     "execution_count": 40,
     "metadata": {},
     "output_type": "execute_result"
    }
   ],
   "source": [
    "generate_random_cond([\"easy\", \"difficult\"], 5)"
   ]
  },
  {
   "cell_type": "markdown",
   "id": "maritime-liquid",
   "metadata": {},
   "source": [
    "You can have default arguments, that take a default value but can also still be changed:"
   ]
  },
  {
   "cell_type": "code",
   "execution_count": 41,
   "id": "painted-oakland",
   "metadata": {},
   "outputs": [],
   "source": [
    "def generate_random_cond(labels, n_rep=3):\n",
    "    x = np.repeat(labels, n_rep)\n",
    "    np.random.shuffle(x)\n",
    "    return x"
   ]
  },
  {
   "cell_type": "code",
   "execution_count": 42,
   "id": "imported-position",
   "metadata": {},
   "outputs": [
    {
     "data": {
      "text/plain": [
       "array(['difficult', 'difficult', 'difficult', 'easy', 'easy', 'easy'],\n",
       "      dtype='<U9')"
      ]
     },
     "execution_count": 42,
     "metadata": {},
     "output_type": "execute_result"
    }
   ],
   "source": [
    "generate_random_cond([\"easy\", \"difficult\"])"
   ]
  },
  {
   "cell_type": "code",
   "execution_count": 43,
   "id": "finite-reflection",
   "metadata": {},
   "outputs": [
    {
     "data": {
      "text/plain": [
       "array(['difficult', 'difficult', 'easy', 'difficult', 'easy', 'difficult',\n",
       "       'difficult', 'easy', 'easy', 'difficult', 'difficult', 'easy',\n",
       "       'easy', 'difficult', 'difficult', 'easy', 'easy', 'difficult',\n",
       "       'easy', 'easy'], dtype='<U9')"
      ]
     },
     "execution_count": 43,
     "metadata": {},
     "output_type": "execute_result"
    }
   ],
   "source": [
    "generate_random_cond([\"easy\", \"difficult\"], 10)"
   ]
  },
  {
   "cell_type": "code",
   "execution_count": 44,
   "id": "complicated-dakota",
   "metadata": {},
   "outputs": [],
   "source": [
    "cond = generate_random_cond([\"easy\", \"med\", \"diff\"], 5)"
   ]
  },
  {
   "cell_type": "code",
   "execution_count": 45,
   "id": "municipal-daisy",
   "metadata": {},
   "outputs": [
    {
     "data": {
      "text/plain": [
       "array(['easy', 'diff', 'med', 'easy', 'med', 'easy', 'diff', 'easy',\n",
       "       'diff', 'med', 'med', 'med', 'diff', 'easy', 'diff'], dtype='<U4')"
      ]
     },
     "execution_count": 45,
     "metadata": {},
     "output_type": "execute_result"
    }
   ],
   "source": [
    "cond"
   ]
  },
  {
   "cell_type": "markdown",
   "id": "usual-dividend",
   "metadata": {},
   "source": [
    "## lambda\n",
    "\n",
    "A lambda function is a small anonymous function.\n",
    "\n",
    "A lambda function can take any number of arguments, but can only have one expression."
   ]
  },
  {
   "cell_type": "code",
   "execution_count": 46,
   "id": "boxed-cinema",
   "metadata": {},
   "outputs": [],
   "source": [
    "x = lambda a : a*2"
   ]
  },
  {
   "cell_type": "code",
   "execution_count": 47,
   "id": "simple-adjustment",
   "metadata": {},
   "outputs": [
    {
     "data": {
      "text/plain": [
       "8"
      ]
     },
     "execution_count": 47,
     "metadata": {},
     "output_type": "execute_result"
    }
   ],
   "source": [
    "x(4)"
   ]
  },
  {
   "cell_type": "code",
   "execution_count": 48,
   "id": "outstanding-adelaide",
   "metadata": {},
   "outputs": [],
   "source": [
    "import pandas as pd"
   ]
  },
  {
   "cell_type": "code",
   "execution_count": 49,
   "id": "aquatic-education",
   "metadata": {},
   "outputs": [],
   "source": [
    "data = pd.DataFrame({'cond': generate_random_cond([\"easy\", \"med\", \"diff\"], 5)})"
   ]
  },
  {
   "cell_type": "code",
   "execution_count": 50,
   "id": "considered-focus",
   "metadata": {},
   "outputs": [
    {
     "data": {
      "text/html": [
       "<div>\n",
       "<style scoped>\n",
       "    .dataframe tbody tr th:only-of-type {\n",
       "        vertical-align: middle;\n",
       "    }\n",
       "\n",
       "    .dataframe tbody tr th {\n",
       "        vertical-align: top;\n",
       "    }\n",
       "\n",
       "    .dataframe thead th {\n",
       "        text-align: right;\n",
       "    }\n",
       "</style>\n",
       "<table border=\"1\" class=\"dataframe\">\n",
       "  <thead>\n",
       "    <tr style=\"text-align: right;\">\n",
       "      <th></th>\n",
       "      <th>cond</th>\n",
       "    </tr>\n",
       "  </thead>\n",
       "  <tbody>\n",
       "    <tr>\n",
       "      <th>0</th>\n",
       "      <td>diff</td>\n",
       "    </tr>\n",
       "    <tr>\n",
       "      <th>1</th>\n",
       "      <td>easy</td>\n",
       "    </tr>\n",
       "    <tr>\n",
       "      <th>2</th>\n",
       "      <td>med</td>\n",
       "    </tr>\n",
       "    <tr>\n",
       "      <th>3</th>\n",
       "      <td>diff</td>\n",
       "    </tr>\n",
       "    <tr>\n",
       "      <th>4</th>\n",
       "      <td>diff</td>\n",
       "    </tr>\n",
       "  </tbody>\n",
       "</table>\n",
       "</div>"
      ],
      "text/plain": [
       "   cond\n",
       "0  diff\n",
       "1  easy\n",
       "2   med\n",
       "3  diff\n",
       "4  diff"
      ]
     },
     "execution_count": 50,
     "metadata": {},
     "output_type": "execute_result"
    }
   ],
   "source": [
    "data.head()"
   ]
  },
  {
   "cell_type": "code",
   "execution_count": 52,
   "id": "threatened-bermuda",
   "metadata": {},
   "outputs": [
    {
     "data": {
      "text/html": [
       "<div>\n",
       "<style scoped>\n",
       "    .dataframe tbody tr th:only-of-type {\n",
       "        vertical-align: middle;\n",
       "    }\n",
       "\n",
       "    .dataframe tbody tr th {\n",
       "        vertical-align: top;\n",
       "    }\n",
       "\n",
       "    .dataframe thead th {\n",
       "        text-align: right;\n",
       "    }\n",
       "</style>\n",
       "<table border=\"1\" class=\"dataframe\">\n",
       "  <thead>\n",
       "    <tr style=\"text-align: right;\">\n",
       "      <th></th>\n",
       "      <th>cond</th>\n",
       "    </tr>\n",
       "  </thead>\n",
       "  <tbody>\n",
       "    <tr>\n",
       "      <th>0</th>\n",
       "      <td>diff_low-p</td>\n",
       "    </tr>\n",
       "    <tr>\n",
       "      <th>1</th>\n",
       "      <td>easy_low-p</td>\n",
       "    </tr>\n",
       "    <tr>\n",
       "      <th>2</th>\n",
       "      <td>med_low-p</td>\n",
       "    </tr>\n",
       "    <tr>\n",
       "      <th>3</th>\n",
       "      <td>diff_low-p</td>\n",
       "    </tr>\n",
       "    <tr>\n",
       "      <th>4</th>\n",
       "      <td>diff_low-p</td>\n",
       "    </tr>\n",
       "    <tr>\n",
       "      <th>5</th>\n",
       "      <td>easy_low-p</td>\n",
       "    </tr>\n",
       "    <tr>\n",
       "      <th>6</th>\n",
       "      <td>med_low-p</td>\n",
       "    </tr>\n",
       "    <tr>\n",
       "      <th>7</th>\n",
       "      <td>easy_low-p</td>\n",
       "    </tr>\n",
       "    <tr>\n",
       "      <th>8</th>\n",
       "      <td>med_low-p</td>\n",
       "    </tr>\n",
       "    <tr>\n",
       "      <th>9</th>\n",
       "      <td>med_low-p</td>\n",
       "    </tr>\n",
       "    <tr>\n",
       "      <th>10</th>\n",
       "      <td>diff_low-p</td>\n",
       "    </tr>\n",
       "    <tr>\n",
       "      <th>11</th>\n",
       "      <td>easy_low-p</td>\n",
       "    </tr>\n",
       "    <tr>\n",
       "      <th>12</th>\n",
       "      <td>diff_low-p</td>\n",
       "    </tr>\n",
       "    <tr>\n",
       "      <th>13</th>\n",
       "      <td>med_low-p</td>\n",
       "    </tr>\n",
       "    <tr>\n",
       "      <th>14</th>\n",
       "      <td>easy_low-p</td>\n",
       "    </tr>\n",
       "  </tbody>\n",
       "</table>\n",
       "</div>"
      ],
      "text/plain": [
       "          cond\n",
       "0   diff_low-p\n",
       "1   easy_low-p\n",
       "2    med_low-p\n",
       "3   diff_low-p\n",
       "4   diff_low-p\n",
       "5   easy_low-p\n",
       "6    med_low-p\n",
       "7   easy_low-p\n",
       "8    med_low-p\n",
       "9    med_low-p\n",
       "10  diff_low-p\n",
       "11  easy_low-p\n",
       "12  diff_low-p\n",
       "13   med_low-p\n",
       "14  easy_low-p"
      ]
     },
     "execution_count": 52,
     "metadata": {},
     "output_type": "execute_result"
    }
   ],
   "source": [
    "data.apply(lambda x: x + \"_low-p\")"
   ]
  },
  {
   "cell_type": "markdown",
   "id": "random-discharge",
   "metadata": {},
   "source": [
    "## Exercises\n",
    "\n",
    "1. Create a function called `percentage` that takes 2 arguments, `x` and `total`, and returns the percentage of `x` respect to `total` as an integer number. Try it out with a few values.\n",
    "2. Create a function called `print_percentage` that takes 2 arguments, `x` and `total`, and returns the percentage of `x` respect to `total` as a string, such as \"30%\" if the calculated percentage was 30, with no decimals. Try it out with a few values.\n",
    "3. Create a function called `print_percentage_dec` that takes 3 arguments, `x`, `total` and `n_decimals`, and returns the percentage of `x` respect to `total` as a string, such as \"30.02%\" if the calculated percentage was 30.02, and the decimals were 2. You can use the function np.round to round numbers. Try it out with a few values.\n",
    "4. Now add on to the function in point 3: add a conditional statement that checks whether `x` is higher or equal to 0 and smaller or equal to `total`. In case it is not, the function should not return a value but simply print \"Invalid x value: x should be positive and smaller than its total.\". Try it our with valid and invalid values.\n",
    "5. Add on to the last function you built in 4. Now `x` can also be a list or array. The function should loop through the values in x and print the percentages (or the invalid value message) iteratively. \n",
    "\n",
    "**Send me your solutions** before the end of this Friday (at laura.fontanesi@unibas.ch).\n",
    "\n",
    "**NOTE**: Do not send me a notebook but export it to a Python script first: `File> Export notebook as… > Export as executable script`"
   ]
  }
 ],
 "metadata": {
  "kernelspec": {
   "display_name": "Python 3",
   "language": "python",
   "name": "python3"
  },
  "language_info": {
   "codemirror_mode": {
    "name": "ipython",
    "version": 3
   },
   "file_extension": ".py",
   "mimetype": "text/x-python",
   "name": "python",
   "nbconvert_exporter": "python",
   "pygments_lexer": "ipython3",
   "version": "3.6.13"
  }
 },
 "nbformat": 4,
 "nbformat_minor": 5
}
