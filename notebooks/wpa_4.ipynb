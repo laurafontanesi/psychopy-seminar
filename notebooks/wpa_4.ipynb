{
 "cells": [
  {
   "cell_type": "markdown",
   "id": "stainless-jonathan",
   "metadata": {},
   "source": [
    "# Conditional statements, cycles, functions"
   ]
  },
  {
   "cell_type": "markdown",
   "id": "korean-thompson",
   "metadata": {},
   "source": [
    "Logical statements in Python:\n",
    "\n",
    "- Equals: `a == b`\n",
    "- Not Equals: `a != b`\n",
    "- Less than: `a < b`\n",
    "- Greater than or equal to: `a >= b`\n",
    "\n",
    "- and &\n",
    "- or |"
   ]
  },
  {
   "cell_type": "markdown",
   "id": "speaking-working",
   "metadata": {},
   "source": [
    "## If... else"
   ]
  },
  {
   "cell_type": "code",
   "execution_count": 2,
   "id": "excessive-robin",
   "metadata": {},
   "outputs": [
    {
     "name": "stdout",
     "output_type": "stream",
     "text": [
      "b is greater than a\n"
     ]
    }
   ],
   "source": [
    "a = 33\n",
    "b = 200\n",
    "\n",
    "if b > a:\n",
    "    print(\"b is greater than a\")\n",
    "else:\n",
    "    print(\"b is not greater than a\")"
   ]
  },
  {
   "cell_type": "code",
   "execution_count": 3,
   "id": "proved-tunnel",
   "metadata": {},
   "outputs": [
    {
     "name": "stdout",
     "output_type": "stream",
     "text": [
      "b is equal to a\n"
     ]
    }
   ],
   "source": [
    "a = 33\n",
    "b = 33\n",
    "\n",
    "if b > a:\n",
    "    print(\"b is greater than a\")\n",
    "elif b == a:\n",
    "    print(\"b is equal to a\")\n",
    "else:\n",
    "    print(\"b is smaller than a\")"
   ]
  },
  {
   "cell_type": "code",
   "execution_count": 55,
   "id": "arctic-devices",
   "metadata": {},
   "outputs": [
    {
     "name": "stdout",
     "output_type": "stream",
     "text": [
      "Both conditions are True\n"
     ]
    }
   ],
   "source": [
    "a = 3\n",
    "b = 4\n",
    "\n",
    "if (a*b) == 12 and (a+b) < 8:\n",
    "    print(\"Both conditions are True\")"
   ]
  },
  {
   "cell_type": "code",
   "execution_count": 56,
   "id": "conscious-representative",
   "metadata": {},
   "outputs": [
    {
     "name": "stdout",
     "output_type": "stream",
     "text": [
      "At least one of them is True\n"
     ]
    }
   ],
   "source": [
    "a = 6\n",
    "b = 2\n",
    "\n",
    "if (a*b) == 12 or (a+b) < 8:\n",
    "    print(\"At least one of them is True\")"
   ]
  },
  {
   "cell_type": "markdown",
   "id": "cardiac-profile",
   "metadata": {},
   "source": [
    "## For and while"
   ]
  },
  {
   "cell_type": "code",
   "execution_count": 12,
   "id": "selected-finder",
   "metadata": {},
   "outputs": [
    {
     "name": "stdout",
     "output_type": "stream",
     "text": [
      "1\n",
      "2\n",
      "3\n",
      "4\n",
      "5\n",
      "6\n",
      "7\n",
      "8\n",
      "9\n",
      "10\n"
     ]
    }
   ],
   "source": [
    "i = 1\n",
    "while i < 11:\n",
    "    print(i)\n",
    "    i += 1"
   ]
  },
  {
   "cell_type": "code",
   "execution_count": 15,
   "id": "growing-ceremony",
   "metadata": {},
   "outputs": [
    {
     "name": "stdout",
     "output_type": "stream",
     "text": [
      "13\n",
      "14\n",
      "15\n",
      "16\n",
      "17\n",
      "18\n",
      "19\n",
      "20\n",
      "21\n",
      "22\n",
      "23\n",
      "24\n"
     ]
    }
   ],
   "source": [
    "i = 13\n",
    "while i < 101:\n",
    "    print(i)\n",
    "    \n",
    "    if (i % 12) == 0:\n",
    "        break\n",
    "    \n",
    "    i += 1"
   ]
  },
  {
   "cell_type": "code",
   "execution_count": 22,
   "id": "departmental-league",
   "metadata": {},
   "outputs": [
    {
     "name": "stdout",
     "output_type": "stream",
     "text": [
      "12\n",
      "36\n",
      "60\n",
      "84\n",
      "Maximum has been reached\n"
     ]
    }
   ],
   "source": [
    "i = 1\n",
    "while i < 101:\n",
    "    i += 1\n",
    "    \n",
    "    if (i % 24) == 0:\n",
    "        continue\n",
    "    \n",
    "    if (i % 12) == 0:\n",
    "        print(i)\n",
    "else:\n",
    "    print(\"Maximum has been reached\")"
   ]
  },
  {
   "cell_type": "code",
   "execution_count": 24,
   "id": "selected-tucson",
   "metadata": {},
   "outputs": [],
   "source": [
    "import numpy as np"
   ]
  },
  {
   "cell_type": "code",
   "execution_count": 61,
   "id": "tested-television",
   "metadata": {},
   "outputs": [
    {
     "data": {
      "text/plain": [
       "array([ 1,  2,  3,  4,  5,  6,  7,  8,  9, 10])"
      ]
     },
     "execution_count": 61,
     "metadata": {},
     "output_type": "execute_result"
    }
   ],
   "source": [
    "np.arange(1, 11)"
   ]
  },
  {
   "cell_type": "code",
   "execution_count": 26,
   "id": "breeding-swing",
   "metadata": {},
   "outputs": [
    {
     "name": "stdout",
     "output_type": "stream",
     "text": [
      "1\n",
      "2\n",
      "3\n",
      "4\n",
      "5\n",
      "6\n",
      "7\n",
      "8\n",
      "9\n",
      "10\n"
     ]
    }
   ],
   "source": [
    "for x in np.arange(1, 11):\n",
    "    print(x)"
   ]
  },
  {
   "cell_type": "code",
   "execution_count": 29,
   "id": "hourly-manhattan",
   "metadata": {},
   "outputs": [
    {
     "name": "stdout",
     "output_type": "stream",
     "text": [
      "1\n",
      "2\n",
      "3\n",
      "4\n",
      "5\n",
      "6\n",
      "7\n",
      "8\n",
      "9\n",
      "10\n",
      "11\n",
      "12\n"
     ]
    }
   ],
   "source": [
    "for x in np.arange(1, 101):\n",
    "    print(x)\n",
    "\n",
    "    if x == 12:\n",
    "        break"
   ]
  },
  {
   "cell_type": "code",
   "execution_count": 32,
   "id": "antique-aging",
   "metadata": {},
   "outputs": [
    {
     "name": "stdout",
     "output_type": "stream",
     "text": [
      "1\n",
      "3\n",
      "4\n",
      "5\n",
      "6\n",
      "7\n",
      "8\n",
      "9\n",
      "10\n"
     ]
    }
   ],
   "source": [
    "for x in np.arange(1, 11):\n",
    "    if x == 2:\n",
    "        continue\n",
    "    \n",
    "    print(x)"
   ]
  },
  {
   "cell_type": "code",
   "execution_count": 62,
   "id": "ranking-television",
   "metadata": {},
   "outputs": [
    {
     "name": "stdout",
     "output_type": "stream",
     "text": [
      "apple_red\n",
      "orange_red\n",
      "grapes_red\n"
     ]
    }
   ],
   "source": [
    "for fruit in ['apple', 'orange', 'grapes']:\n",
    "    print(fruit + \"_red\")"
   ]
  },
  {
   "cell_type": "code",
   "execution_count": 64,
   "id": "characteristic-fetish",
   "metadata": {},
   "outputs": [
    {
     "name": "stdout",
     "output_type": "stream",
     "text": [
      "0\n",
      "1\n",
      "2\n",
      "3\n",
      "4\n",
      "5\n",
      "6\n",
      "7\n",
      "8\n"
     ]
    }
   ],
   "source": [
    "count = 0\n",
    "\n",
    "for i in np.arange(1, 10):\n",
    "    print(count)\n",
    "    count += 1"
   ]
  },
  {
   "cell_type": "markdown",
   "id": "uniform-spring",
   "metadata": {},
   "source": [
    "## Functions"
   ]
  },
  {
   "cell_type": "code",
   "execution_count": 68,
   "id": "athletic-butterfly",
   "metadata": {},
   "outputs": [
    {
     "data": {
      "text/plain": [
       "array([1, 1, 2, 2, 3, 3])"
      ]
     },
     "execution_count": 68,
     "metadata": {},
     "output_type": "execute_result"
    }
   ],
   "source": [
    "np.repeat(a=[1, 2, 3], repeats=2)"
   ]
  },
  {
   "cell_type": "code",
   "execution_count": 35,
   "id": "excited-insured",
   "metadata": {},
   "outputs": [],
   "source": [
    "def print_one():\n",
    "    print(\"one\")"
   ]
  },
  {
   "cell_type": "code",
   "execution_count": 69,
   "id": "crude-therapist",
   "metadata": {},
   "outputs": [
    {
     "name": "stdout",
     "output_type": "stream",
     "text": [
      "one\n"
     ]
    }
   ],
   "source": [
    "x = print_one()"
   ]
  },
  {
   "cell_type": "code",
   "execution_count": 72,
   "id": "forty-grammar",
   "metadata": {},
   "outputs": [],
   "source": [
    "x"
   ]
  },
  {
   "cell_type": "code",
   "execution_count": 73,
   "id": "brazilian-apartment",
   "metadata": {},
   "outputs": [],
   "source": [
    "def add_one(x):\n",
    "    return x + 1"
   ]
  },
  {
   "cell_type": "code",
   "execution_count": 74,
   "id": "simple-sessions",
   "metadata": {},
   "outputs": [],
   "source": [
    "x = add_one(50.6)"
   ]
  },
  {
   "cell_type": "code",
   "execution_count": 75,
   "id": "stock-automation",
   "metadata": {},
   "outputs": [
    {
     "data": {
      "text/plain": [
       "51.6"
      ]
     },
     "execution_count": 75,
     "metadata": {},
     "output_type": "execute_result"
    }
   ],
   "source": [
    "x"
   ]
  },
  {
   "cell_type": "code",
   "execution_count": 76,
   "id": "confirmed-polymer",
   "metadata": {},
   "outputs": [],
   "source": [
    "def generate_random_cond(labels, n_rep):\n",
    "    x = np.repeat(labels, n_rep)\n",
    "    np.random.shuffle(x)\n",
    "    return x"
   ]
  },
  {
   "cell_type": "code",
   "execution_count": 78,
   "id": "intensive-rouge",
   "metadata": {},
   "outputs": [
    {
     "data": {
      "text/plain": [
       "array(['easy', 'difficult', 'easy', 'difficult', 'easy', 'easy', 'easy',\n",
       "       'difficult', 'difficult', 'difficult'], dtype='<U9')"
      ]
     },
     "execution_count": 78,
     "metadata": {},
     "output_type": "execute_result"
    }
   ],
   "source": [
    "generate_random_cond([\"easy\", \"difficult\"], 5)"
   ]
  },
  {
   "cell_type": "markdown",
   "id": "arranged-screw",
   "metadata": {},
   "source": [
    "You can have default arguments, that take a default value but can also still be changed:"
   ]
  },
  {
   "cell_type": "code",
   "execution_count": 79,
   "id": "motivated-brass",
   "metadata": {},
   "outputs": [],
   "source": [
    "def generate_random_cond(labels, n_rep=3):\n",
    "    x = np.repeat(labels, n_rep)\n",
    "    np.random.shuffle(x)\n",
    "    return x"
   ]
  },
  {
   "cell_type": "code",
   "execution_count": 80,
   "id": "split-senior",
   "metadata": {},
   "outputs": [
    {
     "data": {
      "text/plain": [
       "array(['difficult', 'easy', 'easy', 'difficult', 'difficult', 'easy'],\n",
       "      dtype='<U9')"
      ]
     },
     "execution_count": 80,
     "metadata": {},
     "output_type": "execute_result"
    }
   ],
   "source": [
    "generate_random_cond([\"easy\", \"difficult\"])"
   ]
  },
  {
   "cell_type": "code",
   "execution_count": 81,
   "id": "serious-snake",
   "metadata": {},
   "outputs": [
    {
     "data": {
      "text/plain": [
       "array(['difficult', 'easy', 'easy', 'difficult', 'difficult', 'easy',\n",
       "       'easy', 'easy', 'difficult', 'easy', 'difficult', 'easy', 'easy',\n",
       "       'difficult', 'easy', 'difficult', 'difficult', 'difficult',\n",
       "       'difficult', 'easy'], dtype='<U9')"
      ]
     },
     "execution_count": 81,
     "metadata": {},
     "output_type": "execute_result"
    }
   ],
   "source": [
    "generate_random_cond([\"easy\", \"difficult\"], 10)"
   ]
  },
  {
   "cell_type": "markdown",
   "id": "inclusive-talent",
   "metadata": {},
   "source": [
    "## lambda\n",
    "\n",
    "A lambda function is a small anonymous function.\n",
    "\n",
    "A lambda function can take any number of arguments, but can only have one expression."
   ]
  },
  {
   "cell_type": "code",
   "execution_count": 84,
   "id": "favorite-alfred",
   "metadata": {},
   "outputs": [],
   "source": [
    "x = lambda a : a*2"
   ]
  },
  {
   "cell_type": "code",
   "execution_count": 85,
   "id": "stainless-boating",
   "metadata": {},
   "outputs": [
    {
     "data": {
      "text/plain": [
       "8"
      ]
     },
     "execution_count": 85,
     "metadata": {},
     "output_type": "execute_result"
    }
   ],
   "source": [
    "x(4)"
   ]
  },
  {
   "cell_type": "code",
   "execution_count": 86,
   "id": "violent-scheme",
   "metadata": {},
   "outputs": [],
   "source": [
    "import pandas as pd"
   ]
  },
  {
   "cell_type": "code",
   "execution_count": 90,
   "id": "pleased-biotechnology",
   "metadata": {},
   "outputs": [],
   "source": [
    "data = pd.DataFrame({'cond': generate_random_cond([\"easy\", \"med\", \"diff\"], 5)})"
   ]
  },
  {
   "cell_type": "code",
   "execution_count": 91,
   "id": "continuous-contents",
   "metadata": {},
   "outputs": [
    {
     "data": {
      "text/html": [
       "<div>\n",
       "<style scoped>\n",
       "    .dataframe tbody tr th:only-of-type {\n",
       "        vertical-align: middle;\n",
       "    }\n",
       "\n",
       "    .dataframe tbody tr th {\n",
       "        vertical-align: top;\n",
       "    }\n",
       "\n",
       "    .dataframe thead th {\n",
       "        text-align: right;\n",
       "    }\n",
       "</style>\n",
       "<table border=\"1\" class=\"dataframe\">\n",
       "  <thead>\n",
       "    <tr style=\"text-align: right;\">\n",
       "      <th></th>\n",
       "      <th>cond</th>\n",
       "    </tr>\n",
       "  </thead>\n",
       "  <tbody>\n",
       "    <tr>\n",
       "      <th>0</th>\n",
       "      <td>easy</td>\n",
       "    </tr>\n",
       "    <tr>\n",
       "      <th>1</th>\n",
       "      <td>easy</td>\n",
       "    </tr>\n",
       "    <tr>\n",
       "      <th>2</th>\n",
       "      <td>easy</td>\n",
       "    </tr>\n",
       "    <tr>\n",
       "      <th>3</th>\n",
       "      <td>med</td>\n",
       "    </tr>\n",
       "    <tr>\n",
       "      <th>4</th>\n",
       "      <td>diff</td>\n",
       "    </tr>\n",
       "  </tbody>\n",
       "</table>\n",
       "</div>"
      ],
      "text/plain": [
       "   cond\n",
       "0  easy\n",
       "1  easy\n",
       "2  easy\n",
       "3   med\n",
       "4  diff"
      ]
     },
     "execution_count": 91,
     "metadata": {},
     "output_type": "execute_result"
    }
   ],
   "source": [
    "data.head()"
   ]
  },
  {
   "cell_type": "code",
   "execution_count": 92,
   "id": "british-denmark",
   "metadata": {},
   "outputs": [],
   "source": [
    "data['cond_prob'] = data['cond'].apply(lambda x: x + \"_low-p\")"
   ]
  },
  {
   "cell_type": "code",
   "execution_count": 93,
   "id": "political-proposition",
   "metadata": {},
   "outputs": [
    {
     "data": {
      "text/html": [
       "<div>\n",
       "<style scoped>\n",
       "    .dataframe tbody tr th:only-of-type {\n",
       "        vertical-align: middle;\n",
       "    }\n",
       "\n",
       "    .dataframe tbody tr th {\n",
       "        vertical-align: top;\n",
       "    }\n",
       "\n",
       "    .dataframe thead th {\n",
       "        text-align: right;\n",
       "    }\n",
       "</style>\n",
       "<table border=\"1\" class=\"dataframe\">\n",
       "  <thead>\n",
       "    <tr style=\"text-align: right;\">\n",
       "      <th></th>\n",
       "      <th>cond</th>\n",
       "      <th>cond_prob</th>\n",
       "    </tr>\n",
       "  </thead>\n",
       "  <tbody>\n",
       "    <tr>\n",
       "      <th>0</th>\n",
       "      <td>easy</td>\n",
       "      <td>easy_low-p</td>\n",
       "    </tr>\n",
       "    <tr>\n",
       "      <th>1</th>\n",
       "      <td>easy</td>\n",
       "      <td>easy_low-p</td>\n",
       "    </tr>\n",
       "    <tr>\n",
       "      <th>2</th>\n",
       "      <td>easy</td>\n",
       "      <td>easy_low-p</td>\n",
       "    </tr>\n",
       "    <tr>\n",
       "      <th>3</th>\n",
       "      <td>med</td>\n",
       "      <td>med_low-p</td>\n",
       "    </tr>\n",
       "    <tr>\n",
       "      <th>4</th>\n",
       "      <td>diff</td>\n",
       "      <td>diff_low-p</td>\n",
       "    </tr>\n",
       "    <tr>\n",
       "      <th>5</th>\n",
       "      <td>diff</td>\n",
       "      <td>diff_low-p</td>\n",
       "    </tr>\n",
       "    <tr>\n",
       "      <th>6</th>\n",
       "      <td>diff</td>\n",
       "      <td>diff_low-p</td>\n",
       "    </tr>\n",
       "    <tr>\n",
       "      <th>7</th>\n",
       "      <td>med</td>\n",
       "      <td>med_low-p</td>\n",
       "    </tr>\n",
       "    <tr>\n",
       "      <th>8</th>\n",
       "      <td>diff</td>\n",
       "      <td>diff_low-p</td>\n",
       "    </tr>\n",
       "    <tr>\n",
       "      <th>9</th>\n",
       "      <td>med</td>\n",
       "      <td>med_low-p</td>\n",
       "    </tr>\n",
       "    <tr>\n",
       "      <th>10</th>\n",
       "      <td>med</td>\n",
       "      <td>med_low-p</td>\n",
       "    </tr>\n",
       "    <tr>\n",
       "      <th>11</th>\n",
       "      <td>easy</td>\n",
       "      <td>easy_low-p</td>\n",
       "    </tr>\n",
       "    <tr>\n",
       "      <th>12</th>\n",
       "      <td>med</td>\n",
       "      <td>med_low-p</td>\n",
       "    </tr>\n",
       "    <tr>\n",
       "      <th>13</th>\n",
       "      <td>diff</td>\n",
       "      <td>diff_low-p</td>\n",
       "    </tr>\n",
       "    <tr>\n",
       "      <th>14</th>\n",
       "      <td>easy</td>\n",
       "      <td>easy_low-p</td>\n",
       "    </tr>\n",
       "  </tbody>\n",
       "</table>\n",
       "</div>"
      ],
      "text/plain": [
       "    cond   cond_prob\n",
       "0   easy  easy_low-p\n",
       "1   easy  easy_low-p\n",
       "2   easy  easy_low-p\n",
       "3    med   med_low-p\n",
       "4   diff  diff_low-p\n",
       "5   diff  diff_low-p\n",
       "6   diff  diff_low-p\n",
       "7    med   med_low-p\n",
       "8   diff  diff_low-p\n",
       "9    med   med_low-p\n",
       "10   med   med_low-p\n",
       "11  easy  easy_low-p\n",
       "12   med   med_low-p\n",
       "13  diff  diff_low-p\n",
       "14  easy  easy_low-p"
      ]
     },
     "execution_count": 93,
     "metadata": {},
     "output_type": "execute_result"
    }
   ],
   "source": [
    "data"
   ]
  },
  {
   "cell_type": "code",
   "execution_count": 104,
   "id": "close-bulgaria",
   "metadata": {},
   "outputs": [],
   "source": [
    "def add_smth(x):\n",
    "    x.cond + 'jdlskgjh'"
   ]
  },
  {
   "cell_type": "code",
   "execution_count": 105,
   "id": "cheap-cloud",
   "metadata": {},
   "outputs": [
    {
     "data": {
      "text/plain": [
       "0     None\n",
       "1     None\n",
       "2     None\n",
       "3     None\n",
       "4     None\n",
       "5     None\n",
       "6     None\n",
       "7     None\n",
       "8     None\n",
       "9     None\n",
       "10    None\n",
       "11    None\n",
       "12    None\n",
       "13    None\n",
       "14    None\n",
       "dtype: object"
      ]
     },
     "execution_count": 105,
     "metadata": {},
     "output_type": "execute_result"
    }
   ],
   "source": [
    "data.apply(add_smth, axis=1)"
   ]
  },
  {
   "cell_type": "markdown",
   "id": "reverse-yemen",
   "metadata": {},
   "source": [
    "## Exercises\n",
    "\n",
    "1. Create a function called `percentage` that takes 2 arguments, `x` and `total`, and returns the percentage of `x` respect to `total` as an integer number. Try it out with a few values.\n",
    "2. Create a function called `print_percentage` that takes 2 arguments, `x` and `total`, and returns the percentage of `x` respect to `total` as a string, such as \"30%\" if the calculated percentage was 30, with no decimals. Try it out with a few values.\n",
    "3. Create a function called `print_percentage_dec` that takes 3 arguments, `x`, `total` and `n_decimals`, and returns the percentage of `x` respect to `total` as a string, such as \"30.02%\" if the calculated percentage was 30.02, and the decimals were 2. You can use the function np.round to round numbers. Try it out with a few values.\n",
    "4. Now add on to the function in point 3: add a conditional statement that checks whether `x` is higher or equal to 0 and smaller or equal to `total`. In case it is not, the function should not return a value but simply print \"Invalid x value: x should be positive and smaller than its total.\". Try it our with valid and invalid values.\n",
    "5. Add on to the last function you built in 4. Now `x` can also be a list or array. The function should loop through the values in x and print the percentages (or the invalid value message) iteratively. \n",
    "\n",
    "**Send me your solutions** before the end of this Friday (at laura.fontanesi@unibas.ch).\n",
    "\n",
    "**NOTE**: Do not send me a notebook but export it to a Python script first: `File> Export notebook as… > Export as executable script`"
   ]
  },
  {
   "cell_type": "markdown",
   "id": "electoral-cambodia",
   "metadata": {},
   "source": [
    "## Solutions"
   ]
  },
  {
   "cell_type": "code",
   "execution_count": 1,
   "id": "wicked-preservation",
   "metadata": {},
   "outputs": [],
   "source": [
    "import numpy as np"
   ]
  },
  {
   "cell_type": "code",
   "execution_count": 7,
   "id": "fallen-bunch",
   "metadata": {},
   "outputs": [
    {
     "data": {
      "text/plain": [
       "80.0"
      ]
     },
     "execution_count": 7,
     "metadata": {},
     "output_type": "execute_result"
    }
   ],
   "source": [
    "np.round(4/5*100)"
   ]
  },
  {
   "cell_type": "code",
   "execution_count": 2,
   "id": "durable-language",
   "metadata": {},
   "outputs": [],
   "source": [
    "def percentage(x, total):\n",
    "    return(int((x/total)*100))"
   ]
  },
  {
   "cell_type": "code",
   "execution_count": 3,
   "id": "peripheral-technique",
   "metadata": {},
   "outputs": [
    {
     "data": {
      "text/plain": [
       "50"
      ]
     },
     "execution_count": 3,
     "metadata": {},
     "output_type": "execute_result"
    }
   ],
   "source": [
    "percentage(60, 120)"
   ]
  },
  {
   "cell_type": "code",
   "execution_count": 4,
   "id": "developed-crime",
   "metadata": {},
   "outputs": [
    {
     "data": {
      "text/plain": [
       "31"
      ]
     },
     "execution_count": 4,
     "metadata": {},
     "output_type": "execute_result"
    }
   ],
   "source": [
    "percentage(3.5, 11)"
   ]
  },
  {
   "cell_type": "code",
   "execution_count": 23,
   "id": "secret-excuse",
   "metadata": {},
   "outputs": [],
   "source": [
    "def print_percentage(x, total):\n",
    "    p = int((x/total)*100)\n",
    "    return(\"{}%\".format(p))"
   ]
  },
  {
   "cell_type": "code",
   "execution_count": 16,
   "id": "blond-explosion",
   "metadata": {},
   "outputs": [
    {
     "data": {
      "text/plain": [
       "'the experiment has ended, you are going to get X CHF as bonus payment. Thanks for participating.'"
      ]
     },
     "execution_count": 16,
     "metadata": {},
     "output_type": "execute_result"
    }
   ],
   "source": [
    "bonus = 5\n",
    "fixed_payment = 10\n",
    "\n",
    "\"the experiment has ended, you are going to get X CHF as bonus payment. Thanks for participating.\""
   ]
  },
  {
   "cell_type": "code",
   "execution_count": 17,
   "id": "terminal-census",
   "metadata": {},
   "outputs": [
    {
     "data": {
      "text/plain": [
       "'the experiment has ended, you are going to get 5 CHF as bonus payment. Thanks for participating.'"
      ]
     },
     "execution_count": 17,
     "metadata": {},
     "output_type": "execute_result"
    }
   ],
   "source": [
    "\"the experiment has ended, you are going to get \" + str(bonus) +  \" CHF as bonus payment. Thanks for participating.\""
   ]
  },
  {
   "cell_type": "code",
   "execution_count": 18,
   "id": "worth-macedonia",
   "metadata": {},
   "outputs": [
    {
     "data": {
      "text/plain": [
       "'the experiment has ended, you are going to get 5 CHF as bonus payment. Thanks for participating.'"
      ]
     },
     "execution_count": 18,
     "metadata": {},
     "output_type": "execute_result"
    }
   ],
   "source": [
    "\"the experiment has ended, you are going to get {} CHF as bonus payment. Thanks for participating.\".format(bonus)"
   ]
  },
  {
   "cell_type": "code",
   "execution_count": 20,
   "id": "thick-polyester",
   "metadata": {},
   "outputs": [
    {
     "data": {
      "text/plain": [
       "'the experiment has ended, you are going to get 5 CHF as bonus payment. Therefore the final payment is 15 CHF.Thanks for participating.'"
      ]
     },
     "execution_count": 20,
     "metadata": {},
     "output_type": "execute_result"
    }
   ],
   "source": [
    "\"the experiment has ended, you are going to get {} CHF as bonus payment. Therefore the final payment is {} CHF.Thanks for participating.\".format(bonus, bonus+fixed_payment)"
   ]
  },
  {
   "cell_type": "code",
   "execution_count": 21,
   "id": "frozen-export",
   "metadata": {},
   "outputs": [
    {
     "data": {
      "text/plain": [
       "'the experiment has ended, you are going to get 5 CHF as bonus payment. Therefore the final payment is 15 CHF.Thanks for participating.'"
      ]
     },
     "execution_count": 21,
     "metadata": {},
     "output_type": "execute_result"
    }
   ],
   "source": [
    "\"the experiment has ended, you are going to get %s CHF as bonus payment. Therefore the final payment is %s CHF.Thanks for participating.\" % (bonus, bonus+fixed_payment)"
   ]
  },
  {
   "cell_type": "code",
   "execution_count": 24,
   "id": "aboriginal-structure",
   "metadata": {},
   "outputs": [
    {
     "data": {
      "text/plain": [
       "'50%'"
      ]
     },
     "execution_count": 24,
     "metadata": {},
     "output_type": "execute_result"
    }
   ],
   "source": [
    "print_percentage(60, 120)"
   ]
  },
  {
   "cell_type": "code",
   "execution_count": 25,
   "id": "instrumental-lloyd",
   "metadata": {},
   "outputs": [
    {
     "data": {
      "text/plain": [
       "'31%'"
      ]
     },
     "execution_count": 25,
     "metadata": {},
     "output_type": "execute_result"
    }
   ],
   "source": [
    "print_percentage(3.5, 11)"
   ]
  },
  {
   "cell_type": "code",
   "execution_count": 29,
   "id": "interracial-unknown",
   "metadata": {},
   "outputs": [],
   "source": [
    "def print_percentage_dec(x, total, n_decimals):\n",
    "    if x <= total and x >= 0:\n",
    "        p = np.round(x/total*100, n_decimals)\n",
    "        return(\"{}%\".format(p))\n",
    "    else:\n",
    "        print(\"Invalid x value: x should be positive and smaller than its total.\")"
   ]
  },
  {
   "cell_type": "code",
   "execution_count": 34,
   "id": "hybrid-needle",
   "metadata": {},
   "outputs": [
    {
     "data": {
      "text/plain": [
       "'50.833%'"
      ]
     },
     "execution_count": 34,
     "metadata": {},
     "output_type": "execute_result"
    }
   ],
   "source": [
    "print_percentage_dec(61, 120, 3)"
   ]
  },
  {
   "cell_type": "code",
   "execution_count": 31,
   "id": "optical-second",
   "metadata": {},
   "outputs": [
    {
     "data": {
      "text/plain": [
       "'100.0%'"
      ]
     },
     "execution_count": 31,
     "metadata": {},
     "output_type": "execute_result"
    }
   ],
   "source": [
    "print_percentage_dec(120, 120, 2)"
   ]
  },
  {
   "cell_type": "code",
   "execution_count": 32,
   "id": "viral-wichita",
   "metadata": {},
   "outputs": [
    {
     "name": "stdout",
     "output_type": "stream",
     "text": [
      "Invalid x value: x should be positive and smaller than its total.\n"
     ]
    }
   ],
   "source": [
    "print_percentage_dec(121, 120, 2)"
   ]
  },
  {
   "cell_type": "code",
   "execution_count": 12,
   "id": "alike-physiology",
   "metadata": {},
   "outputs": [
    {
     "data": {
      "text/plain": [
       "'0.0%'"
      ]
     },
     "execution_count": 12,
     "metadata": {},
     "output_type": "execute_result"
    }
   ],
   "source": [
    "print_percentage_dec(0, 120, 2)"
   ]
  },
  {
   "cell_type": "code",
   "execution_count": 33,
   "id": "stainless-realtor",
   "metadata": {},
   "outputs": [
    {
     "name": "stdout",
     "output_type": "stream",
     "text": [
      "Invalid x value: x should be positive and smaller than its total.\n"
     ]
    }
   ],
   "source": [
    "print_percentage_dec(-1, 120, 2)"
   ]
  },
  {
   "cell_type": "code",
   "execution_count": 37,
   "id": "welcome-layer",
   "metadata": {},
   "outputs": [
    {
     "name": "stdout",
     "output_type": "stream",
     "text": [
      "False\n",
      "False\n"
     ]
    }
   ],
   "source": [
    "for i in [4, 5]:\n",
    "    print(i < 3)"
   ]
  },
  {
   "cell_type": "code",
   "execution_count": 35,
   "id": "derived-arrangement",
   "metadata": {},
   "outputs": [
    {
     "ename": "TypeError",
     "evalue": "'<=' not supported between instances of 'list' and 'int'",
     "output_type": "error",
     "traceback": [
      "\u001b[0;31m---------------------------------------------------------------------------\u001b[0m",
      "\u001b[0;31mTypeError\u001b[0m                                 Traceback (most recent call last)",
      "\u001b[0;32m<ipython-input-35-34831a1b8d9a>\u001b[0m in \u001b[0;36m<module>\u001b[0;34m()\u001b[0m\n\u001b[0;32m----> 1\u001b[0;31m \u001b[0mprint_percentage_dec\u001b[0m\u001b[0;34m(\u001b[0m\u001b[0;34m[\u001b[0m\u001b[0;34m-\u001b[0m\u001b[0;36m1\u001b[0m\u001b[0;34m,\u001b[0m \u001b[0;36m3\u001b[0m\u001b[0;34m]\u001b[0m\u001b[0;34m,\u001b[0m \u001b[0;36m120\u001b[0m\u001b[0;34m,\u001b[0m \u001b[0;36m2\u001b[0m\u001b[0;34m)\u001b[0m\u001b[0;34m\u001b[0m\u001b[0;34m\u001b[0m\u001b[0m\n\u001b[0m",
      "\u001b[0;32m<ipython-input-29-d6e3d021f908>\u001b[0m in \u001b[0;36mprint_percentage_dec\u001b[0;34m(x, total, n_decimals)\u001b[0m\n\u001b[1;32m      1\u001b[0m \u001b[0;32mdef\u001b[0m \u001b[0mprint_percentage_dec\u001b[0m\u001b[0;34m(\u001b[0m\u001b[0mx\u001b[0m\u001b[0;34m,\u001b[0m \u001b[0mtotal\u001b[0m\u001b[0;34m,\u001b[0m \u001b[0mn_decimals\u001b[0m\u001b[0;34m)\u001b[0m\u001b[0;34m:\u001b[0m\u001b[0;34m\u001b[0m\u001b[0;34m\u001b[0m\u001b[0m\n\u001b[0;32m----> 2\u001b[0;31m     \u001b[0;32mif\u001b[0m \u001b[0mx\u001b[0m \u001b[0;34m<=\u001b[0m \u001b[0mtotal\u001b[0m \u001b[0;32mand\u001b[0m \u001b[0mx\u001b[0m \u001b[0;34m>=\u001b[0m \u001b[0;36m0\u001b[0m\u001b[0;34m:\u001b[0m\u001b[0;34m\u001b[0m\u001b[0;34m\u001b[0m\u001b[0m\n\u001b[0m\u001b[1;32m      3\u001b[0m         \u001b[0mp\u001b[0m \u001b[0;34m=\u001b[0m \u001b[0mnp\u001b[0m\u001b[0;34m.\u001b[0m\u001b[0mround\u001b[0m\u001b[0;34m(\u001b[0m\u001b[0mx\u001b[0m\u001b[0;34m/\u001b[0m\u001b[0mtotal\u001b[0m\u001b[0;34m*\u001b[0m\u001b[0;36m100\u001b[0m\u001b[0;34m,\u001b[0m \u001b[0mn_decimals\u001b[0m\u001b[0;34m)\u001b[0m\u001b[0;34m\u001b[0m\u001b[0;34m\u001b[0m\u001b[0m\n\u001b[1;32m      4\u001b[0m         \u001b[0;32mreturn\u001b[0m\u001b[0;34m(\u001b[0m\u001b[0;34m\"{}%\"\u001b[0m\u001b[0;34m.\u001b[0m\u001b[0mformat\u001b[0m\u001b[0;34m(\u001b[0m\u001b[0mp\u001b[0m\u001b[0;34m)\u001b[0m\u001b[0;34m)\u001b[0m\u001b[0;34m\u001b[0m\u001b[0;34m\u001b[0m\u001b[0m\n\u001b[1;32m      5\u001b[0m     \u001b[0;32melse\u001b[0m\u001b[0;34m:\u001b[0m\u001b[0;34m\u001b[0m\u001b[0;34m\u001b[0m\u001b[0m\n",
      "\u001b[0;31mTypeError\u001b[0m: '<=' not supported between instances of 'list' and 'int'"
     ]
    }
   ],
   "source": [
    "print_percentage_dec([-1, 3], 120, 2)"
   ]
  },
  {
   "cell_type": "code",
   "execution_count": 38,
   "id": "vietnamese-beads",
   "metadata": {},
   "outputs": [],
   "source": [
    "def print_percentage_dec(x, total, n_decimals):\n",
    "    if type(x) is list:\n",
    "        out = []\n",
    "        for i in x:\n",
    "            if (i <= total) and (i >= 0):\n",
    "                p = np.round(i/total, 4)*100\n",
    "                out.append(str(p) + \"%\")\n",
    "            else:\n",
    "                out.append(\"NA\")\n",
    "        return out\n",
    "    else:\n",
    "        if (x <= total) and (x >= 0):\n",
    "            p = np.round(x/total, 4)*100\n",
    "            return(str(p) + \"%\")\n",
    "        else:\n",
    "            print(\"Invalid x value: x should be positive and smaller than its total.\")"
   ]
  },
  {
   "cell_type": "code",
   "execution_count": 39,
   "id": "electrical-assessment",
   "metadata": {},
   "outputs": [
    {
     "data": {
      "text/plain": [
       "'0.83%'"
      ]
     },
     "execution_count": 39,
     "metadata": {},
     "output_type": "execute_result"
    }
   ],
   "source": [
    "print_percentage_dec(1, 120, 2)"
   ]
  },
  {
   "cell_type": "code",
   "execution_count": 40,
   "id": "chubby-assurance",
   "metadata": {},
   "outputs": [
    {
     "data": {
      "text/plain": [
       "['0.83%', '4.17%', '100.0%']"
      ]
     },
     "execution_count": 40,
     "metadata": {},
     "output_type": "execute_result"
    }
   ],
   "source": [
    "print_percentage_dec([1, 5, 120], 120, 2)"
   ]
  },
  {
   "cell_type": "code",
   "execution_count": 42,
   "id": "hairy-contrary",
   "metadata": {},
   "outputs": [
    {
     "data": {
      "text/plain": [
       "['0.83%', 'NA', '100.0%']"
      ]
     },
     "execution_count": 42,
     "metadata": {},
     "output_type": "execute_result"
    }
   ],
   "source": [
    "print_percentage_dec([1, -5, 120], 120, 2)"
   ]
  },
  {
   "cell_type": "code",
   "execution_count": 21,
   "id": "lesser-discount",
   "metadata": {},
   "outputs": [],
   "source": [
    "# alternatively:\n",
    "def print_percentage_dec(x, total, n_decimals):\n",
    "    if type(x) is list:\n",
    "        for i in x:\n",
    "            if (i <= total) and (i >= 0):\n",
    "                p = np.round(i/total, 4)*100\n",
    "                print(str(p) + \"%\")\n",
    "            else:\n",
    "                print(\"Invalid x value: x should be positive and smaller than its total.\")\n",
    "    else:\n",
    "        if (x <= total) and (x >= 0):\n",
    "            p = np.round(x/total, 4)*100\n",
    "            print(str(p) + \"%\")\n",
    "        else:\n",
    "            print(\"Invalid x value: x should be positive and smaller than its total.\")"
   ]
  },
  {
   "cell_type": "code",
   "execution_count": 22,
   "id": "communist-morrison",
   "metadata": {},
   "outputs": [
    {
     "name": "stdout",
     "output_type": "stream",
     "text": [
      "Invalid x value: x should be positive and smaller than its total.\n",
      "4.17%\n",
      "100.0%\n"
     ]
    }
   ],
   "source": [
    "print_percentage_dec([-1, 5, 120], 120, 2)"
   ]
  }
 ],
 "metadata": {
  "kernelspec": {
   "display_name": "Python 3",
   "language": "python",
   "name": "python3"
  },
  "language_info": {
   "codemirror_mode": {
    "name": "ipython",
    "version": 3
   },
   "file_extension": ".py",
   "mimetype": "text/x-python",
   "name": "python",
   "nbconvert_exporter": "python",
   "pygments_lexer": "ipython3",
   "version": "3.6.13"
  }
 },
 "nbformat": 4,
 "nbformat_minor": 5
}
